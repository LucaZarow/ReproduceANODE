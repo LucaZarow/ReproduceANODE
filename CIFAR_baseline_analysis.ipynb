{
 "cells": [
  {
   "cell_type": "markdown",
   "metadata": {},
   "source": [
    "# Imports"
   ]
  },
  {
   "cell_type": "code",
   "execution_count": 33,
   "metadata": {},
   "outputs": [],
   "source": [
    "import torch\n",
    "import torch.optim as optim\n",
    "import numpy as np\n",
    "import node_models\n",
    "import loader\n",
    "import training\n",
    "import metrics\n",
    "import autotune\n",
    "import config"
   ]
  },
  {
   "cell_type": "markdown",
   "metadata": {},
   "source": [
    "# GPU"
   ]
  },
  {
   "cell_type": "code",
   "execution_count": 2,
   "metadata": {},
   "outputs": [],
   "source": [
    "device = torch.device(1)"
   ]
  },
  {
   "cell_type": "markdown",
   "metadata": {},
   "source": [
    "# Data Loading"
   ]
  },
  {
   "cell_type": "code",
   "execution_count": 3,
   "metadata": {},
   "outputs": [],
   "source": [
    "cifar_data_path = './cifar-10-batches-py'"
   ]
  },
  {
   "cell_type": "code",
   "execution_count": 4,
   "metadata": {},
   "outputs": [],
   "source": [
    "cifar_data = loader.CIFAR(cifar_data_path, 3)\n",
    "cifar_splits = cifar_data.splits"
   ]
  },
  {
   "cell_type": "code",
   "execution_count": 5,
   "metadata": {},
   "outputs": [
    {
     "name": "stdout",
     "output_type": "stream",
     "text": [
      "CIFAR STATS\n",
      "Number of splits: 3\n",
      "Number of segments per split (train, val, test): 3\n",
      "Info per segment (data, labels): 2\n",
      "Size of segement (num examples): 33334\n"
     ]
    }
   ],
   "source": [
    "print(\"CIFAR STATS\")\n",
    "print(\"Number of splits:\", len(cifar_splits))\n",
    "print(\"Number of segments per split (train, val, test):\", len(cifar_splits[0]))\n",
    "print(\"Info per segment (data, labels):\", len(cifar_splits[0][0]))\n",
    "print(\"Size of segement (num examples):\", len(cifar_splits[0][0][0]))"
   ]
  },
  {
   "cell_type": "markdown",
   "metadata": {},
   "source": [
    "# Model & Optimizer"
   ]
  },
  {
   "cell_type": "code",
   "execution_count": 6,
   "metadata": {
    "scrolled": false
   },
   "outputs": [],
   "source": [
    "model = node_models.NeuralODE\n",
    "optimizer = optim.Adam"
   ]
  },
  {
   "cell_type": "markdown",
   "metadata": {},
   "source": [
    "# Training and Evaluation"
   ]
  },
  {
   "cell_type": "markdown",
   "metadata": {},
   "source": [
    "## CIFAR"
   ]
  },
  {
   "cell_type": "markdown",
   "metadata": {},
   "source": [
    "### NODE"
   ]
  },
  {
   "cell_type": "code",
   "execution_count": 7,
   "metadata": {},
   "outputs": [],
   "source": [
    "model_params = config.baseline_config_cifar_node['model']\n",
    "lr, epochs, batch, workers = config.baseline_config_cifar_node['train']"
   ]
  },
  {
   "cell_type": "code",
   "execution_count": 8,
   "metadata": {},
   "outputs": [],
   "source": [
    "node_cifar_trainer = training.Trainer(model, optimizer, cifar_data, device)"
   ]
  },
  {
   "cell_type": "code",
   "execution_count": 9,
   "metadata": {},
   "outputs": [
    {
     "name": "stdout",
     "output_type": "stream",
     "text": [
      "[1,   347] loss: 9.45389\n",
      "[1,   694] loss: 1.87745\n",
      "[1,  1041] loss: 1.71557\n",
      "[Fold 1] Epoch:1 Training Acc:0.3281934361312774\n",
      "[Fold 1] Epoch:1 Validation Acc:0.41569662786511463\n",
      "[2,   347] loss: 1.58219\n",
      "[2,   694] loss: 1.56712\n",
      "[2,  1041] loss: 1.51496\n",
      "[Fold 1] Epoch:2 Training Acc:0.44384112317753643\n",
      "[Fold 1] Epoch:2 Validation Acc:0.43645745829833194\n",
      "[3,   347] loss: 1.43146\n",
      "[3,   694] loss: 1.42832\n",
      "[3,  1041] loss: 1.41765\n",
      "[Fold 1] Epoch:3 Training Acc:0.4909701805963881\n",
      "[Fold 1] Epoch:3 Validation Acc:0.4713788551542062\n",
      "[4,   347] loss: 1.31422\n",
      "[4,   694] loss: 1.33816\n",
      "[4,  1041] loss: 1.31784\n",
      "[Fold 1] Epoch:4 Training Acc:0.5279294414111718\n",
      "[Fold 1] Epoch:4 Validation Acc:0.5096603864154566\n",
      "[5,   347] loss: 1.19593\n",
      "[5,   694] loss: 1.23824\n",
      "[5,  1041] loss: 1.24455\n",
      "[Fold 1] Epoch:5 Training Acc:0.5659086818263634\n",
      "[Fold 1] Epoch:5 Validation Acc:0.5354614184567382\n",
      "[6,   347] loss: 1.11922\n",
      "[6,   694] loss: 1.16937\n",
      "[6,  1041] loss: 1.16499\n",
      "[Fold 1] Epoch:6 Training Acc:0.5910181796364072\n",
      "[Fold 1] Epoch:6 Validation Acc:0.5454218168726749\n",
      "[7,   347] loss: 1.03929\n",
      "[7,   694] loss: 1.11045\n",
      "[7,  1041] loss: 1.14130\n",
      "[Fold 1] Epoch:7 Training Acc:0.613997720045599\n",
      "[Fold 1] Epoch:7 Validation Acc:0.5045001800072003\n",
      "[8,   347] loss: 0.98213\n",
      "[8,   694] loss: 1.08021\n",
      "[8,  1041] loss: 1.11417\n",
      "[Fold 1] Epoch:8 Training Acc:0.623747525049499\n",
      "[Fold 1] Epoch:8 Validation Acc:0.531141245649826\n",
      "[9,   347] loss: 0.94987\n",
      "[9,   694] loss: 1.03704\n",
      "[9,  1041] loss: 1.06625\n",
      "[Fold 1] Epoch:9 Training Acc:0.6402771944561109\n",
      "[Fold 1] Epoch:9 Validation Acc:0.5420616824672987\n",
      "[10,   347] loss: 0.89599\n",
      "[10,   694] loss: 1.00294\n",
      "[10,  1041] loss: 1.03759\n",
      "[Fold 1] Epoch:10 Training Acc:0.6543769124617508\n",
      "[Fold 1] Epoch:10 Validation Acc:0.5591023640945638\n",
      "[1,   347] loss: 7.60223\n",
      "[1,   694] loss: 1.83684\n",
      "[1,  1041] loss: 1.72194\n",
      "[Fold 2] Epoch:1 Training Acc:0.32936341273174535\n",
      "[Fold 2] Epoch:1 Validation Acc:0.4000960038401536\n",
      "[2,   347] loss: 1.60733\n",
      "[2,   694] loss: 1.58622\n",
      "[2,  1041] loss: 1.55307\n",
      "[Fold 2] Epoch:2 Training Acc:0.44033119337613247\n",
      "[Fold 2] Epoch:2 Validation Acc:0.4449777991119645\n",
      "[3,   347] loss: 1.45533\n",
      "[3,   694] loss: 1.42571\n",
      "[3,  1041] loss: 1.42463\n",
      "[Fold 2] Epoch:3 Training Acc:0.49352012959740804\n",
      "[Fold 2] Epoch:3 Validation Acc:0.45505820232809313\n",
      "[4,   347] loss: 1.28908\n",
      "[4,   694] loss: 1.34108\n",
      "[4,  1041] loss: 1.34576\n",
      "[Fold 2] Epoch:4 Training Acc:0.5311393772124557\n",
      "[Fold 2] Epoch:4 Validation Acc:0.4987399495979839\n",
      "[5,   347] loss: 1.21317\n",
      "[5,   694] loss: 1.28282\n",
      "[5,  1041] loss: 1.28303\n",
      "[Fold 2] Epoch:5 Training Acc:0.5526789464210716\n",
      "[Fold 2] Epoch:5 Validation Acc:0.49249969998799953\n",
      "[6,   347] loss: 1.16708\n",
      "[6,   694] loss: 1.22308\n",
      "[6,  1041] loss: 1.22308\n",
      "[Fold 2] Epoch:6 Training Acc:0.5739185216295674\n",
      "[Fold 2] Epoch:6 Validation Acc:0.5184207368294732\n",
      "[7,   347] loss: 1.11349\n",
      "[7,   694] loss: 1.17780\n",
      "[7,  1041] loss: 1.18995\n",
      "[Fold 2] Epoch:7 Training Acc:0.5878982420351593\n",
      "[Fold 2] Epoch:7 Validation Acc:0.5249009960398416\n",
      "[8,   347] loss: 1.06140\n",
      "[8,   694] loss: 1.13964\n",
      "[8,  1041] loss: 1.15803\n",
      "[Fold 2] Epoch:8 Training Acc:0.6029279414411711\n",
      "[Fold 2] Epoch:8 Validation Acc:0.5174606984279371\n",
      "[9,   347] loss: 1.01328\n",
      "[9,   694] loss: 1.09101\n",
      "[9,  1041] loss: 1.12937\n",
      "[Fold 2] Epoch:9 Training Acc:0.619667606647867\n",
      "[Fold 2] Epoch:9 Validation Acc:0.5285011400456018\n",
      "[10,   347] loss: 0.97213\n",
      "[10,   694] loss: 1.05332\n",
      "[10,  1041] loss: 1.08895\n",
      "[Fold 2] Epoch:10 Training Acc:0.631007379852403\n",
      "[Fold 2] Epoch:10 Validation Acc:0.5202208088323533\n",
      "[1,   347] loss: 8.60242\n",
      "[1,   694] loss: 1.87380\n",
      "[1,  1041] loss: 1.73201\n",
      "[Fold 3] Epoch:1 Training Acc:0.3247029881195248\n",
      "[Fold 3] Epoch:1 Validation Acc:0.4077763110524421\n",
      "[2,   347] loss: 1.62965\n",
      "[2,   694] loss: 1.57480\n",
      "[2,  1041] loss: 1.54105\n",
      "[Fold 3] Epoch:2 Training Acc:0.437417496699868\n",
      "[Fold 3] Epoch:2 Validation Acc:0.4245769830793232\n",
      "[3,   347] loss: 1.45444\n",
      "[3,   694] loss: 1.45788\n",
      "[3,  1041] loss: 1.46981\n",
      "[Fold 3] Epoch:3 Training Acc:0.4749489979599184\n",
      "[Fold 3] Epoch:3 Validation Acc:0.46609864394575784\n",
      "[4,   347] loss: 1.37602\n",
      "[4,   694] loss: 1.40104\n",
      "[4,  1041] loss: 1.40359\n",
      "[Fold 3] Epoch:4 Training Acc:0.5037501500060002\n",
      "[Fold 3] Epoch:4 Validation Acc:0.47929917196687866\n",
      "[5,   347] loss: 1.30448\n",
      "[5,   694] loss: 1.33649\n",
      "[5,  1041] loss: 1.34946\n",
      "[Fold 3] Epoch:5 Training Acc:0.5299111964478579\n",
      "[Fold 3] Epoch:5 Validation Acc:0.49693987759510383\n",
      "[6,   347] loss: 1.20271\n",
      "[6,   694] loss: 1.25389\n",
      "[6,  1041] loss: 1.26864\n",
      "[Fold 3] Epoch:6 Training Acc:0.562072482899316\n",
      "[Fold 3] Epoch:6 Validation Acc:0.5052202088083524\n",
      "[7,   347] loss: 1.12425\n",
      "[7,   694] loss: 1.17957\n",
      "[7,  1041] loss: 1.20891\n",
      "[Fold 3] Epoch:7 Training Acc:0.5861034441377655\n",
      "[Fold 3] Epoch:7 Validation Acc:0.515300612024481\n",
      "[8,   347] loss: 1.05649\n",
      "[8,   694] loss: 1.11422\n",
      "[8,  1041] loss: 1.17229\n",
      "[Fold 3] Epoch:8 Training Acc:0.6065042601704068\n",
      "[Fold 3] Epoch:8 Validation Acc:0.5217808712348494\n",
      "[9,   347] loss: 1.00702\n",
      "[9,   694] loss: 1.09034\n",
      "[9,  1041] loss: 1.11721\n",
      "[Fold 3] Epoch:9 Training Acc:0.6217148685947438\n",
      "[Fold 3] Epoch:9 Validation Acc:0.5324612984519381\n",
      "[10,   347] loss: 0.97050\n",
      "[10,   694] loss: 1.04147\n",
      "[10,  1041] loss: 1.07234\n",
      "[Fold 3] Epoch:10 Training Acc:0.6359654386175447\n",
      "[Fold 3] Epoch:10 Validation Acc:0.514820592823713\n",
      "Best Fold Validation Results: [0.5591  0.52022 0.51482 0.      0.     ]\n",
      "Finished Cross Validation Training\n"
     ]
    }
   ],
   "source": [
    "node_cifar_trainer.train(model_params, lr, epochs, batch, num_workers=12, verbose=True, num_loss=3)"
   ]
  },
  {
   "cell_type": "code",
   "execution_count": 10,
   "metadata": {},
   "outputs": [
    {
     "name": "stdout",
     "output_type": "stream",
     "text": [
      "[Fold: 1] Testing Acc: 0.5437417496699868\n",
      "[Fold: 2] Testing Acc: 0.5120604824192968\n",
      "[Fold: 3] Testing Acc: 0.5066586682663468\n"
     ]
    }
   ],
   "source": [
    "node_cifar_trainer.test(model_params, 10, 3)"
   ]
  },
  {
   "cell_type": "code",
   "execution_count": 14,
   "metadata": {},
   "outputs": [],
   "source": [
    " torch.cuda.empty_cache()"
   ]
  },
  {
   "cell_type": "markdown",
   "metadata": {},
   "source": [
    "### ANODE"
   ]
  },
  {
   "cell_type": "code",
   "execution_count": 25,
   "metadata": {},
   "outputs": [],
   "source": [
    "model_params = config.baseline_config_cifar_anode['model']\n",
    "lr, epochs, batch, workers = config.baseline_config_cifar_anode['train']"
   ]
  },
  {
   "cell_type": "code",
   "execution_count": 26,
   "metadata": {},
   "outputs": [],
   "source": [
    "anode_cifar_trainer = training.Trainer(model, optimizer, cifar_data, device)"
   ]
  },
  {
   "cell_type": "code",
   "execution_count": 27,
   "metadata": {
    "scrolled": true
   },
   "outputs": [
    {
     "name": "stdout",
     "output_type": "stream",
     "text": [
      "[1,   347] loss: 74.22584\n",
      "[1,   694] loss: 5.75366\n",
      "[1,  1041] loss: 2.80304\n",
      "[Fold 1] Epoch:1 Training Acc:0.30506389872202555\n",
      "[Fold 1] Epoch:1 Validation Acc:0.36793471738869554\n",
      "[2,   347] loss: 1.66654\n",
      "[2,   694] loss: 1.53361\n",
      "[2,  1041] loss: 1.44040\n",
      "[Fold 1] Epoch:2 Training Acc:0.47876042479150416\n",
      "[Fold 1] Epoch:2 Validation Acc:0.47401896075843036\n",
      "[3,   347] loss: 1.19077\n",
      "[3,   694] loss: 1.27396\n",
      "[3,  1041] loss: 1.29088\n",
      "[Fold 1] Epoch:3 Training Acc:0.5708885822283555\n",
      "[Fold 1] Epoch:3 Validation Acc:0.5225009000360015\n",
      "[4,   347] loss: 1.04269\n",
      "[4,   694] loss: 1.14217\n",
      "[4,  1041] loss: 1.19150\n",
      "[Fold 1] Epoch:4 Training Acc:0.6152876942461151\n",
      "[Fold 1] Epoch:4 Validation Acc:0.5358214328573143\n",
      "[5,   347] loss: 0.95289\n",
      "[5,   694] loss: 1.09083\n",
      "[5,  1041] loss: 1.12861\n",
      "[Fold 1] Epoch:5 Training Acc:0.6414171716565669\n",
      "[Fold 1] Epoch:5 Validation Acc:0.546141845673827\n",
      "[6,   347] loss: 0.81021\n",
      "[6,   694] loss: 0.93469\n",
      "[6,  1041] loss: 1.07638\n",
      "[Fold 1] Epoch:6 Training Acc:0.6842263154736905\n",
      "[Fold 1] Epoch:6 Validation Acc:0.49249969998799953\n",
      "[7,   347] loss: 0.71741\n",
      "[7,   694] loss: 0.85752\n",
      "[7,  1041] loss: 0.96266\n",
      "[Fold 1] Epoch:7 Training Acc:0.7139857202855943\n",
      "[Fold 1] Epoch:7 Validation Acc:0.5443417736709468\n",
      "[8,   347] loss: 0.60081\n",
      "[8,   694] loss: 0.81172\n",
      "[8,  1041] loss: 0.88935\n",
      "[Fold 1] Epoch:8 Training Acc:0.745815083698326\n",
      "[Fold 1] Epoch:8 Validation Acc:0.5421816872674907\n",
      "[9,   347] loss: 0.50252\n",
      "[9,   694] loss: 0.67117\n",
      "[9,  1041] loss: 0.80892\n",
      "[Fold 1] Epoch:9 Training Acc:0.7780044399112018\n",
      "[Fold 1] Epoch:9 Validation Acc:0.5431417256690267\n",
      "[10,   347] loss: 0.46642\n",
      "[10,   694] loss: 0.63205\n",
      "[10,  1041] loss: 0.77803\n",
      "[Fold 1] Epoch:10 Training Acc:0.7936041279174416\n",
      "[Fold 1] Epoch:10 Validation Acc:0.5469818792751711\n",
      "[1,   347] loss: 37.21421\n",
      "[1,   694] loss: 5.56965\n",
      "[1,  1041] loss: 2.49313\n",
      "[Fold 2] Epoch:1 Training Acc:0.31982360352792943\n",
      "[Fold 2] Epoch:1 Validation Acc:0.4016560662426497\n",
      "[2,   347] loss: 1.61466\n",
      "[2,   694] loss: 1.49402\n",
      "[2,  1041] loss: 1.48208\n",
      "[Fold 2] Epoch:2 Training Acc:0.4823903521929561\n",
      "[Fold 2] Epoch:2 Validation Acc:0.46921876875075\n",
      "[3,   347] loss: 1.24197\n",
      "[3,   694] loss: 1.30020\n",
      "[3,  1041] loss: 1.37218\n",
      "[Fold 2] Epoch:3 Training Acc:0.5540889182216355\n",
      "[Fold 2] Epoch:3 Validation Acc:0.499819992799712\n",
      "[4,   347] loss: 1.07996\n",
      "[4,   694] loss: 1.24492\n",
      "[4,  1041] loss: 1.22101\n",
      "[Fold 2] Epoch:4 Training Acc:0.5983980320393593\n",
      "[Fold 2] Epoch:4 Validation Acc:0.5388215528621145\n",
      "[5,   347] loss: 0.95307\n",
      "[5,   694] loss: 1.08751\n",
      "[5,  1041] loss: 1.17297\n",
      "[Fold 2] Epoch:5 Training Acc:0.6366172676546469\n",
      "[Fold 2] Epoch:5 Validation Acc:0.5088203528141125\n",
      "[6,   347] loss: 0.80406\n",
      "[6,   694] loss: 0.92482\n",
      "[6,  1041] loss: 1.06714\n",
      "[Fold 2] Epoch:6 Training Acc:0.6829663406731865\n",
      "[Fold 2] Epoch:6 Validation Acc:0.5085803432137286\n",
      "[7,   347] loss: 0.63311\n",
      "[7,   694] loss: 0.86565\n",
      "[7,  1041] loss: 0.95750\n",
      "[Fold 2] Epoch:7 Training Acc:0.7230755384892302\n",
      "[Fold 2] Epoch:7 Validation Acc:0.5347413896555863\n",
      "[8,   347] loss: 0.54922\n",
      "[8,   694] loss: 0.73686\n",
      "[8,  1041] loss: 0.84341\n",
      "[Fold 2] Epoch:8 Training Acc:0.7584448311033779\n",
      "[Fold 2] Epoch:8 Validation Acc:0.5117004680187207\n",
      "[9,   347] loss: 0.47992\n",
      "[9,   694] loss: 0.62275\n",
      "[9,  1041] loss: 0.76148\n",
      "[Fold 2] Epoch:9 Training Acc:0.7863442731145377\n",
      "[Fold 2] Epoch:9 Validation Acc:0.5253810152406097\n",
      "[10,   347] loss: 0.42614\n",
      "[10,   694] loss: 0.55529\n",
      "[10,  1041] loss: 0.66342\n",
      "[Fold 2] Epoch:10 Training Acc:0.8137037259254815\n",
      "[Fold 2] Epoch:10 Validation Acc:0.5265810632425297\n",
      "[1,   347] loss: 42.27002\n",
      "[1,   694] loss: 6.43257\n",
      "[1,  1041] loss: 2.94344\n",
      "[Fold 3] Epoch:1 Training Acc:0.3076623064922597\n",
      "[Fold 3] Epoch:1 Validation Acc:0.3768150726029041\n",
      "[2,   347] loss: 1.72656\n",
      "[2,   694] loss: 1.58257\n",
      "[2,  1041] loss: 1.50891\n",
      "[Fold 3] Epoch:2 Training Acc:0.48166926677067085\n",
      "[Fold 3] Epoch:2 Validation Acc:0.45541821672866917\n",
      "[3,   347] loss: 1.21414\n",
      "[3,   694] loss: 1.32251\n",
      "[3,  1041] loss: 1.35542\n",
      "[Fold 3] Epoch:3 Training Acc:0.562822512900516\n",
      "[Fold 3] Epoch:3 Validation Acc:0.484579383175327\n",
      "[4,   347] loss: 1.09742\n",
      "[4,   694] loss: 1.18711\n",
      "[4,  1041] loss: 1.32287\n",
      "[Fold 3] Epoch:4 Training Acc:0.5976239049561982\n",
      "[Fold 3] Epoch:4 Validation Acc:0.5135005400216008\n",
      "[5,   347] loss: 0.91104\n",
      "[5,   694] loss: 1.17371\n",
      "[5,  1041] loss: 1.19920\n",
      "[Fold 3] Epoch:5 Training Acc:0.6388755550222008\n",
      "[Fold 3] Epoch:5 Validation Acc:0.48049921996879874\n",
      "[6,   347] loss: 0.77688\n",
      "[6,   694] loss: 0.98365\n",
      "[6,  1041] loss: 1.16567\n",
      "[Fold 3] Epoch:6 Training Acc:0.6795571822872915\n",
      "[Fold 3] Epoch:6 Validation Acc:0.5331813272530901\n",
      "[7,   347] loss: 0.69069\n",
      "[7,   694] loss: 0.88733\n",
      "[7,  1041] loss: 0.96882\n",
      "[Fold 3] Epoch:7 Training Acc:0.7136985479419177\n",
      "[Fold 3] Epoch:7 Validation Acc:0.5369014760590424\n",
      "[8,   347] loss: 0.58059\n",
      "[8,   694] loss: 0.82491\n",
      "[8,  1041] loss: 0.86692\n",
      "[Fold 3] Epoch:8 Training Acc:0.7457998319932797\n",
      "[Fold 3] Epoch:8 Validation Acc:0.5227409096363854\n",
      "[9,   347] loss: 0.51708\n",
      "[9,   694] loss: 0.65941\n",
      "[9,  1041] loss: 0.80649\n",
      "[Fold 3] Epoch:9 Training Acc:0.7774210968438737\n",
      "[Fold 3] Epoch:9 Validation Acc:0.530661226449058\n",
      "[10,   347] loss: 0.43278\n",
      "[10,   694] loss: 0.62391\n",
      "[10,  1041] loss: 0.74242\n",
      "[Fold 3] Epoch:10 Training Acc:0.7988419536781471\n",
      "[Fold 3] Epoch:10 Validation Acc:0.5277811112444498\n",
      "Best Fold Validation Results: [0.54698 0.52658 0.52778 0.      0.     ]\n",
      "Finished Cross Validation Training\n"
     ]
    }
   ],
   "source": [
    "anode_cifar_trainer.train(model_params, lr, epochs, batch, num_workers=12, verbose=True, num_loss=3)"
   ]
  },
  {
   "cell_type": "code",
   "execution_count": 28,
   "metadata": {},
   "outputs": [
    {
     "name": "stdout",
     "output_type": "stream",
     "text": [
      "[Fold: 1] Testing Acc: 0.5334213368534741\n",
      "[Fold: 2] Testing Acc: 0.5207008280331213\n",
      "[Fold: 3] Testing Acc: 0.5302939412117577\n"
     ]
    }
   ],
   "source": [
    "anode_cifar_trainer.test(model_params, 10, 3)"
   ]
  },
  {
   "cell_type": "code",
   "execution_count": 38,
   "metadata": {},
   "outputs": [
    {
     "name": "stdout",
     "output_type": "stream",
     "text": [
      "{'fold2': [0.060628909445547136, 0.04912606976433675, 0.04798959227980478, 0.04491099626895232, 0.04885892389230649, 0.05267452773792638, 0.05245044754859881, 0.06020561529782358, 0.06292828509433636, 0.06495151837504698], 'fold1': [0.06735657558397673, 0.04859225384888351, 0.04492936035056911, 0.043722554148995944, 0.04750748108690217, 0.06033040852617076, 0.04979965679073025, 0.054485801959200865, 0.06163176544771523, 0.06266300270254982], 'fold3': [0.07367163387993497, 0.052990717760843915, 0.048391272472931846, 0.04650049623458251, 0.05733130373875233, 0.0525236081049878, 0.05350294407713274, 0.057034276197841585, 0.060662169559769, 0.06517506346015331]}\n"
     ]
    }
   ],
   "source": [
    "print(anode_cifar_trainer.val_metrics['loss'])"
   ]
  },
  {
   "cell_type": "markdown",
   "metadata": {},
   "source": [
    "# Plots"
   ]
  },
  {
   "cell_type": "code",
   "execution_count": 31,
   "metadata": {},
   "outputs": [],
   "source": [
    "node_cifar_trainer.val_metrics['legend'] = 'NODE'\n",
    "anode_cifar_trainer.val_metrics['legend'] = 'ANODE'\n",
    "out_metrics = [node_cifar_trainer.val_metrics, anode_cifar_trainer.val_metrics]"
   ]
  },
  {
   "cell_type": "code",
   "execution_count": 34,
   "metadata": {},
   "outputs": [],
   "source": [
    "plt = metrics.Plotter(out_metrics)"
   ]
  },
  {
   "cell_type": "code",
   "execution_count": 35,
   "metadata": {},
   "outputs": [
    {
     "data": {
      "image/png": "[encoded data removed]",
      "text/plain": [
       "<Figure size 360x360 with 1 Axes>"
      ]
     },
     "metadata": {
      "needs_background": "light"
     },
     "output_type": "display_data"
    }
   ],
   "source": [
    "plt.plotLoss(\"Optimized Model Validation Loss Comparisons\")"
   ]
  },
  {
   "cell_type": "code",
   "execution_count": 36,
   "metadata": {},
   "outputs": [
    {
     "data": {
      "image/png": "[encoded data removed]",
      "text/plain": [
       "<Figure size 360x360 with 1 Axes>"
      ]
     },
     "metadata": {
      "needs_background": "light"
     },
     "output_type": "display_data"
    }
   ],
   "source": [
    "plt.plotAccuracy(\"Optimized Model Validation Accuracy Comparisons\")"
   ]
  },
  {
   "cell_type": "code",
   "execution_count": null,
   "metadata": {},
   "outputs": [],
   "source": []
  }
 ],
 "metadata": {
  "kernelspec": {
   "display_name": "Python 3",
   "language": "python",
   "name": "python3"
  },
  "language_info": {
   "codemirror_mode": {
    "name": "ipython",
    "version": 3
   },
   "file_extension": ".py",
   "mimetype": "text/x-python",
   "name": "python",
   "nbconvert_exporter": "python",
   "pygments_lexer": "ipython3",
   "version": "3.5.2"
  }
 },
 "nbformat": 4,
 "nbformat_minor": 2
}
