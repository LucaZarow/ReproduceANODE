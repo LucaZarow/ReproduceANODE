{
 "cells": [
  {
   "cell_type": "markdown",
   "metadata": {},
   "source": [
    "# Imports"
   ]
  },
  {
   "cell_type": "code",
   "execution_count": 1,
   "metadata": {},
   "outputs": [],
   "source": [
    "import torch\n",
    "import numpy as np\n",
    "import matplotlib.pyplot as plt\n",
    "import models\n",
    "import loader\n",
    "import training"
   ]
  },
  {
   "cell_type": "markdown",
   "metadata": {},
   "source": [
    "# GPU"
   ]
  },
  {
   "cell_type": "code",
   "execution_count": 2,
   "metadata": {},
   "outputs": [],
   "source": [
    "device = torch.device(\"cuda\")"
   ]
  },
  {
   "cell_type": "markdown",
   "metadata": {},
   "source": [
    "# Data Loading"
   ]
  },
  {
   "cell_type": "code",
   "execution_count": 3,
   "metadata": {},
   "outputs": [],
   "source": [
    "mnist_data_path = './train-images-idx3-ubyte'\n",
    "mnist_label_path = './train-labels-idx1-ubyte'\n",
    "\n",
    "cifar_data_path = './cifar-10-batches-py'"
   ]
  },
  {
   "cell_type": "code",
   "execution_count": 4,
   "metadata": {},
   "outputs": [],
   "source": [
    "#5-fold generation\n",
    "mnist_data = loader.MNIST(mnist_data_path, mnist_label_path, 5)\n",
    "mnist_splits = mnist_data.splits\n",
    "\n",
    "cifar_data = loader.CIFAR(cifar_data_path, 5)\n",
    "cifar_splits = cifar_data.splits"
   ]
  },
  {
   "cell_type": "code",
   "execution_count": 5,
   "metadata": {},
   "outputs": [
    {
     "name": "stdout",
     "output_type": "stream",
     "text": [
      "MNIST STATS\n",
      "Number of splits: 5\n",
      "Number of segments per split (train, val, test): 3\n",
      "Info per segment (data, labels): 2\n",
      "Size of segement (num examples): 48000\n",
      "\n",
      "CIFAR STATS\n",
      "Number of splits: 5\n",
      "Number of segments per split (train, val, test): 3\n",
      "Info per segment (data, labels): 2\n",
      "Size of segement (num examples): 40000\n"
     ]
    }
   ],
   "source": [
    "print(\"MNIST STATS\")\n",
    "print(\"Number of splits:\", len(mnist_splits))\n",
    "print(\"Number of segments per split (train, val, test):\", len(mnist_splits[0]))\n",
    "print(\"Info per segment (data, labels):\", len(mnist_splits[0][0]))\n",
    "print(\"Size of segement (num examples):\", len(mnist_splits[0][0][0]))\n",
    "print()\n",
    "print(\"CIFAR STATS\")\n",
    "print(\"Number of splits:\", len(cifar_splits))\n",
    "print(\"Number of segments per split (train, val, test):\", len(cifar_splits[0]))\n",
    "print(\"Info per segment (data, labels):\", len(cifar_splits[0][0]))\n",
    "print(\"Size of segement (num examples):\", len(cifar_splits[0][0][0]))"
   ]
  },
  {
   "cell_type": "markdown",
   "metadata": {},
   "source": [
    "# Model"
   ]
  },
  {
   "cell_type": "code",
   "execution_count": 6,
   "metadata": {
    "scrolled": false
   },
   "outputs": [],
   "source": [
    "mnist_net = models.VanillaCNN(in_channels=1)\n",
    "cifar_net = models.VanillaCNN(in_channels=3)"
   ]
  },
  {
   "cell_type": "markdown",
   "metadata": {},
   "source": [
    "# Training and Evaluation"
   ]
  },
  {
   "cell_type": "markdown",
   "metadata": {},
   "source": [
    "## MNIST"
   ]
  },
  {
   "cell_type": "code",
   "execution_count": 7,
   "metadata": {},
   "outputs": [],
   "source": [
    "mnist_trainer = training.Trainer(mnist_data, device)"
   ]
  },
  {
   "cell_type": "code",
   "execution_count": 8,
   "metadata": {},
   "outputs": [
    {
     "name": "stdout",
     "output_type": "stream",
     "text": [
      "[Fold 1] Epoch:1 Training Acc:0.31033333333333335\n",
      "[Fold 1] Epoch:1 Validation Acc:0.5318333333333334\n",
      "[Fold 1] Epoch:2 Training Acc:0.49216666666666664\n",
      "[Fold 1] Epoch:2 Validation Acc:0.6716666666666666\n",
      "[Fold 1] Epoch:3 Training Acc:0.6239791666666666\n",
      "[Fold 1] Epoch:3 Validation Acc:0.7798333333333334\n",
      "[Fold 2] Epoch:1 Training Acc:0.34110416666666665\n",
      "[Fold 2] Epoch:1 Validation Acc:0.5893333333333334\n",
      "[Fold 2] Epoch:2 Training Acc:0.5653958333333333\n",
      "[Fold 2] Epoch:2 Validation Acc:0.8026666666666666\n",
      "[Fold 2] Epoch:3 Training Acc:0.68275\n",
      "[Fold 2] Epoch:3 Validation Acc:0.8678333333333333\n",
      "[Fold 3] Epoch:1 Training Acc:0.35108333333333336\n",
      "[Fold 3] Epoch:1 Validation Acc:0.6371666666666667\n",
      "[Fold 3] Epoch:2 Training Acc:0.5828958333333333\n",
      "[Fold 3] Epoch:2 Validation Acc:0.8003333333333333\n",
      "[Fold 3] Epoch:3 Training Acc:0.6969166666666666\n",
      "[Fold 3] Epoch:3 Validation Acc:0.844\n",
      "[Fold 4] Epoch:1 Training Acc:0.37275\n",
      "[Fold 4] Epoch:1 Validation Acc:0.6298333333333334\n",
      "[Fold 4] Epoch:2 Training Acc:0.618375\n",
      "[Fold 4] Epoch:2 Validation Acc:0.7818333333333334\n",
      "[Fold 4] Epoch:3 Training Acc:0.7063541666666666\n",
      "[Fold 4] Epoch:3 Validation Acc:0.86\n",
      "[Fold 5] Epoch:1 Training Acc:0.364875\n",
      "[Fold 5] Epoch:1 Validation Acc:0.5816666666666667\n",
      "[Fold 5] Epoch:2 Training Acc:0.6065208333333333\n",
      "[Fold 5] Epoch:2 Validation Acc:0.755\n",
      "[Fold 5] Epoch:3 Training Acc:0.7133333333333334\n",
      "[Fold 5] Epoch:3 Validation Acc:0.8141666666666667\n",
      "Best Fold Validation Results: [0.77983 0.86783 0.844   0.86    0.81417]\n",
      "Finished Cross Validation Training\n"
     ]
    }
   ],
   "source": [
    "mnist_trainer.train(mnist_net, 3, 1e-3, 256, 8, verbose=False, num_loss=3)"
   ]
  },
  {
   "cell_type": "code",
   "execution_count": 9,
   "metadata": {},
   "outputs": [
    {
     "name": "stdout",
     "output_type": "stream",
     "text": [
      "[Fold: 1] Testing Acc: 0.7676666666666667\n",
      "[Fold: 2] Testing Acc: 0.858\n",
      "[Fold: 3] Testing Acc: 0.8416666666666667\n",
      "[Fold: 4] Testing Acc: 0.8613333333333333\n",
      "[Fold: 5] Testing Acc: 0.8171666666666667\n"
     ]
    }
   ],
   "source": [
    "mnist_trainer.test(mnist_net, 128, 12)"
   ]
  },
  {
   "cell_type": "code",
   "execution_count": 24,
   "metadata": {},
   "outputs": [
    {
     "name": "stdout",
     "output_type": "stream",
     "text": [
      "fold1\n",
      "fold2\n",
      "fold3\n",
      "fold4\n",
      "fold5\n",
      "fold1\n",
      "fold2\n",
      "fold3\n",
      "fold4\n",
      "fold5\n"
     ]
    }
   ],
   "source": [
    "print()\n",
    "for key in mnist_trainer.train_metrics.keys():\n",
    "    for key2 in mnist_trainer.train_metrics[key].keys():\n",
    "        print(key2)"
   ]
  },
  {
   "cell_type": "markdown",
   "metadata": {},
   "source": [
    "## CIFAR"
   ]
  },
  {
   "cell_type": "code",
   "execution_count": 11,
   "metadata": {},
   "outputs": [],
   "source": [
    "cifar_trainer = training.Trainer(cifar_data, device)"
   ]
  },
  {
   "cell_type": "code",
   "execution_count": 12,
   "metadata": {},
   "outputs": [
    {
     "name": "stdout",
     "output_type": "stream",
     "text": [
      "[Fold 1] Epoch:1 Training Acc:0.245675\n",
      "[Fold 1] Epoch:1 Validation Acc:0.359\n",
      "[Fold 2] Epoch:1 Training Acc:0.2548\n",
      "[Fold 2] Epoch:1 Validation Acc:0.3486\n",
      "[Fold 3] Epoch:1 Training Acc:0.254425\n",
      "[Fold 3] Epoch:1 Validation Acc:0.3522\n",
      "[Fold 4] Epoch:1 Training Acc:0.262425\n",
      "[Fold 4] Epoch:1 Validation Acc:0.3938\n",
      "[Fold 5] Epoch:1 Training Acc:0.2641\n",
      "[Fold 5] Epoch:1 Validation Acc:0.3424\n",
      "Best Fold Validation Results: [0.359  0.3486 0.3522 0.3938 0.3424]\n",
      "Finished Cross Validation Training\n"
     ]
    }
   ],
   "source": [
    "cifar_trainer.train(cifar_net, 1, 1e-3, 32, 8, verbose=False, num_loss=3)"
   ]
  },
  {
   "cell_type": "code",
   "execution_count": 13,
   "metadata": {},
   "outputs": [
    {
     "name": "stdout",
     "output_type": "stream",
     "text": [
      "[Fold: 1] Testing Acc: 0.349\n",
      "[Fold: 2] Testing Acc: 0.3526\n",
      "[Fold: 3] Testing Acc: 0.361\n",
      "[Fold: 4] Testing Acc: 0.3814\n",
      "[Fold: 5] Testing Acc: 0.3438\n"
     ]
    }
   ],
   "source": [
    "cifar_trainer.test(cifar_net, 128, 12)"
   ]
  }
 ],
 "metadata": {
  "kernelspec": {
   "display_name": "Python 3",
   "language": "python",
   "name": "python3"
  },
  "language_info": {
   "codemirror_mode": {
    "name": "ipython",
    "version": 3
   },
   "file_extension": ".py",
   "mimetype": "text/x-python",
   "name": "python",
   "nbconvert_exporter": "python",
   "pygments_lexer": "ipython3",
   "version": "3.6.8"
  }
 },
 "nbformat": 4,
 "nbformat_minor": 2
}
