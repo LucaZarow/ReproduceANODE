{
 "cells": [
  {
   "cell_type": "markdown",
   "metadata": {},
   "source": [
    "# Imports"
   ]
  },
  {
   "cell_type": "code",
   "execution_count": 1,
   "metadata": {},
   "outputs": [],
   "source": [
    "import torch\n",
    "import numpy as np\n",
    "import matplotlib.pyplot as plt\n",
    "import models\n",
    "import loader\n",
    "import training"
   ]
  },
  {
   "cell_type": "markdown",
   "metadata": {},
   "source": [
    "# GPU"
   ]
  },
  {
   "cell_type": "code",
   "execution_count": 2,
   "metadata": {},
   "outputs": [],
   "source": [
    "device = torch.device(\"cuda\")"
   ]
  },
  {
   "cell_type": "markdown",
   "metadata": {},
   "source": [
    "# Data Loading"
   ]
  },
  {
   "cell_type": "code",
   "execution_count": 3,
   "metadata": {},
   "outputs": [],
   "source": [
    "mnist_data_path = './train-images-idx3-ubyte'\n",
    "mnist_label_path = './train-labels-idx1-ubyte'\n",
    "\n",
    "cifar_data_path = './cifar-10-batches-py'"
   ]
  },
  {
   "cell_type": "code",
   "execution_count": 4,
   "metadata": {},
   "outputs": [],
   "source": [
    "#5-fold generation\n",
    "mnist_data = loader.MNIST(mnist_data_path, mnist_label_path, 5)\n",
    "mnist_splits = mnist_data.splits\n",
    "\n",
    "cifar_data = loader.CIFAR(cifar_data_path, 5)\n",
    "cifar_splits = cifar_data.splits"
   ]
  },
  {
   "cell_type": "code",
   "execution_count": 5,
   "metadata": {},
   "outputs": [
    {
     "name": "stdout",
     "output_type": "stream",
     "text": [
      "MNIST STATS\n",
      "Number of splits: 5\n",
      "Number of segments per split (train, val, test): 3\n",
      "Info per segment (data, labels): 2\n",
      "Size of segement (num examples): 48000\n",
      "\n",
      "CIFAR STATS\n",
      "Number of splits: 5\n",
      "Number of segments per split (train, val, test): 3\n",
      "Info per segment (data, labels): 2\n",
      "Size of segement (num examples): 40000\n"
     ]
    }
   ],
   "source": [
    "print(\"MNIST STATS\")\n",
    "print(\"Number of splits:\", len(mnist_splits))\n",
    "print(\"Number of segments per split (train, val, test):\", len(mnist_splits[0]))\n",
    "print(\"Info per segment (data, labels):\", len(mnist_splits[0][0]))\n",
    "print(\"Size of segement (num examples):\", len(mnist_splits[0][0][0]))\n",
    "print()\n",
    "print(\"CIFAR STATS\")\n",
    "print(\"Number of splits:\", len(cifar_splits))\n",
    "print(\"Number of segments per split (train, val, test):\", len(cifar_splits[0]))\n",
    "print(\"Info per segment (data, labels):\", len(cifar_splits[0][0]))\n",
    "print(\"Size of segement (num examples):\", len(cifar_splits[0][0][0]))"
   ]
  },
  {
   "cell_type": "markdown",
   "metadata": {},
   "source": [
    "# Model"
   ]
  },
  {
   "cell_type": "code",
   "execution_count": 6,
   "metadata": {
    "scrolled": false
   },
   "outputs": [],
   "source": [
    "mnist_net = models.VanillaCNN(in_channels=1)\n",
    "cifar_net = models.VanillaCNN(in_channels=3)"
   ]
  },
  {
   "cell_type": "markdown",
   "metadata": {},
   "source": [
    "# Training and Evaluation"
   ]
  },
  {
   "cell_type": "markdown",
   "metadata": {},
   "source": [
    "## MNIST"
   ]
  },
  {
   "cell_type": "code",
   "execution_count": 7,
   "metadata": {},
   "outputs": [],
   "source": [
    "trainer = training.Trainer(mnist_data, device)"
   ]
  },
  {
   "cell_type": "code",
   "execution_count": 8,
   "metadata": {},
   "outputs": [
    {
     "name": "stdout",
     "output_type": "stream",
     "text": [
      "[Fold 1] Epoch:1 Training Acc:0.48314583333333333\n",
      "[Fold 1] Epoch:1 Validation Acc:0.7896666666666666\n",
      "[Fold 2] Epoch:1 Training Acc:0.5525208333333333\n",
      "[Fold 2] Epoch:1 Validation Acc:0.8861666666666667\n",
      "[Fold 3] Epoch:1 Training Acc:0.5627291666666666\n",
      "[Fold 3] Epoch:1 Validation Acc:0.867\n",
      "[Fold 4] Epoch:1 Training Acc:0.5653125\n",
      "[Fold 4] Epoch:1 Validation Acc:0.8995\n",
      "[Fold 5] Epoch:1 Training Acc:0.5905625\n",
      "[Fold 5] Epoch:1 Validation Acc:0.9003333333333333\n",
      "Best Fold Validation Results: [0.78967 0.88617 0.867   0.8995  0.90033]\n",
      "Finished Cross Validation Training\n"
     ]
    }
   ],
   "source": [
    "trainer.train(mnist_net, 1, 1e-3, 32, 8, verbose=False, num_loss=3)"
   ]
  },
  {
   "cell_type": "code",
   "execution_count": 9,
   "metadata": {},
   "outputs": [
    {
     "name": "stdout",
     "output_type": "stream",
     "text": [
      "[Fold: 1] Testing Acc: 0.7758333333333334\n",
      "[Fold: 2] Testing Acc: 0.8943333333333333\n",
      "[Fold: 3] Testing Acc: 0.8745\n",
      "[Fold: 4] Testing Acc: 0.8986666666666666\n",
      "[Fold: 5] Testing Acc: 0.8978333333333334\n"
     ]
    }
   ],
   "source": [
    "trainer.test(mnist_net, 128, 12)"
   ]
  },
  {
   "cell_type": "markdown",
   "metadata": {},
   "source": [
    "## CIFAR"
   ]
  },
  {
   "cell_type": "code",
   "execution_count": 10,
   "metadata": {},
   "outputs": [],
   "source": [
    "trainer = training.Trainer(cifar_data, device)"
   ]
  },
  {
   "cell_type": "code",
   "execution_count": 11,
   "metadata": {},
   "outputs": [
    {
     "name": "stdout",
     "output_type": "stream",
     "text": [
      "[Fold 1] Epoch:1 Training Acc:0.245925\n",
      "[Fold 1] Epoch:1 Validation Acc:0.3206\n",
      "[Fold 2] Epoch:1 Training Acc:0.25915\n",
      "[Fold 2] Epoch:1 Validation Acc:0.3824\n",
      "[Fold 3] Epoch:1 Training Acc:0.257075\n",
      "[Fold 3] Epoch:1 Validation Acc:0.3424\n",
      "[Fold 4] Epoch:1 Training Acc:0.2504\n",
      "[Fold 4] Epoch:1 Validation Acc:0.372\n",
      "[Fold 5] Epoch:1 Training Acc:0.2636\n",
      "[Fold 5] Epoch:1 Validation Acc:0.3606\n",
      "Best Fold Validation Results: [0.3206 0.3824 0.3424 0.372  0.3606]\n",
      "Finished Cross Validation Training\n"
     ]
    }
   ],
   "source": [
    "trainer.train(cifar_net, 1, 1e-3, 32, 8, verbose=False, num_loss=3)"
   ]
  },
  {
   "cell_type": "code",
   "execution_count": 12,
   "metadata": {},
   "outputs": [
    {
     "name": "stdout",
     "output_type": "stream",
     "text": [
      "[Fold: 1] Testing Acc: 0.3276\n",
      "[Fold: 2] Testing Acc: 0.3682\n",
      "[Fold: 3] Testing Acc: 0.33\n",
      "[Fold: 4] Testing Acc: 0.3716\n",
      "[Fold: 5] Testing Acc: 0.3586\n"
     ]
    }
   ],
   "source": [
    "trainer.test(cifar_net, 128, 12)"
   ]
  }
 ],
 "metadata": {
  "kernelspec": {
   "display_name": "Python 3",
   "language": "python",
   "name": "python3"
  },
  "language_info": {
   "codemirror_mode": {
    "name": "ipython",
    "version": 3
   },
   "file_extension": ".py",
   "mimetype": "text/x-python",
   "name": "python",
   "nbconvert_exporter": "python",
   "pygments_lexer": "ipython3",
   "version": "3.6.8"
  }
 },
 "nbformat": 4,
 "nbformat_minor": 2
}
