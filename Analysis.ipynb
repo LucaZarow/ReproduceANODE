{
 "cells": [
  {
   "cell_type": "markdown",
   "metadata": {},
   "source": [
    "# Imports"
   ]
  },
  {
   "cell_type": "code",
   "execution_count": 1,
   "metadata": {},
   "outputs": [],
   "source": [
    "import torch\n",
    "import numpy as np\n",
    "import matplotlib.pyplot as plt\n",
    "import models\n",
    "import loader\n",
    "import training\n",
    "import metrics"
   ]
  },
  {
   "cell_type": "markdown",
   "metadata": {},
   "source": [
    "# GPU"
   ]
  },
  {
   "cell_type": "code",
   "execution_count": 2,
   "metadata": {},
   "outputs": [],
   "source": [
    "device = torch.device(\"cuda\")"
   ]
  },
  {
   "cell_type": "markdown",
   "metadata": {},
   "source": [
    "# Data Loading"
   ]
  },
  {
   "cell_type": "code",
   "execution_count": 3,
   "metadata": {},
   "outputs": [],
   "source": [
    "mnist_data_path = './train-images-idx3-ubyte'\n",
    "mnist_label_path = './train-labels-idx1-ubyte'\n",
    "\n",
    "cifar_data_path = './cifar-10-batches-py'"
   ]
  },
  {
   "cell_type": "code",
   "execution_count": 4,
   "metadata": {},
   "outputs": [],
   "source": [
    "#5-fold generation\n",
    "mnist_data = loader.MNIST(mnist_data_path, mnist_label_path, 5)\n",
    "mnist_splits = mnist_data.splits\n",
    "\n",
    "cifar_data = loader.CIFAR(cifar_data_path, 5)\n",
    "cifar_splits = cifar_data.splits"
   ]
  },
  {
   "cell_type": "code",
   "execution_count": 5,
   "metadata": {},
   "outputs": [
    {
     "name": "stdout",
     "output_type": "stream",
     "text": [
      "MNIST STATS\n",
      "Number of splits: 5\n",
      "Number of segments per split (train, val, test): 3\n",
      "Info per segment (data, labels): 2\n",
      "Size of segement (num examples): 48000\n",
      "\n",
      "CIFAR STATS\n",
      "Number of splits: 5\n",
      "Number of segments per split (train, val, test): 3\n",
      "Info per segment (data, labels): 2\n",
      "Size of segement (num examples): 40000\n"
     ]
    }
   ],
   "source": [
    "print(\"MNIST STATS\")\n",
    "print(\"Number of splits:\", len(mnist_splits))\n",
    "print(\"Number of segments per split (train, val, test):\", len(mnist_splits[0]))\n",
    "print(\"Info per segment (data, labels):\", len(mnist_splits[0][0]))\n",
    "print(\"Size of segement (num examples):\", len(mnist_splits[0][0][0]))\n",
    "print()\n",
    "print(\"CIFAR STATS\")\n",
    "print(\"Number of splits:\", len(cifar_splits))\n",
    "print(\"Number of segments per split (train, val, test):\", len(cifar_splits[0]))\n",
    "print(\"Info per segment (data, labels):\", len(cifar_splits[0][0]))\n",
    "print(\"Size of segement (num examples):\", len(cifar_splits[0][0][0]))"
   ]
  },
  {
   "cell_type": "markdown",
   "metadata": {},
   "source": [
    "# Model"
   ]
  },
  {
   "cell_type": "code",
   "execution_count": 6,
   "metadata": {
    "scrolled": false
   },
   "outputs": [],
   "source": [
    "mnist_net = models.VanillaCNN(in_channels=1)\n",
    "cifar_net = models.VanillaCNN(in_channels=3)"
   ]
  },
  {
   "cell_type": "markdown",
   "metadata": {},
   "source": [
    "# Training and Evaluation"
   ]
  },
  {
   "cell_type": "markdown",
   "metadata": {},
   "source": [
    "## MNIST"
   ]
  },
  {
   "cell_type": "code",
   "execution_count": 7,
   "metadata": {},
   "outputs": [],
   "source": [
    "mnist_trainer = training.Trainer(mnist_data, device)"
   ]
  },
  {
   "cell_type": "code",
   "execution_count": null,
   "metadata": {
    "scrolled": true
   },
   "outputs": [
    {
     "name": "stdout",
     "output_type": "stream",
     "text": [
      "[Fold 1] Epoch:1 Training Acc:0.3649375\n",
      "[Fold 1] Epoch:1 Validation Acc:0.6368333333333334\n",
      "[Fold 1] Epoch:2 Training Acc:0.6105208333333333\n",
      "[Fold 1] Epoch:2 Validation Acc:0.8205\n",
      "[Fold 1] Epoch:3 Training Acc:0.7319583333333334\n",
      "[Fold 1] Epoch:3 Validation Acc:0.9123333333333333\n",
      "[Fold 1] Epoch:4 Training Acc:0.788625\n",
      "[Fold 1] Epoch:4 Validation Acc:0.929\n",
      "[Fold 1] Epoch:5 Training Acc:0.815625\n",
      "[Fold 1] Epoch:5 Validation Acc:0.9348333333333333\n",
      "[Fold 1] Epoch:6 Training Acc:0.8329375\n",
      "[Fold 1] Epoch:6 Validation Acc:0.9468333333333333\n",
      "[Fold 1] Epoch:7 Training Acc:0.8415833333333333\n",
      "[Fold 1] Epoch:7 Validation Acc:0.9493333333333334\n",
      "[Fold 1] Epoch:8 Training Acc:0.8523541666666666\n",
      "[Fold 1] Epoch:8 Validation Acc:0.9495\n",
      "[Fold 1] Epoch:9 Training Acc:0.8580416666666667\n",
      "[Fold 1] Epoch:9 Validation Acc:0.9535\n",
      "[Fold 1] Epoch:10 Training Acc:0.8646458333333333\n",
      "[Fold 1] Epoch:10 Validation Acc:0.9578333333333333\n",
      "[Fold 1] Epoch:11 Training Acc:0.8674375\n",
      "[Fold 1] Epoch:11 Validation Acc:0.9603333333333334\n",
      "[Fold 1] Epoch:12 Training Acc:0.874125\n",
      "[Fold 1] Epoch:12 Validation Acc:0.9598333333333333\n",
      "[Fold 1] Epoch:13 Training Acc:0.8770625\n",
      "[Fold 1] Epoch:13 Validation Acc:0.9633333333333334\n",
      "[Fold 1] Epoch:14 Training Acc:0.8837083333333333\n",
      "[Fold 1] Epoch:14 Validation Acc:0.9643333333333334\n",
      "[Fold 1] Epoch:15 Training Acc:0.8839375\n",
      "[Fold 1] Epoch:15 Validation Acc:0.9648333333333333\n",
      "[Fold 1] Epoch:16 Training Acc:0.8885833333333333\n",
      "[Fold 1] Epoch:16 Validation Acc:0.9663333333333334\n",
      "[Fold 1] Epoch:17 Training Acc:0.8908541666666666\n",
      "[Fold 1] Epoch:17 Validation Acc:0.968\n",
      "[Fold 1] Epoch:18 Training Acc:0.8926875\n",
      "[Fold 1] Epoch:18 Validation Acc:0.968\n",
      "[Fold 1] Epoch:19 Training Acc:0.894375\n",
      "[Fold 1] Epoch:19 Validation Acc:0.9701666666666666\n",
      "[Fold 1] Epoch:20 Training Acc:0.8948333333333334\n",
      "[Fold 1] Epoch:20 Validation Acc:0.9691666666666666\n",
      "[Fold 2] Epoch:1 Training Acc:0.47525\n",
      "[Fold 2] Epoch:1 Validation Acc:0.7421666666666666\n",
      "[Fold 2] Epoch:2 Training Acc:0.7156666666666667\n",
      "[Fold 2] Epoch:2 Validation Acc:0.8441666666666666\n",
      "[Fold 2] Epoch:3 Training Acc:0.7826458333333334\n",
      "[Fold 2] Epoch:3 Validation Acc:0.8673333333333333\n",
      "[Fold 2] Epoch:4 Training Acc:0.8157291666666666\n",
      "[Fold 2] Epoch:4 Validation Acc:0.9131666666666667\n",
      "[Fold 2] Epoch:5 Training Acc:0.835625\n",
      "[Fold 2] Epoch:5 Validation Acc:0.9313333333333333\n",
      "[Fold 2] Epoch:6 Training Acc:0.8495416666666666\n",
      "[Fold 2] Epoch:6 Validation Acc:0.9368333333333333\n",
      "[Fold 2] Epoch:7 Training Acc:0.858\n",
      "[Fold 2] Epoch:7 Validation Acc:0.9423333333333334\n",
      "[Fold 2] Epoch:8 Training Acc:0.865\n",
      "[Fold 2] Epoch:8 Validation Acc:0.9461666666666667\n",
      "[Fold 2] Epoch:9 Training Acc:0.8708541666666667\n",
      "[Fold 2] Epoch:9 Validation Acc:0.9503333333333334\n",
      "[Fold 2] Epoch:10 Training Acc:0.8735\n",
      "[Fold 2] Epoch:10 Validation Acc:0.955\n",
      "[Fold 2] Epoch:11 Training Acc:0.8809583333333333\n",
      "[Fold 2] Epoch:11 Validation Acc:0.9543333333333334\n",
      "[Fold 2] Epoch:12 Training Acc:0.8834166666666666\n",
      "[Fold 2] Epoch:12 Validation Acc:0.9583333333333334\n",
      "[Fold 2] Epoch:13 Training Acc:0.8873958333333334\n",
      "[Fold 2] Epoch:13 Validation Acc:0.9586666666666667\n",
      "[Fold 2] Epoch:14 Training Acc:0.8916666666666667\n",
      "[Fold 2] Epoch:14 Validation Acc:0.9563333333333334\n",
      "[Fold 2] Epoch:15 Training Acc:0.894375\n",
      "[Fold 2] Epoch:15 Validation Acc:0.9608333333333333\n",
      "[Fold 2] Epoch:16 Training Acc:0.8947083333333333\n",
      "[Fold 2] Epoch:16 Validation Acc:0.9631666666666666\n",
      "[Fold 2] Epoch:17 Training Acc:0.9000208333333334\n",
      "[Fold 2] Epoch:17 Validation Acc:0.9623333333333334\n",
      "[Fold 2] Epoch:18 Training Acc:0.9012291666666666\n",
      "[Fold 2] Epoch:18 Validation Acc:0.9596666666666667\n",
      "[Fold 2] Epoch:19 Training Acc:0.9015208333333333\n",
      "[Fold 2] Epoch:19 Validation Acc:0.9626666666666667\n",
      "[Fold 2] Epoch:20 Training Acc:0.9054375\n",
      "[Fold 2] Epoch:20 Validation Acc:0.965\n",
      "[Fold 3] Epoch:1 Training Acc:0.48275\n",
      "[Fold 3] Epoch:1 Validation Acc:0.77\n",
      "[Fold 3] Epoch:2 Training Acc:0.7458333333333333\n",
      "[Fold 3] Epoch:2 Validation Acc:0.897\n",
      "[Fold 3] Epoch:3 Training Acc:0.8146666666666667\n",
      "[Fold 3] Epoch:3 Validation Acc:0.9311666666666667\n",
      "[Fold 3] Epoch:4 Training Acc:0.8437291666666666\n",
      "[Fold 3] Epoch:4 Validation Acc:0.9455\n",
      "[Fold 3] Epoch:5 Training Acc:0.8581875\n",
      "[Fold 3] Epoch:5 Validation Acc:0.9513333333333334\n",
      "[Fold 3] Epoch:6 Training Acc:0.8714583333333333\n",
      "[Fold 3] Epoch:6 Validation Acc:0.95\n",
      "[Fold 3] Epoch:7 Training Acc:0.8785208333333333\n",
      "[Fold 3] Epoch:7 Validation Acc:0.957\n",
      "[Fold 3] Epoch:8 Training Acc:0.883375\n",
      "[Fold 3] Epoch:8 Validation Acc:0.9601666666666666\n",
      "[Fold 3] Epoch:9 Training Acc:0.8887916666666666\n",
      "[Fold 3] Epoch:9 Validation Acc:0.9605\n",
      "[Fold 3] Epoch:10 Training Acc:0.8919375\n",
      "[Fold 3] Epoch:10 Validation Acc:0.9586666666666667\n",
      "[Fold 3] Epoch:11 Training Acc:0.8972708333333334\n",
      "[Fold 3] Epoch:11 Validation Acc:0.9636666666666667\n",
      "[Fold 3] Epoch:12 Training Acc:0.8994166666666666\n",
      "[Fold 3] Epoch:12 Validation Acc:0.962\n",
      "[Fold 3] Epoch:13 Training Acc:0.9041666666666667\n",
      "[Fold 3] Epoch:13 Validation Acc:0.9671666666666666\n",
      "[Fold 3] Epoch:14 Training Acc:0.9059791666666667\n",
      "[Fold 3] Epoch:14 Validation Acc:0.9653333333333334\n",
      "[Fold 3] Epoch:15 Training Acc:0.9089791666666667\n",
      "[Fold 3] Epoch:15 Validation Acc:0.9686666666666667\n",
      "[Fold 3] Epoch:16 Training Acc:0.9108333333333334\n",
      "[Fold 3] Epoch:16 Validation Acc:0.9705\n",
      "[Fold 3] Epoch:17 Training Acc:0.9146041666666667\n",
      "[Fold 3] Epoch:17 Validation Acc:0.97\n",
      "[Fold 3] Epoch:18 Training Acc:0.9156875\n",
      "[Fold 3] Epoch:18 Validation Acc:0.9715\n",
      "[Fold 3] Epoch:19 Training Acc:0.9169375\n",
      "[Fold 3] Epoch:19 Validation Acc:0.9718333333333333\n",
      "[Fold 3] Epoch:20 Training Acc:0.9159166666666667\n",
      "[Fold 3] Epoch:20 Validation Acc:0.974\n",
      "[Fold 4] Epoch:1 Training Acc:0.466875\n",
      "[Fold 4] Epoch:1 Validation Acc:0.8495\n",
      "[Fold 4] Epoch:2 Training Acc:0.7598333333333334\n",
      "[Fold 4] Epoch:2 Validation Acc:0.9295\n",
      "[Fold 4] Epoch:3 Training Acc:0.830375\n",
      "[Fold 4] Epoch:3 Validation Acc:0.946\n",
      "[Fold 4] Epoch:4 Training Acc:0.8580833333333333\n",
      "[Fold 4] Epoch:4 Validation Acc:0.9535\n",
      "[Fold 4] Epoch:5 Training Acc:0.87625\n",
      "[Fold 4] Epoch:5 Validation Acc:0.9603333333333334\n",
      "[Fold 4] Epoch:6 Training Acc:0.8849791666666667\n",
      "[Fold 4] Epoch:6 Validation Acc:0.9601666666666666\n",
      "[Fold 4] Epoch:7 Training Acc:0.8923541666666667\n",
      "[Fold 4] Epoch:7 Validation Acc:0.9618333333333333\n",
      "[Fold 4] Epoch:8 Training Acc:0.8983958333333333\n",
      "[Fold 4] Epoch:8 Validation Acc:0.9641666666666666\n",
      "[Fold 4] Epoch:9 Training Acc:0.9017916666666667\n",
      "[Fold 4] Epoch:9 Validation Acc:0.965\n",
      "[Fold 4] Epoch:10 Training Acc:0.9070208333333334\n",
      "[Fold 4] Epoch:10 Validation Acc:0.9675\n",
      "[Fold 4] Epoch:11 Training Acc:0.909375\n",
      "[Fold 4] Epoch:11 Validation Acc:0.9695\n",
      "[Fold 4] Epoch:12 Training Acc:0.9145\n",
      "[Fold 4] Epoch:12 Validation Acc:0.9676666666666667\n",
      "[Fold 4] Epoch:13 Training Acc:0.915875\n",
      "[Fold 4] Epoch:13 Validation Acc:0.9691666666666666\n",
      "[Fold 4] Epoch:14 Training Acc:0.9179791666666667\n",
      "[Fold 4] Epoch:14 Validation Acc:0.9705\n",
      "[Fold 4] Epoch:15 Training Acc:0.9203333333333333\n",
      "[Fold 4] Epoch:15 Validation Acc:0.9725\n",
      "[Fold 4] Epoch:16 Training Acc:0.9209791666666667\n",
      "[Fold 4] Epoch:16 Validation Acc:0.9715\n",
      "[Fold 4] Epoch:17 Training Acc:0.923875\n",
      "[Fold 4] Epoch:17 Validation Acc:0.9698333333333333\n",
      "[Fold 4] Epoch:18 Training Acc:0.9252708333333334\n",
      "[Fold 4] Epoch:18 Validation Acc:0.9715\n",
      "[Fold 4] Epoch:19 Training Acc:0.9257083333333334\n",
      "[Fold 4] Epoch:19 Validation Acc:0.9735\n",
      "[Fold 4] Epoch:20 Training Acc:0.9271875\n",
      "[Fold 4] Epoch:20 Validation Acc:0.9736666666666667\n",
      "[Fold 5] Epoch:1 Training Acc:0.47325\n",
      "[Fold 5] Epoch:1 Validation Acc:0.8265\n",
      "[Fold 5] Epoch:2 Training Acc:0.7525416666666667\n",
      "[Fold 5] Epoch:2 Validation Acc:0.9063333333333333\n",
      "[Fold 5] Epoch:3 Training Acc:0.8174166666666667\n",
      "[Fold 5] Epoch:3 Validation Acc:0.9291666666666667\n",
      "[Fold 5] Epoch:4 Training Acc:0.8440625\n",
      "[Fold 5] Epoch:4 Validation Acc:0.939\n",
      "[Fold 5] Epoch:5 Training Acc:0.8617916666666666\n",
      "[Fold 5] Epoch:5 Validation Acc:0.948\n",
      "[Fold 5] Epoch:6 Training Acc:0.8726041666666666\n",
      "[Fold 5] Epoch:6 Validation Acc:0.9508333333333333\n",
      "[Fold 5] Epoch:7 Training Acc:0.8817708333333333\n",
      "[Fold 5] Epoch:7 Validation Acc:0.9575\n",
      "[Fold 5] Epoch:8 Training Acc:0.887625\n",
      "[Fold 5] Epoch:8 Validation Acc:0.9585\n",
      "[Fold 5] Epoch:9 Training Acc:0.8915\n",
      "[Fold 5] Epoch:9 Validation Acc:0.958\n",
      "[Fold 5] Epoch:10 Training Acc:0.8966458333333334\n"
     ]
    },
    {
     "name": "stdout",
     "output_type": "stream",
     "text": [
      "[Fold 5] Epoch:10 Validation Acc:0.9631666666666666\n",
      "[Fold 5] Epoch:11 Training Acc:0.8998541666666666\n",
      "[Fold 5] Epoch:11 Validation Acc:0.9623333333333334\n",
      "[Fold 5] Epoch:12 Training Acc:0.903125\n",
      "[Fold 5] Epoch:12 Validation Acc:0.9643333333333334\n",
      "[Fold 5] Epoch:13 Training Acc:0.9029583333333333\n",
      "[Fold 5] Epoch:13 Validation Acc:0.9661666666666666\n",
      "[Fold 5] Epoch:14 Training Acc:0.9088125\n",
      "[Fold 5] Epoch:14 Validation Acc:0.9651666666666666\n",
      "[Fold 5] Epoch:15 Training Acc:0.911625\n",
      "[Fold 5] Epoch:15 Validation Acc:0.9685\n",
      "[Fold 5] Epoch:16 Training Acc:0.9124791666666666\n"
     ]
    }
   ],
   "source": [
    "mnist_trainer.train(mnist_net, 20, 1e-3, 128, 8, verbose=False, num_loss=3)"
   ]
  },
  {
   "cell_type": "code",
   "execution_count": null,
   "metadata": {},
   "outputs": [],
   "source": [
    "mnist_trainer.test(mnist_net, 128, 12)"
   ]
  },
  {
   "cell_type": "code",
   "execution_count": null,
   "metadata": {},
   "outputs": [],
   "source": [
    "mnist_plotter = metrics.Plotter(mnist_trainer.val_metrics)"
   ]
  },
  {
   "cell_type": "code",
   "execution_count": null,
   "metadata": {},
   "outputs": [],
   "source": [
    "mnist_plotter.plotLoss(\"Loss\")"
   ]
  },
  {
   "cell_type": "code",
   "execution_count": null,
   "metadata": {},
   "outputs": [],
   "source": [
    "mnist_plotter.plotLoss(\"Loss\", mnist_trainer.metrics())"
   ]
  },
  {
   "cell_type": "code",
   "execution_count": null,
   "metadata": {},
   "outputs": [],
   "source": [
    "mnist_plotter.plotAccuracy(\"Acc\")"
   ]
  },
  {
   "cell_type": "markdown",
   "metadata": {},
   "source": [
    "## CIFAR"
   ]
  },
  {
   "cell_type": "code",
   "execution_count": null,
   "metadata": {},
   "outputs": [],
   "source": [
    "cifar_trainer = training.Trainer(cifar_data, device)"
   ]
  },
  {
   "cell_type": "code",
   "execution_count": null,
   "metadata": {},
   "outputs": [],
   "source": [
    "cifar_trainer.train(cifar_net, 1, 1e-3, 32, 8, verbose=False, num_loss=3)"
   ]
  },
  {
   "cell_type": "code",
   "execution_count": null,
   "metadata": {},
   "outputs": [],
   "source": [
    "cifar_trainer.test(cifar_net, 128, 12)"
   ]
  }
 ],
 "metadata": {
  "kernelspec": {
   "display_name": "Python 3",
   "language": "python",
   "name": "python3"
  },
  "language_info": {
   "codemirror_mode": {
    "name": "ipython",
    "version": 3
   },
   "file_extension": ".py",
   "mimetype": "text/x-python",
   "name": "python",
   "nbconvert_exporter": "python",
   "pygments_lexer": "ipython3",
   "version": "3.6.8"
  }
 },
 "nbformat": 4,
 "nbformat_minor": 2
}
