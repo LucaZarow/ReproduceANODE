{
 "cells": [
  {
   "cell_type": "markdown",
   "metadata": {},
   "source": [
    "# Imports"
   ]
  },
  {
   "cell_type": "code",
   "execution_count": 1,
   "metadata": {},
   "outputs": [],
   "source": [
    "import torch\n",
    "import torch.optim as optim\n",
    "import numpy as np\n",
    "import matplotlib.pyplot as plt\n",
    "import models\n",
    "import loader\n",
    "import training\n",
    "import metrics\n",
    "import autotune"
   ]
  },
  {
   "cell_type": "markdown",
   "metadata": {},
   "source": [
    "# Flags"
   ]
  },
  {
   "cell_type": "code",
   "execution_count": 2,
   "metadata": {},
   "outputs": [],
   "source": [
    "TRAIN_MNIST = False\n",
    "TRAIN_CIFAR = False"
   ]
  },
  {
   "cell_type": "markdown",
   "metadata": {},
   "source": [
    "# GPU"
   ]
  },
  {
   "cell_type": "code",
   "execution_count": 3,
   "metadata": {},
   "outputs": [],
   "source": [
    "device = torch.device(\"cuda\")"
   ]
  },
  {
   "cell_type": "markdown",
   "metadata": {},
   "source": [
    "# Data Loading"
   ]
  },
  {
   "cell_type": "code",
   "execution_count": 4,
   "metadata": {},
   "outputs": [],
   "source": [
    "mnist_data_path = './train-images-idx3-ubyte'\n",
    "mnist_label_path = './train-labels-idx1-ubyte'\n",
    "\n",
    "cifar_data_path = './cifar-10-batches-py'"
   ]
  },
  {
   "cell_type": "code",
   "execution_count": 5,
   "metadata": {},
   "outputs": [],
   "source": [
    "#5-fold generation\n",
    "mnist_data = loader.MNIST(mnist_data_path, mnist_label_path, 5)\n",
    "mnist_splits = mnist_data.splits\n",
    "\n",
    "cifar_data = loader.CIFAR(cifar_data_path, 5)\n",
    "cifar_splits = cifar_data.splits"
   ]
  },
  {
   "cell_type": "code",
   "execution_count": 6,
   "metadata": {},
   "outputs": [
    {
     "name": "stdout",
     "output_type": "stream",
     "text": [
      "MNIST STATS\n",
      "Number of splits: 5\n",
      "Number of segments per split (train, val, test): 3\n",
      "Info per segment (data, labels): 2\n",
      "Size of segement (num examples): 48000\n",
      "\n",
      "CIFAR STATS\n",
      "Number of splits: 5\n",
      "Number of segments per split (train, val, test): 3\n",
      "Info per segment (data, labels): 2\n",
      "Size of segement (num examples): 40000\n"
     ]
    }
   ],
   "source": [
    "print(\"MNIST STATS\")\n",
    "print(\"Number of splits:\", len(mnist_splits))\n",
    "print(\"Number of segments per split (train, val, test):\", len(mnist_splits[0]))\n",
    "print(\"Info per segment (data, labels):\", len(mnist_splits[0][0]))\n",
    "print(\"Size of segement (num examples):\", len(mnist_splits[0][0][0]))\n",
    "print()\n",
    "print(\"CIFAR STATS\")\n",
    "print(\"Number of splits:\", len(cifar_splits))\n",
    "print(\"Number of segments per split (train, val, test):\", len(cifar_splits[0]))\n",
    "print(\"Info per segment (data, labels):\", len(cifar_splits[0][0]))\n",
    "print(\"Size of segement (num examples):\", len(cifar_splits[0][0][0]))"
   ]
  },
  {
   "cell_type": "markdown",
   "metadata": {},
   "source": [
    "# Model & Optimizer"
   ]
  },
  {
   "cell_type": "code",
   "execution_count": 7,
   "metadata": {
    "scrolled": false
   },
   "outputs": [],
   "source": [
    "model = models.VanillaCNN\n",
    "optimizer = optim.Adam\n",
    "mnist_in_channels=(1,)\n",
    "cifar_in_channels=(3,)"
   ]
  },
  {
   "cell_type": "markdown",
   "metadata": {},
   "source": [
    "# Training and Evaluation"
   ]
  },
  {
   "cell_type": "markdown",
   "metadata": {},
   "source": [
    "## MNIST"
   ]
  },
  {
   "cell_type": "code",
   "execution_count": 8,
   "metadata": {},
   "outputs": [],
   "source": [
    "if TRAIN_MNIST:\n",
    "    mnist_trainer = training.Trainer(model, optimizer, mnist_data, device)"
   ]
  },
  {
   "cell_type": "code",
   "execution_count": 9,
   "metadata": {
    "scrolled": true
   },
   "outputs": [],
   "source": [
    "if TRAIN_MNIST:\n",
    "    mnist_trainer.train(mnist_in_channels, 1e-3, 2, 128, 8, verbose=False, num_loss=3)"
   ]
  },
  {
   "cell_type": "code",
   "execution_count": 10,
   "metadata": {},
   "outputs": [],
   "source": [
    "if TRAIN_MNIST:\n",
    "    mnist_trainer.test(mnist_in_channels, 128, 12)"
   ]
  },
  {
   "cell_type": "code",
   "execution_count": 11,
   "metadata": {},
   "outputs": [],
   "source": [
    "if TRAIN_MNIST:\n",
    "    mnist_plotter = metrics.Plotter(mnist_trainer.val_metrics)"
   ]
  },
  {
   "cell_type": "code",
   "execution_count": 12,
   "metadata": {},
   "outputs": [],
   "source": [
    "if TRAIN_MNIST:\n",
    "    mnist_plotter.plotLoss(\"Loss\")"
   ]
  },
  {
   "cell_type": "code",
   "execution_count": 13,
   "metadata": {},
   "outputs": [],
   "source": [
    "if TRAIN_MNIST:\n",
    "    mnist_plotter.plotLoss(\"Loss\", mnist_trainer.metrics())"
   ]
  },
  {
   "cell_type": "code",
   "execution_count": 14,
   "metadata": {},
   "outputs": [],
   "source": [
    "if TRAIN_MNIST:\n",
    "    mnist_plotter.plotAccuracy(\"Acc\")"
   ]
  },
  {
   "cell_type": "markdown",
   "metadata": {},
   "source": [
    "## CIFAR"
   ]
  },
  {
   "cell_type": "code",
   "execution_count": 15,
   "metadata": {},
   "outputs": [],
   "source": [
    "if TRAIN_CIFAR:\n",
    "    cifar_trainer = training.Trainer(model, optimizer, cifar_data, device)"
   ]
  },
  {
   "cell_type": "code",
   "execution_count": 16,
   "metadata": {},
   "outputs": [],
   "source": [
    "if TRAIN_CIFAR:\n",
    "    cifar_trainer.train(cifar_in_channels, 1e-3, 1, 32, 8, verbose=False, num_loss=3)"
   ]
  },
  {
   "cell_type": "code",
   "execution_count": 17,
   "metadata": {},
   "outputs": [],
   "source": [
    "if TRAIN_CIFAR:\n",
    "    cifar_trainer.test(cifar_in_channels, 128, 12)"
   ]
  },
  {
   "cell_type": "markdown",
   "metadata": {},
   "source": [
    "# Hyperparam Search"
   ]
  },
  {
   "cell_type": "code",
   "execution_count": 18,
   "metadata": {},
   "outputs": [],
   "source": [
    "from torch import nn\n",
    "class TuneNN(nn.Module):\n",
    "    def __init__(self, in_channels, hidden_dims):\n",
    "        super(TuneNN, self).__init__()\n",
    "\n",
    "        self.blockOne = nn.Sequential(\n",
    "            nn.Conv2d(in_channels, hidden_dims, 3, padding=1),\n",
    "            nn.BatchNorm2d(hidden_dims),\n",
    "            nn.ReLU(True),\n",
    "            nn.Dropout2d(0.2),\n",
    "            nn.MaxPool2d(2,2)\n",
    "        )\n",
    "        \n",
    "        self.blockTwo = nn.Sequential(\n",
    "            nn.Conv2d(hidden_dims, hidden_dims, 3, padding=1),\n",
    "            nn.BatchNorm2d(hidden_dims),\n",
    "            nn.ReLU(True),\n",
    "            nn.Dropout2d(0.2),\n",
    "            nn.MaxPool2d(2,2)\n",
    "        )\n",
    "        \n",
    "        self.blockThree = nn.Sequential(\n",
    "            nn.Conv2d(hidden_dims, hidden_dims, 3, padding=1),\n",
    "            nn.BatchNorm2d(hidden_dims),\n",
    "            nn.ReLU(True),\n",
    "            nn.Dropout2d(0.1),\n",
    "        )\n",
    "        \n",
    "        self.gap = nn.AdaptiveAvgPool2d(1)\n",
    "        \n",
    "        self.linear = nn.Sequential(\n",
    "            nn.Linear(hidden_dims, 10),\n",
    "        )\n",
    "            \n",
    "    def forward(self, x):\n",
    "        x = self.blockOne(x)\n",
    "        x = self.blockTwo(x)\n",
    "        x = self.blockThree(x)\n",
    "        x = self.gap(x)\n",
    "        x = x.view(x.size(0), -1)\n",
    "        x = self.linear(x)\n",
    "        return x"
   ]
  },
  {
   "cell_type": "code",
   "execution_count": 19,
   "metadata": {},
   "outputs": [],
   "source": [
    "# model params - *args as tuple (model based)\n",
    "# train params - *args as tuple (learning rate, epochs, batch size, number of workers)\n",
    "\n",
    "config_1 = {\n",
    "    'model' : (1,8),\n",
    "    'train' : (1e-2, 5, 32, 8)\n",
    "}\n",
    "\n",
    "config_2 = {\n",
    "    'model' : (1,32),\n",
    "    'train' : (1e-3, 5, 32, 8)\n",
    "}\n",
    "\n",
    "config_3 = {\n",
    "    'model' : (1,64),\n",
    "    'train' : (1e-3, 5, 32, 8)\n",
    "}\n",
    "\n",
    "configs = [config_1, config_2, config_3]"
   ]
  },
  {
   "cell_type": "code",
   "execution_count": 20,
   "metadata": {},
   "outputs": [],
   "source": [
    "hyperparam = autotune.Autotuner(TuneNN, optimizer, mnist_data, device)"
   ]
  },
  {
   "cell_type": "code",
   "execution_count": 21,
   "metadata": {
    "scrolled": false
   },
   "outputs": [
    {
     "name": "stdout",
     "output_type": "stream",
     "text": [
      "[Fold 1] Epoch:1 Training Acc:0.47672916666666665\n",
      "[Fold 1] Epoch:1 Validation Acc:0.855\n",
      "[Fold 1] Epoch:2 Training Acc:0.6491875\n",
      "[Fold 1] Epoch:2 Validation Acc:0.8756666666666667\n",
      "[Fold 1] Epoch:3 Training Acc:0.688125\n",
      "[Fold 1] Epoch:3 Validation Acc:0.8871666666666667\n",
      "[Fold 1] Epoch:4 Training Acc:0.7057708333333333\n",
      "[Fold 1] Epoch:4 Validation Acc:0.9081666666666667\n",
      "[Fold 1] Epoch:5 Training Acc:0.7167916666666667\n",
      "[Fold 1] Epoch:5 Validation Acc:0.8966666666666666\n",
      "[Fold 2] Epoch:1 Training Acc:0.4975833333333333\n",
      "[Fold 2] Epoch:1 Validation Acc:0.8296666666666667\n",
      "[Fold 2] Epoch:2 Training Acc:0.6511875\n",
      "[Fold 2] Epoch:2 Validation Acc:0.8508333333333333\n",
      "[Fold 2] Epoch:3 Training Acc:0.695625\n",
      "[Fold 2] Epoch:3 Validation Acc:0.894\n",
      "[Fold 2] Epoch:4 Training Acc:0.7203541666666666\n",
      "[Fold 2] Epoch:4 Validation Acc:0.9061666666666667\n",
      "[Fold 2] Epoch:5 Training Acc:0.7344166666666667\n",
      "[Fold 2] Epoch:5 Validation Acc:0.919\n",
      "[Fold 3] Epoch:1 Training Acc:0.46458333333333335\n",
      "[Fold 3] Epoch:1 Validation Acc:0.7231666666666666\n",
      "[Fold 3] Epoch:2 Training Acc:0.6083541666666666\n",
      "[Fold 3] Epoch:2 Validation Acc:0.8241666666666667\n",
      "[Fold 3] Epoch:3 Training Acc:0.6578958333333333\n",
      "[Fold 3] Epoch:3 Validation Acc:0.8616666666666667\n",
      "[Fold 3] Epoch:4 Training Acc:0.6885416666666667\n",
      "[Fold 3] Epoch:4 Validation Acc:0.8711666666666666\n",
      "[Fold 3] Epoch:5 Training Acc:0.7056666666666667\n",
      "[Fold 3] Epoch:5 Validation Acc:0.8791666666666667\n",
      "[Fold 4] Epoch:1 Training Acc:0.45747916666666666\n",
      "[Fold 4] Epoch:1 Validation Acc:0.7696666666666667\n",
      "[Fold 4] Epoch:2 Training Acc:0.6244791666666667\n",
      "[Fold 4] Epoch:2 Validation Acc:0.8015\n",
      "[Fold 4] Epoch:3 Training Acc:0.6697708333333333\n",
      "[Fold 4] Epoch:3 Validation Acc:0.8376666666666667\n",
      "[Fold 4] Epoch:4 Training Acc:0.7010833333333333\n",
      "[Fold 4] Epoch:4 Validation Acc:0.8798333333333334\n",
      "[Fold 4] Epoch:5 Training Acc:0.7170625\n",
      "[Fold 4] Epoch:5 Validation Acc:0.8803333333333333\n",
      "[Fold 5] Epoch:1 Training Acc:0.49220833333333336\n",
      "[Fold 5] Epoch:1 Validation Acc:0.8353333333333334\n",
      "[Fold 5] Epoch:2 Training Acc:0.6497291666666667\n",
      "[Fold 5] Epoch:2 Validation Acc:0.8615\n",
      "[Fold 5] Epoch:3 Training Acc:0.6883958333333333\n",
      "[Fold 5] Epoch:3 Validation Acc:0.8918333333333334\n",
      "[Fold 5] Epoch:4 Training Acc:0.7106458333333333\n",
      "[Fold 5] Epoch:4 Validation Acc:0.9091666666666667\n",
      "[Fold 5] Epoch:5 Training Acc:0.726375\n",
      "[Fold 5] Epoch:5 Validation Acc:0.9023333333333333\n",
      "Best Fold Validation Results: [0.89667 0.919   0.87917 0.88033 0.90233]\n",
      "Finished Cross Validation Training\n",
      "[Fold: 1] Testing Acc: 0.8918333333333334\n",
      "[Fold: 2] Testing Acc: 0.906\n",
      "[Fold: 3] Testing Acc: 0.8796666666666667\n",
      "[Fold: 4] Testing Acc: 0.879\n",
      "[Fold: 5] Testing Acc: 0.8975\n",
      "[Fold 1] Epoch:1 Training Acc:0.6482708333333334\n",
      "[Fold 1] Epoch:1 Validation Acc:0.9551666666666667\n",
      "[Fold 1] Epoch:2 Training Acc:0.8939375\n",
      "[Fold 1] Epoch:2 Validation Acc:0.9675\n",
      "[Fold 1] Epoch:3 Training Acc:0.9187291666666667\n",
      "[Fold 1] Epoch:3 Validation Acc:0.974\n",
      "[Fold 1] Epoch:4 Training Acc:0.9314166666666667\n",
      "[Fold 1] Epoch:4 Validation Acc:0.9748333333333333\n",
      "[Fold 1] Epoch:5 Training Acc:0.9379375\n",
      "[Fold 1] Epoch:5 Validation Acc:0.9765\n",
      "[Fold 2] Epoch:1 Training Acc:0.6295625\n",
      "[Fold 2] Epoch:1 Validation Acc:0.9576666666666667\n",
      "[Fold 2] Epoch:2 Training Acc:0.8909166666666667\n",
      "[Fold 2] Epoch:2 Validation Acc:0.97\n",
      "[Fold 2] Epoch:3 Training Acc:0.9192916666666666\n",
      "[Fold 2] Epoch:3 Validation Acc:0.9768333333333333\n",
      "[Fold 2] Epoch:4 Training Acc:0.9316041666666667\n",
      "[Fold 2] Epoch:4 Validation Acc:0.9771666666666666\n",
      "[Fold 2] Epoch:5 Training Acc:0.9372916666666666\n",
      "[Fold 2] Epoch:5 Validation Acc:0.9783333333333334\n",
      "[Fold 3] Epoch:1 Training Acc:0.6376041666666666\n",
      "[Fold 3] Epoch:1 Validation Acc:0.951\n",
      "[Fold 3] Epoch:2 Training Acc:0.8886458333333334\n",
      "[Fold 3] Epoch:2 Validation Acc:0.9686666666666667\n",
      "[Fold 3] Epoch:3 Training Acc:0.919375\n",
      "[Fold 3] Epoch:3 Validation Acc:0.9758333333333333\n",
      "[Fold 3] Epoch:4 Training Acc:0.9317916666666667\n",
      "[Fold 3] Epoch:4 Validation Acc:0.978\n",
      "[Fold 3] Epoch:5 Training Acc:0.9402708333333333\n",
      "[Fold 3] Epoch:5 Validation Acc:0.9773333333333334\n",
      "[Fold 4] Epoch:1 Training Acc:0.6447291666666667\n",
      "[Fold 4] Epoch:1 Validation Acc:0.9406666666666667\n",
      "[Fold 4] Epoch:2 Training Acc:0.8877083333333333\n",
      "[Fold 4] Epoch:2 Validation Acc:0.961\n",
      "[Fold 4] Epoch:3 Training Acc:0.9173958333333333\n",
      "[Fold 4] Epoch:3 Validation Acc:0.9665\n",
      "[Fold 4] Epoch:4 Training Acc:0.9285833333333333\n",
      "[Fold 4] Epoch:4 Validation Acc:0.9718333333333333\n",
      "[Fold 4] Epoch:5 Training Acc:0.9361458333333333\n",
      "[Fold 4] Epoch:5 Validation Acc:0.976\n",
      "[Fold 5] Epoch:1 Training Acc:0.6455416666666667\n",
      "[Fold 5] Epoch:1 Validation Acc:0.9418333333333333\n",
      "[Fold 5] Epoch:2 Training Acc:0.8885416666666667\n",
      "[Fold 5] Epoch:2 Validation Acc:0.9653333333333334\n",
      "[Fold 5] Epoch:3 Training Acc:0.9163333333333333\n",
      "[Fold 5] Epoch:3 Validation Acc:0.9706666666666667\n",
      "[Fold 5] Epoch:4 Training Acc:0.9298541666666666\n",
      "[Fold 5] Epoch:4 Validation Acc:0.9773333333333334\n",
      "[Fold 5] Epoch:5 Training Acc:0.9357083333333334\n",
      "[Fold 5] Epoch:5 Validation Acc:0.9798333333333333\n",
      "Best Fold Validation Results: [0.9765  0.97833 0.97733 0.976   0.97983]\n",
      "Finished Cross Validation Training\n",
      "[Fold: 1] Testing Acc: 0.9753333333333334\n",
      "[Fold: 2] Testing Acc: 0.9751666666666666\n",
      "[Fold: 3] Testing Acc: 0.9793333333333333\n",
      "[Fold: 4] Testing Acc: 0.9755\n",
      "[Fold: 5] Testing Acc: 0.976\n",
      "[Fold 1] Epoch:1 Training Acc:0.7753333333333333\n",
      "[Fold 1] Epoch:1 Validation Acc:0.9668333333333333\n",
      "[Fold 1] Epoch:2 Training Acc:0.9449166666666666\n",
      "[Fold 1] Epoch:2 Validation Acc:0.98\n",
      "[Fold 1] Epoch:3 Training Acc:0.95725\n",
      "[Fold 1] Epoch:3 Validation Acc:0.9823333333333333\n",
      "[Fold 1] Epoch:4 Training Acc:0.9664166666666667\n",
      "[Fold 1] Epoch:4 Validation Acc:0.9863333333333333\n",
      "[Fold 1] Epoch:5 Training Acc:0.9692708333333333\n",
      "[Fold 1] Epoch:5 Validation Acc:0.9858333333333333\n",
      "[Fold 2] Epoch:1 Training Acc:0.7678333333333334\n",
      "[Fold 2] Epoch:1 Validation Acc:0.9688333333333333\n",
      "[Fold 2] Epoch:2 Training Acc:0.9436875\n",
      "[Fold 2] Epoch:2 Validation Acc:0.9818333333333333\n",
      "[Fold 2] Epoch:3 Training Acc:0.9576458333333333\n",
      "[Fold 2] Epoch:3 Validation Acc:0.9831666666666666\n",
      "[Fold 2] Epoch:4 Training Acc:0.9650208333333333\n",
      "[Fold 2] Epoch:4 Validation Acc:0.9865\n",
      "[Fold 2] Epoch:5 Training Acc:0.9695833333333334\n",
      "[Fold 2] Epoch:5 Validation Acc:0.989\n",
      "[Fold 3] Epoch:1 Training Acc:0.7701666666666667\n",
      "[Fold 3] Epoch:1 Validation Acc:0.9636666666666667\n",
      "[Fold 3] Epoch:2 Training Acc:0.9407291666666666\n",
      "[Fold 3] Epoch:2 Validation Acc:0.9815\n",
      "[Fold 3] Epoch:3 Training Acc:0.9603541666666666\n",
      "[Fold 3] Epoch:3 Validation Acc:0.9853333333333333\n",
      "[Fold 3] Epoch:4 Training Acc:0.9655416666666666\n",
      "[Fold 3] Epoch:4 Validation Acc:0.9863333333333333\n",
      "[Fold 3] Epoch:5 Training Acc:0.9688125\n",
      "[Fold 3] Epoch:5 Validation Acc:0.9881666666666666\n",
      "[Fold 4] Epoch:1 Training Acc:0.771125\n",
      "[Fold 4] Epoch:1 Validation Acc:0.9666666666666667\n",
      "[Fold 4] Epoch:2 Training Acc:0.9436041666666667\n",
      "[Fold 4] Epoch:2 Validation Acc:0.978\n",
      "[Fold 4] Epoch:3 Training Acc:0.9584583333333333\n",
      "[Fold 4] Epoch:3 Validation Acc:0.981\n",
      "[Fold 4] Epoch:4 Training Acc:0.9649166666666666\n",
      "[Fold 4] Epoch:4 Validation Acc:0.9845\n",
      "[Fold 4] Epoch:5 Training Acc:0.9696666666666667\n",
      "[Fold 4] Epoch:5 Validation Acc:0.9873333333333333\n",
      "[Fold 5] Epoch:1 Training Acc:0.7716041666666666\n",
      "[Fold 5] Epoch:1 Validation Acc:0.9655\n",
      "[Fold 5] Epoch:2 Training Acc:0.9425416666666667\n",
      "[Fold 5] Epoch:2 Validation Acc:0.9803333333333333\n",
      "[Fold 5] Epoch:3 Training Acc:0.9577916666666667\n",
      "[Fold 5] Epoch:3 Validation Acc:0.9818333333333333\n",
      "[Fold 5] Epoch:4 Training Acc:0.9659791666666667\n",
      "[Fold 5] Epoch:4 Validation Acc:0.9836666666666667\n",
      "[Fold 5] Epoch:5 Training Acc:0.9701041666666667\n",
      "[Fold 5] Epoch:5 Validation Acc:0.9875\n",
      "Best Fold Validation Results: [0.98583 0.989   0.98817 0.98733 0.9875 ]\n",
      "Finished Cross Validation Training\n",
      "[Fold: 1] Testing Acc: 0.9888333333333333\n",
      "[Fold: 2] Testing Acc: 0.9881666666666666\n",
      "[Fold: 3] Testing Acc: 0.9865\n",
      "[Fold: 4] Testing Acc: 0.989\n",
      "[Fold: 5] Testing Acc: 0.9848333333333333\n"
     ]
    }
   ],
   "source": [
    "hyperparam.search(configs)"
   ]
  },
  {
   "cell_type": "code",
   "execution_count": 22,
   "metadata": {},
   "outputs": [
    {
     "ename": "AttributeError",
     "evalue": "'list' object has no attribute 'keys'",
     "output_type": "error",
     "traceback": [
      "\u001b[0;31m---------------------------------------------------------------------------\u001b[0m",
      "\u001b[0;31mAttributeError\u001b[0m                            Traceback (most recent call last)",
      "\u001b[0;32m<ipython-input-22-8a173815b8b5>\u001b[0m in \u001b[0;36m<module>\u001b[0;34m\u001b[0m\n\u001b[0;32m----> 1\u001b[0;31m \u001b[0mprint\u001b[0m\u001b[0;34m(\u001b[0m\u001b[0mhyperparam\u001b[0m\u001b[0;34m.\u001b[0m\u001b[0mbestConfig\u001b[0m\u001b[0;34m(\u001b[0m\u001b[0;34m)\u001b[0m\u001b[0;34m)\u001b[0m\u001b[0;34m\u001b[0m\u001b[0;34m\u001b[0m\u001b[0m\n\u001b[0m",
      "\u001b[0;32m/usr/local/data/ezimmer/venv/comp551_a4/autotune.py\u001b[0m in \u001b[0;36mbestConfig\u001b[0;34m(self)\u001b[0m\n\u001b[1;32m     30\u001b[0m         \u001b[0mbest_id\u001b[0m \u001b[0;34m=\u001b[0m \u001b[0;34m-\u001b[0m\u001b[0;36m1\u001b[0m\u001b[0;34m\u001b[0m\u001b[0;34m\u001b[0m\u001b[0m\n\u001b[1;32m     31\u001b[0m         \u001b[0mbest_score\u001b[0m \u001b[0;34m=\u001b[0m \u001b[0;34m-\u001b[0m\u001b[0;36m1\u001b[0m\u001b[0;34m\u001b[0m\u001b[0;34m\u001b[0m\u001b[0m\n\u001b[0;32m---> 32\u001b[0;31m         \u001b[0;32mfor\u001b[0m \u001b[0midx\u001b[0m \u001b[0;32min\u001b[0m \u001b[0mself\u001b[0m\u001b[0;34m.\u001b[0m\u001b[0mlogs\u001b[0m\u001b[0;34m.\u001b[0m\u001b[0mkeys\u001b[0m\u001b[0;34m(\u001b[0m\u001b[0;34m)\u001b[0m\u001b[0;34m:\u001b[0m\u001b[0;34m\u001b[0m\u001b[0;34m\u001b[0m\u001b[0m\n\u001b[0m\u001b[1;32m     33\u001b[0m             \u001b[0;32mif\u001b[0m \u001b[0mself\u001b[0m\u001b[0;34m.\u001b[0m\u001b[0mlogs\u001b[0m\u001b[0;34m[\u001b[0m\u001b[0midx\u001b[0m\u001b[0;34m]\u001b[0m\u001b[0;34m[\u001b[0m\u001b[0;34m'results'\u001b[0m\u001b[0;34m]\u001b[0m \u001b[0;34m>\u001b[0m \u001b[0mbest_score\u001b[0m\u001b[0;34m:\u001b[0m\u001b[0;34m\u001b[0m\u001b[0;34m\u001b[0m\u001b[0m\n\u001b[1;32m     34\u001b[0m                 \u001b[0mbest_score\u001b[0m \u001b[0;34m=\u001b[0m \u001b[0mself\u001b[0m\u001b[0;34m.\u001b[0m\u001b[0mlogs\u001b[0m\u001b[0;34m[\u001b[0m\u001b[0midx\u001b[0m\u001b[0;34m]\u001b[0m\u001b[0;34m[\u001b[0m\u001b[0;34m'results'\u001b[0m\u001b[0;34m]\u001b[0m\u001b[0;34m\u001b[0m\u001b[0;34m\u001b[0m\u001b[0m\n",
      "\u001b[0;31mAttributeError\u001b[0m: 'list' object has no attribute 'keys'"
     ]
    }
   ],
   "source": [
    "print(hyperparam.bestConfig())"
   ]
  }
 ],
 "metadata": {
  "kernelspec": {
   "display_name": "Python 3",
   "language": "python",
   "name": "python3"
  },
  "language_info": {
   "codemirror_mode": {
    "name": "ipython",
    "version": 3
   },
   "file_extension": ".py",
   "mimetype": "text/x-python",
   "name": "python",
   "nbconvert_exporter": "python",
   "pygments_lexer": "ipython3",
   "version": "3.6.8"
  }
 },
 "nbformat": 4,
 "nbformat_minor": 2
}
