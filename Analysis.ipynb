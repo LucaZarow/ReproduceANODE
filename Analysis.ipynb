{
 "cells": [
  {
   "cell_type": "markdown",
   "metadata": {},
   "source": [
    "# Imports"
   ]
  },
  {
   "cell_type": "code",
   "execution_count": 1,
   "metadata": {},
   "outputs": [],
   "source": [
    "import torch\n",
    "import torch.optim as optim\n",
    "import numpy as np\n",
    "import matplotlib.pyplot as plt\n",
    "import models\n",
    "import loader\n",
    "import training\n",
    "import metrics\n",
    "import autotune"
   ]
  },
  {
   "cell_type": "markdown",
   "metadata": {},
   "source": [
    "# Flags"
   ]
  },
  {
   "cell_type": "code",
   "execution_count": 2,
   "metadata": {},
   "outputs": [],
   "source": [
    "TRAIN_MNIST = False\n",
    "TRAIN_CIFAR = False"
   ]
  },
  {
   "cell_type": "markdown",
   "metadata": {},
   "source": [
    "# GPU"
   ]
  },
  {
   "cell_type": "code",
   "execution_count": 3,
   "metadata": {},
   "outputs": [],
   "source": [
    "device = torch.device(\"cuda\")"
   ]
  },
  {
   "cell_type": "markdown",
   "metadata": {},
   "source": [
    "# Data Loading"
   ]
  },
  {
   "cell_type": "code",
   "execution_count": 4,
   "metadata": {},
   "outputs": [],
   "source": [
    "mnist_data_path = './train-images-idx3-ubyte'\n",
    "mnist_label_path = './train-labels-idx1-ubyte'\n",
    "\n",
    "cifar_data_path = './cifar-10-batches-py'"
   ]
  },
  {
   "cell_type": "code",
   "execution_count": 5,
   "metadata": {},
   "outputs": [],
   "source": [
    "#5-fold generation\n",
    "mnist_data = loader.MNIST(mnist_data_path, mnist_label_path, 5)\n",
    "mnist_splits = mnist_data.splits\n",
    "\n",
    "cifar_data = loader.CIFAR(cifar_data_path, 5)\n",
    "cifar_splits = cifar_data.splits"
   ]
  },
  {
   "cell_type": "code",
   "execution_count": 6,
   "metadata": {},
   "outputs": [
    {
     "name": "stdout",
     "output_type": "stream",
     "text": [
      "MNIST STATS\n",
      "Number of splits: 5\n",
      "Number of segments per split (train, val, test): 3\n",
      "Info per segment (data, labels): 2\n",
      "Size of segement (num examples): 48000\n",
      "\n",
      "CIFAR STATS\n",
      "Number of splits: 5\n",
      "Number of segments per split (train, val, test): 3\n",
      "Info per segment (data, labels): 2\n",
      "Size of segement (num examples): 40000\n"
     ]
    }
   ],
   "source": [
    "print(\"MNIST STATS\")\n",
    "print(\"Number of splits:\", len(mnist_splits))\n",
    "print(\"Number of segments per split (train, val, test):\", len(mnist_splits[0]))\n",
    "print(\"Info per segment (data, labels):\", len(mnist_splits[0][0]))\n",
    "print(\"Size of segement (num examples):\", len(mnist_splits[0][0][0]))\n",
    "print()\n",
    "print(\"CIFAR STATS\")\n",
    "print(\"Number of splits:\", len(cifar_splits))\n",
    "print(\"Number of segments per split (train, val, test):\", len(cifar_splits[0]))\n",
    "print(\"Info per segment (data, labels):\", len(cifar_splits[0][0]))\n",
    "print(\"Size of segement (num examples):\", len(cifar_splits[0][0][0]))"
   ]
  },
  {
   "cell_type": "markdown",
   "metadata": {},
   "source": [
    "# Model & Optimizer"
   ]
  },
  {
   "cell_type": "code",
   "execution_count": 7,
   "metadata": {
    "scrolled": false
   },
   "outputs": [],
   "source": [
    "model = models.VanillaCNN\n",
    "optimizer = optim.Adam\n",
    "mnist_in_channels=(1,)\n",
    "cifar_in_channels=(3,)"
   ]
  },
  {
   "cell_type": "markdown",
   "metadata": {},
   "source": [
    "# Training and Evaluation"
   ]
  },
  {
   "cell_type": "markdown",
   "metadata": {},
   "source": [
    "## MNIST"
   ]
  },
  {
   "cell_type": "code",
   "execution_count": 8,
   "metadata": {},
   "outputs": [],
   "source": [
    "if TRAIN_MNIST:\n",
    "    mnist_trainer = training.Trainer(model, optimizer, mnist_data, device)"
   ]
  },
  {
   "cell_type": "code",
   "execution_count": 9,
   "metadata": {
    "scrolled": true
   },
   "outputs": [],
   "source": [
    "if TRAIN_MNIST:\n",
    "    mnist_trainer.train(mnist_in_channels, 1e-3, 2, 128, 8, verbose=False, num_loss=3)"
   ]
  },
  {
   "cell_type": "code",
   "execution_count": 10,
   "metadata": {},
   "outputs": [],
   "source": [
    "if TRAIN_MNIST:\n",
    "    mnist_trainer.test(mnist_in_channels, 128, 12)"
   ]
  },
  {
   "cell_type": "code",
   "execution_count": 11,
   "metadata": {},
   "outputs": [],
   "source": [
    "if TRAIN_MNIST:\n",
    "    mnist_plotter = metrics.Plotter(mnist_trainer.val_metrics)"
   ]
  },
  {
   "cell_type": "code",
   "execution_count": 12,
   "metadata": {},
   "outputs": [],
   "source": [
    "if TRAIN_MNIST:\n",
    "    mnist_plotter.plotLoss(\"Loss\")"
   ]
  },
  {
   "cell_type": "code",
   "execution_count": 13,
   "metadata": {},
   "outputs": [],
   "source": [
    "if TRAIN_MNIST:\n",
    "    mnist_plotter.plotLoss(\"Loss\", mnist_trainer.metrics())"
   ]
  },
  {
   "cell_type": "code",
   "execution_count": 14,
   "metadata": {},
   "outputs": [],
   "source": [
    "if TRAIN_MNIST:\n",
    "    mnist_plotter.plotAccuracy(\"Acc\")"
   ]
  },
  {
   "cell_type": "markdown",
   "metadata": {},
   "source": [
    "## CIFAR"
   ]
  },
  {
   "cell_type": "code",
   "execution_count": 15,
   "metadata": {},
   "outputs": [],
   "source": [
    "if TRAIN_CIFAR:\n",
    "    cifar_trainer = training.Trainer(model, optimizer, cifar_data, device)"
   ]
  },
  {
   "cell_type": "code",
   "execution_count": 16,
   "metadata": {},
   "outputs": [],
   "source": [
    "if TRAIN_CIFAR:\n",
    "    cifar_trainer.train(cifar_in_channels, 1e-3, 1, 32, 8, verbose=False, num_loss=3)"
   ]
  },
  {
   "cell_type": "code",
   "execution_count": 17,
   "metadata": {},
   "outputs": [],
   "source": [
    "if TRAIN_CIFAR:\n",
    "    cifar_trainer.test(cifar_in_channels, 128, 12)"
   ]
  },
  {
   "cell_type": "markdown",
   "metadata": {},
   "source": [
    "# Hyperparam Search"
   ]
  },
  {
   "cell_type": "code",
   "execution_count": 18,
   "metadata": {},
   "outputs": [],
   "source": [
    "from torch import nn\n",
    "class TuneNN(nn.Module):\n",
    "    def __init__(self, in_channels, hidden_dims):\n",
    "        super(TuneNN, self).__init__()\n",
    "\n",
    "        self.blockOne = nn.Sequential(\n",
    "            nn.Conv2d(in_channels, hidden_dims, 3, padding=1),\n",
    "            nn.BatchNorm2d(hidden_dims),\n",
    "            nn.ReLU(True),\n",
    "            nn.Dropout2d(0.2),\n",
    "            nn.MaxPool2d(2,2)\n",
    "        )\n",
    "        \n",
    "        self.blockTwo = nn.Sequential(\n",
    "            nn.Conv2d(hidden_dims, hidden_dims, 3, padding=1),\n",
    "            nn.BatchNorm2d(hidden_dims),\n",
    "            nn.ReLU(True),\n",
    "            nn.Dropout2d(0.2),\n",
    "            nn.MaxPool2d(2,2)\n",
    "        )\n",
    "        \n",
    "        self.blockThree = nn.Sequential(\n",
    "            nn.Conv2d(hidden_dims, hidden_dims, 3, padding=1),\n",
    "            nn.BatchNorm2d(hidden_dims),\n",
    "            nn.ReLU(True),\n",
    "            nn.Dropout2d(0.1),\n",
    "        )\n",
    "        \n",
    "        self.gap = nn.AdaptiveAvgPool2d(1)\n",
    "        \n",
    "        self.linear = nn.Sequential(\n",
    "            nn.Linear(hidden_dims, 10),\n",
    "        )\n",
    "            \n",
    "    def forward(self, x):\n",
    "        x = self.blockOne(x)\n",
    "        x = self.blockTwo(x)\n",
    "        x = self.blockThree(x)\n",
    "        x = self.gap(x)\n",
    "        x = x.view(x.size(0), -1)\n",
    "        x = self.linear(x)\n",
    "        return x"
   ]
  },
  {
   "cell_type": "code",
   "execution_count": 19,
   "metadata": {},
   "outputs": [],
   "source": [
    "# model params - *args as tuple (model based)\n",
    "# train params - *args as tuple (learning rate, epochs, batch size, number of workers)\n",
    "\n",
    "config_1 = {\n",
    "    'model' : (1,8),\n",
    "    'train' : (1e-2, 1, 32, 8)\n",
    "}\n",
    "\n",
    "config_2 = {\n",
    "    'model' : (1,32),\n",
    "    'train' : (1e-3, 1, 32, 8)\n",
    "}\n",
    "\n",
    "config_3 = {\n",
    "    'model' : (1,64),\n",
    "    'train' : (1e-3, 1, 32, 8)\n",
    "}\n",
    "\n",
    "configs = [config_3, config_2, config_1]"
   ]
  },
  {
   "cell_type": "code",
   "execution_count": 20,
   "metadata": {},
   "outputs": [],
   "source": [
    "hyperparam = autotune.Autotuner(TuneNN, optimizer, mnist_data, device)"
   ]
  },
  {
   "cell_type": "code",
   "execution_count": 21,
   "metadata": {
    "scrolled": false
   },
   "outputs": [
    {
     "name": "stdout",
     "output_type": "stream",
     "text": [
      "[Fold 1] Epoch:1 Training Acc:0.76825\n",
      "[Fold 1] Epoch:1 Validation Acc:0.965\n",
      "[Fold 2] Epoch:1 Training Acc:0.7764583333333334\n",
      "[Fold 2] Epoch:1 Validation Acc:0.9706666666666667\n",
      "[Fold 3] Epoch:1 Training Acc:0.7766666666666666\n",
      "[Fold 3] Epoch:1 Validation Acc:0.966\n",
      "[Fold 4] Epoch:1 Training Acc:0.7803541666666667\n",
      "[Fold 4] Epoch:1 Validation Acc:0.9681666666666666\n",
      "[Fold 5] Epoch:1 Training Acc:0.7714583333333334\n",
      "[Fold 5] Epoch:1 Validation Acc:0.9643333333333334\n",
      "Best Fold Validation Results: [0.965   0.97067 0.966   0.96817 0.96433]\n",
      "Finished Cross Validation Training\n",
      "[Fold: 1] Testing Acc: 0.9638333333333333\n",
      "[Fold: 2] Testing Acc: 0.9706666666666667\n",
      "[Fold: 3] Testing Acc: 0.9673333333333334\n",
      "[Fold: 4] Testing Acc: 0.969\n",
      "[Fold: 5] Testing Acc: 0.9688333333333333\n",
      "[Fold 1] Epoch:1 Training Acc:0.6501666666666667\n",
      "[Fold 1] Epoch:1 Validation Acc:0.9378333333333333\n",
      "[Fold 2] Epoch:1 Training Acc:0.648375\n",
      "[Fold 2] Epoch:1 Validation Acc:0.9445\n",
      "[Fold 3] Epoch:1 Training Acc:0.6355208333333333\n",
      "[Fold 3] Epoch:1 Validation Acc:0.9513333333333334\n",
      "[Fold 4] Epoch:1 Training Acc:0.649125\n",
      "[Fold 4] Epoch:1 Validation Acc:0.9495\n",
      "[Fold 5] Epoch:1 Training Acc:0.6368958333333333\n",
      "[Fold 5] Epoch:1 Validation Acc:0.9345\n",
      "Best Fold Validation Results: [0.93783 0.9445  0.95133 0.9495  0.9345 ]\n",
      "Finished Cross Validation Training\n",
      "[Fold: 1] Testing Acc: 0.9385\n",
      "[Fold: 2] Testing Acc: 0.949\n",
      "[Fold: 3] Testing Acc: 0.9461666666666667\n",
      "[Fold: 4] Testing Acc: 0.9511666666666667\n",
      "[Fold: 5] Testing Acc: 0.9445\n",
      "[Fold 1] Epoch:1 Training Acc:0.47302083333333333\n",
      "[Fold 1] Epoch:1 Validation Acc:0.8708333333333333\n",
      "[Fold 2] Epoch:1 Training Acc:0.457\n",
      "[Fold 2] Epoch:1 Validation Acc:0.8131666666666667\n",
      "[Fold 3] Epoch:1 Training Acc:0.494125\n",
      "[Fold 3] Epoch:1 Validation Acc:0.8145\n",
      "[Fold 4] Epoch:1 Training Acc:0.4870833333333333\n",
      "[Fold 4] Epoch:1 Validation Acc:0.837\n",
      "[Fold 5] Epoch:1 Training Acc:0.46141666666666664\n",
      "[Fold 5] Epoch:1 Validation Acc:0.7378333333333333\n",
      "Best Fold Validation Results: [0.87083 0.81317 0.8145  0.837   0.73783]\n",
      "Finished Cross Validation Training\n",
      "[Fold: 1] Testing Acc: 0.862\n",
      "[Fold: 2] Testing Acc: 0.8125\n",
      "[Fold: 3] Testing Acc: 0.8211666666666667\n",
      "[Fold: 4] Testing Acc: 0.8416666666666667\n",
      "[Fold: 5] Testing Acc: 0.742\n"
     ]
    }
   ],
   "source": [
    "hyperparam.search(configs)"
   ]
  },
  {
   "cell_type": "code",
   "execution_count": 22,
   "metadata": {},
   "outputs": [
    {
     "data": {
      "text/plain": [
       "{'model': (1, 64), 'train': (0.001, 1, 32, 8), 'results': 0.9679333333333332}"
      ]
     },
     "execution_count": 22,
     "metadata": {},
     "output_type": "execute_result"
    }
   ],
   "source": [
    "hyperparam.bestConfig()"
   ]
  }
 ],
 "metadata": {
  "kernelspec": {
   "display_name": "Python 3",
   "language": "python",
   "name": "python3"
  },
  "language_info": {
   "codemirror_mode": {
    "name": "ipython",
    "version": 3
   },
   "file_extension": ".py",
   "mimetype": "text/x-python",
   "name": "python",
   "nbconvert_exporter": "python",
   "pygments_lexer": "ipython3",
   "version": "3.6.8"
  }
 },
 "nbformat": 4,
 "nbformat_minor": 2
}
