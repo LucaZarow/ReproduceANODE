{
 "cells": [
  {
   "cell_type": "markdown",
   "metadata": {},
   "source": [
    "# Imports"
   ]
  },
  {
   "cell_type": "code",
   "execution_count": 1,
   "metadata": {},
   "outputs": [],
   "source": [
    "import torch\n",
    "import torch.optim as optim\n",
    "import numpy as np\n",
    "import node_models\n",
    "import loader\n",
    "import training\n",
    "import metrics\n",
    "import autotune\n",
    "import config"
   ]
  },
  {
   "cell_type": "markdown",
   "metadata": {},
   "source": [
    "# GPU"
   ]
  },
  {
   "cell_type": "code",
   "execution_count": 2,
   "metadata": {},
   "outputs": [],
   "source": [
    "device = torch.device(1)"
   ]
  },
  {
   "cell_type": "markdown",
   "metadata": {},
   "source": [
    "# Data Loading"
   ]
  },
  {
   "cell_type": "code",
   "execution_count": 3,
   "metadata": {},
   "outputs": [],
   "source": [
    "mnist_data_path = './train-images-idx3-ubyte'\n",
    "mnist_label_path = './train-labels-idx1-ubyte'"
   ]
  },
  {
   "cell_type": "code",
   "execution_count": 4,
   "metadata": {},
   "outputs": [],
   "source": [
    "#5-fold generation\n",
    "mnist_data = loader.MNIST(mnist_data_path, mnist_label_path, 3)\n",
    "mnist_splits = mnist_data.splits"
   ]
  },
  {
   "cell_type": "code",
   "execution_count": 5,
   "metadata": {},
   "outputs": [
    {
     "name": "stdout",
     "output_type": "stream",
     "text": [
      "MNIST STATS\n",
      "Number of splits: 3\n",
      "Number of segments per split (train, val, test): 3\n",
      "Info per segment (data, labels): 2\n",
      "Size of segement (num examples): 40000\n"
     ]
    }
   ],
   "source": [
    "print(\"MNIST STATS\")\n",
    "print(\"Number of splits:\", len(mnist_splits))\n",
    "print(\"Number of segments per split (train, val, test):\", len(mnist_splits[0]))\n",
    "print(\"Info per segment (data, labels):\", len(mnist_splits[0][0]))\n",
    "print(\"Size of segement (num examples):\", len(mnist_splits[0][0][0]))"
   ]
  },
  {
   "cell_type": "markdown",
   "metadata": {},
   "source": [
    "# Model & Optimizer"
   ]
  },
  {
   "cell_type": "code",
   "execution_count": 6,
   "metadata": {
    "scrolled": false
   },
   "outputs": [],
   "source": [
    "model = node_models.NeuralODE\n",
    "optimizer = optim.Adam"
   ]
  },
  {
   "cell_type": "markdown",
   "metadata": {},
   "source": [
    "# Training and Evaluation"
   ]
  },
  {
   "cell_type": "markdown",
   "metadata": {},
   "source": [
    "## MNIST"
   ]
  },
  {
   "cell_type": "markdown",
   "metadata": {},
   "source": [
    "### NODE"
   ]
  },
  {
   "cell_type": "code",
   "execution_count": 7,
   "metadata": {},
   "outputs": [],
   "source": [
    "model_params = config.baseline_config_mnist_node['model']\n",
    "lr, epochs, batch, workers = config.baseline_config_mnist_node['train']"
   ]
  },
  {
   "cell_type": "code",
   "execution_count": 8,
   "metadata": {},
   "outputs": [],
   "source": [
    "node_mnist_trainer = training.Trainer(model, optimizer, mnist_data, device)"
   ]
  },
  {
   "cell_type": "code",
   "execution_count": null,
   "metadata": {},
   "outputs": [
    {
     "name": "stdout",
     "output_type": "stream",
     "text": [
      "[1,   416] loss: 1.68430\n",
      "[1,   832] loss: 0.38751\n",
      "[1,  1248] loss: 0.33644\n",
      "[Fold 1] Epoch:1 Training Acc:0.854875\n",
      "[Fold 1] Epoch:1 Validation Acc:0.9075\n",
      "[2,   416] loss: 0.31004\n",
      "[2,   832] loss: 0.28060\n",
      "[2,  1248] loss: 0.25334\n",
      "[Fold 1] Epoch:2 Training Acc:0.917375\n",
      "[Fold 1] Epoch:2 Validation Acc:0.9368\n",
      "[3,   416] loss: 0.22367\n",
      "[3,   832] loss: 0.21050\n",
      "[3,  1248] loss: 0.19441\n",
      "[Fold 1] Epoch:3 Training Acc:0.93635\n",
      "[Fold 1] Epoch:3 Validation Acc:0.9345\n",
      "[4,   416] loss: 0.17521\n",
      "[4,   832] loss: 0.16814\n",
      "[4,  1248] loss: 0.17559\n",
      "[Fold 1] Epoch:4 Training Acc:0.947525\n",
      "[Fold 1] Epoch:4 Validation Acc:0.9514\n",
      "[5,   416] loss: 0.15598\n",
      "[5,   832] loss: 0.14599\n",
      "[5,  1248] loss: 0.15097\n",
      "[Fold 1] Epoch:5 Training Acc:0.953675\n",
      "[Fold 1] Epoch:5 Validation Acc:0.9492\n",
      "[6,   416] loss: 0.13582\n",
      "[6,   832] loss: 0.13382\n",
      "[6,  1248] loss: 0.13615\n",
      "[Fold 1] Epoch:6 Training Acc:0.9581\n",
      "[Fold 1] Epoch:6 Validation Acc:0.9565\n",
      "[7,   416] loss: 0.11771\n",
      "[7,   832] loss: 0.12368\n",
      "[7,  1248] loss: 0.12120\n",
      "[Fold 1] Epoch:7 Training Acc:0.962475\n",
      "[Fold 1] Epoch:7 Validation Acc:0.9591\n",
      "[8,   416] loss: 0.11108\n",
      "[8,   832] loss: 0.11451\n",
      "[8,  1248] loss: 0.11493\n",
      "[Fold 1] Epoch:8 Training Acc:0.964175\n",
      "[Fold 1] Epoch:8 Validation Acc:0.9449\n",
      "[9,   416] loss: 0.10070\n",
      "[9,   832] loss: 0.10058\n",
      "[9,  1248] loss: 0.11565\n",
      "[Fold 1] Epoch:9 Training Acc:0.966475\n",
      "[Fold 1] Epoch:9 Validation Acc:0.9642\n",
      "[10,   416] loss: 0.09230\n",
      "[10,   832] loss: 0.09251\n",
      "[10,  1248] loss: 0.10663\n",
      "[Fold 1] Epoch:10 Training Acc:0.9685\n",
      "[Fold 1] Epoch:10 Validation Acc:0.9642\n",
      "[11,   416] loss: 0.08470\n",
      "[11,   832] loss: 0.09241\n",
      "[11,  1248] loss: 0.08787\n",
      "[Fold 1] Epoch:11 Training Acc:0.971125\n",
      "[Fold 1] Epoch:11 Validation Acc:0.9602\n",
      "[12,   416] loss: 0.07915\n",
      "[12,   832] loss: 0.08146\n",
      "[12,  1248] loss: 0.09142\n",
      "[Fold 1] Epoch:12 Training Acc:0.972975\n",
      "[Fold 1] Epoch:12 Validation Acc:0.9641\n",
      "[13,   416] loss: 0.07542\n",
      "[13,   832] loss: 0.08182\n",
      "[13,  1248] loss: 0.08009\n",
      "[Fold 1] Epoch:13 Training Acc:0.974225\n",
      "[Fold 1] Epoch:13 Validation Acc:0.9607\n",
      "[14,   416] loss: 0.06795\n",
      "[14,   832] loss: 0.07625\n",
      "[14,  1248] loss: 0.07598\n",
      "[Fold 1] Epoch:14 Training Acc:0.9754\n",
      "[Fold 1] Epoch:14 Validation Acc:0.962\n",
      "[15,   416] loss: 0.06285\n",
      "[15,   832] loss: 0.07046\n",
      "[15,  1248] loss: 0.07318\n",
      "[Fold 1] Epoch:15 Training Acc:0.97665\n",
      "[Fold 1] Epoch:15 Validation Acc:0.9673\n",
      "[1,   416] loss: 1.73381\n",
      "[1,   832] loss: 0.38690\n",
      "[1,  1248] loss: 0.32494\n",
      "[Fold 2] Epoch:1 Training Acc:0.850125\n",
      "[Fold 2] Epoch:1 Validation Acc:0.9175\n",
      "[2,   416] loss: 0.27554\n",
      "[2,   832] loss: 0.24913\n",
      "[2,  1248] loss: 0.24128\n",
      "[Fold 2] Epoch:2 Training Acc:0.92355\n",
      "[Fold 2] Epoch:2 Validation Acc:0.9411\n",
      "[3,   416] loss: 0.23072\n",
      "[3,   832] loss: 0.20357\n",
      "[3,  1248] loss: 0.20146\n",
      "[Fold 2] Epoch:3 Training Acc:0.937625\n",
      "[Fold 2] Epoch:3 Validation Acc:0.9471\n",
      "[4,   416] loss: 0.18196\n",
      "[4,   832] loss: 0.17315\n",
      "[4,  1248] loss: 0.18709\n",
      "[Fold 2] Epoch:4 Training Acc:0.9453\n",
      "[Fold 2] Epoch:4 Validation Acc:0.9549\n",
      "[5,   416] loss: 0.16003\n",
      "[5,   832] loss: 0.15161\n",
      "[5,  1248] loss: 0.14967\n",
      "[Fold 2] Epoch:5 Training Acc:0.95155\n",
      "[Fold 2] Epoch:5 Validation Acc:0.9445\n",
      "[6,   416] loss: 0.13550\n",
      "[6,   832] loss: 0.14253\n"
     ]
    }
   ],
   "source": [
    "node_mnist_trainer.train(model_params, lr, epochs, batch, num_workers=4, verbose=True, num_loss=3)"
   ]
  },
  {
   "cell_type": "code",
   "execution_count": null,
   "metadata": {},
   "outputs": [],
   "source": [
    "node_mnist_trainer.test(model_params, 10, 3)"
   ]
  },
  {
   "cell_type": "code",
   "execution_count": null,
   "metadata": {},
   "outputs": [],
   "source": [
    " torch.cuda.empty_cache()"
   ]
  },
  {
   "cell_type": "markdown",
   "metadata": {},
   "source": [
    "### ANODE"
   ]
  },
  {
   "cell_type": "code",
   "execution_count": null,
   "metadata": {},
   "outputs": [],
   "source": [
    "model_params = config.baseline_config_mnist_anode['model']\n",
    "lr, epochs, batch, workers = baseline_config.config_mnist_anode['train']"
   ]
  },
  {
   "cell_type": "code",
   "execution_count": null,
   "metadata": {},
   "outputs": [],
   "source": [
    "anode_mnist_trainer = training.Trainer(model, optimizer, mnist_data, device)"
   ]
  },
  {
   "cell_type": "code",
   "execution_count": null,
   "metadata": {
    "scrolled": true
   },
   "outputs": [],
   "source": [
    "anode_mnist_trainer.train(model_params, lr, epochs, batch, num_workers=4, verbose=True, num_loss=3)"
   ]
  },
  {
   "cell_type": "code",
   "execution_count": null,
   "metadata": {},
   "outputs": [],
   "source": [
    "anode_mnist_trainer.test(model_params, 10, 3)"
   ]
  },
  {
   "cell_type": "markdown",
   "metadata": {},
   "source": [
    "# Plots"
   ]
  },
  {
   "cell_type": "code",
   "execution_count": null,
   "metadata": {},
   "outputs": [],
   "source": [
    "node_mnist_trainer.val_metrics['legend'] = 'NODE'\n",
    "anode_mnist_trainer.val_metrics['legend'] = 'ANODE'\n",
    "metrics = [node_mnist_trainer.val_metrics, anode_mnist_trainer.val_metrics]"
   ]
  },
  {
   "cell_type": "code",
   "execution_count": null,
   "metadata": {},
   "outputs": [],
   "source": [
    "plt = metrics.Plotter(metrics)"
   ]
  },
  {
   "cell_type": "code",
   "execution_count": null,
   "metadata": {},
   "outputs": [],
   "source": [
    "plt.plotLoss(\"Optimized Model Validation Loss Comparisons\")"
   ]
  },
  {
   "cell_type": "code",
   "execution_count": null,
   "metadata": {},
   "outputs": [],
   "source": [
    "plt.plotAccuracy(\"Optimized Model Validation Accuracy Comparisons\")"
   ]
  }
 ],
 "metadata": {
  "kernelspec": {
   "display_name": "Python 3",
   "language": "python",
   "name": "python3"
  },
  "language_info": {
   "codemirror_mode": {
    "name": "ipython",
    "version": 3
   },
   "file_extension": ".py",
   "mimetype": "text/x-python",
   "name": "python",
   "nbconvert_exporter": "python",
   "pygments_lexer": "ipython3",
   "version": "3.5.2"
  }
 },
 "nbformat": 4,
 "nbformat_minor": 2
}
