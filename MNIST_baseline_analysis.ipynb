{
 "cells": [
  {
   "cell_type": "markdown",
   "metadata": {
    "colab_type": "text",
    "id": "ZgSzsOKH8SWm"
   },
   "source": [
    "# Imports"
   ]
  },
  {
   "cell_type": "code",
   "execution_count": 1,
   "metadata": {
    "colab": {},
    "colab_type": "code",
    "id": "DzxO-GAh8SWo"
   },
   "outputs": [],
   "source": [
    "import torch\n",
    "import torch.optim as optim\n",
    "import numpy as np\n",
    "import node_models\n",
    "import loader\n",
    "import training\n",
    "import metrics\n",
    "import autotune\n",
    "import config"
   ]
  },
  {
   "cell_type": "markdown",
   "metadata": {
    "colab_type": "text",
    "id": "IgXtJxU28SWt"
   },
   "source": [
    "# GPU"
   ]
  },
  {
   "cell_type": "code",
   "execution_count": 2,
   "metadata": {
    "colab": {},
    "colab_type": "code",
    "id": "gpkO6iWr8SWu"
   },
   "outputs": [],
   "source": [
    "device = torch.device(\"cuda\")"
   ]
  },
  {
   "cell_type": "markdown",
   "metadata": {
    "colab_type": "text",
    "id": "Z626Y47A8SWy"
   },
   "source": [
    "# Data Loading"
   ]
  },
  {
   "cell_type": "code",
   "execution_count": 3,
   "metadata": {
    "colab": {},
    "colab_type": "code",
    "id": "Uhn_bZjv8SWz"
   },
   "outputs": [],
   "source": [
    "mnist_data_path = './train-images-idx3-ubyte'\n",
    "mnist_label_path = './train-labels-idx1-ubyte'"
   ]
  },
  {
   "cell_type": "code",
   "execution_count": 4,
   "metadata": {
    "colab": {},
    "colab_type": "code",
    "id": "dSYZKcCm8SW3"
   },
   "outputs": [],
   "source": [
    "#5-fold generation\n",
    "mnist_data = loader.MNIST(mnist_data_path, mnist_label_path, 5)\n",
    "mnist_splits = mnist_data.splits"
   ]
  },
  {
   "cell_type": "code",
   "execution_count": 5,
   "metadata": {
    "colab": {
     "base_uri": "https://localhost:8080/",
     "height": 101
    },
    "colab_type": "code",
    "executionInfo": {
     "elapsed": 6237,
     "status": "ok",
     "timestamp": 1576346432954,
     "user": {
      "displayName": "Luca Zarow",
      "photoUrl": "",
      "userId": "14073072145030216948"
     },
     "user_tz": 300
    },
    "id": "b-ecW2568SW6",
    "outputId": "5c5ca1f7-f327-4f90-a3e5-bfa311290931"
   },
   "outputs": [
    {
     "name": "stdout",
     "output_type": "stream",
     "text": [
      "MNIST STATS\n",
      "Number of splits: 5\n",
      "Number of segments per split (train, val, test): 3\n",
      "Info per segment (data, labels): 2\n",
      "Size of segement (num examples): 48000\n"
     ]
    }
   ],
   "source": [
    "print(\"MNIST STATS\")\n",
    "print(\"Number of splits:\", len(mnist_splits))\n",
    "print(\"Number of segments per split (train, val, test):\", len(mnist_splits[0]))\n",
    "print(\"Info per segment (data, labels):\", len(mnist_splits[0][0]))\n",
    "print(\"Size of segement (num examples):\", len(mnist_splits[0][0][0]))"
   ]
  },
  {
   "cell_type": "markdown",
   "metadata": {
    "colab_type": "text",
    "id": "Gtkhbw0K8SW-"
   },
   "source": [
    "# Model & Optimizer"
   ]
  },
  {
   "cell_type": "code",
   "execution_count": 6,
   "metadata": {
    "colab": {},
    "colab_type": "code",
    "id": "4FsoNMPl8SXA",
    "scrolled": false
   },
   "outputs": [],
   "source": [
    "model = node_models.NeuralODE\n",
    "optimizer = optim.Adam"
   ]
  },
  {
   "cell_type": "markdown",
   "metadata": {
    "colab_type": "text",
    "id": "KtCPdvTB8SXD"
   },
   "source": [
    "# Training and Evaluation"
   ]
  },
  {
   "cell_type": "markdown",
   "metadata": {
    "colab_type": "text",
    "id": "sXG9YMIE8SXE"
   },
   "source": [
    "## MNIST"
   ]
  },
  {
   "cell_type": "markdown",
   "metadata": {
    "colab_type": "text",
    "id": "gf6nacMI8SXF"
   },
   "source": [
    "### NODE"
   ]
  },
  {
   "cell_type": "code",
   "execution_count": 7,
   "metadata": {
    "colab": {},
    "colab_type": "code",
    "id": "kElwf9Cd8SXH"
   },
   "outputs": [],
   "source": [
    "model_params = config.baseline_config_mnist_node['model']\n",
    "lr, epochs, batch, workers = config.baseline_config_mnist_node['train']"
   ]
  },
  {
   "cell_type": "code",
   "execution_count": 8,
   "metadata": {
    "colab": {},
    "colab_type": "code",
    "id": "piH_LTUV8SXK"
   },
   "outputs": [],
   "source": [
    "node_mnist_trainer = training.Trainer(model, optimizer, mnist_data, device)"
   ]
  },
  {
   "cell_type": "code",
   "execution_count": 9,
   "metadata": {
    "colab": {
     "base_uri": "https://localhost:8080/",
     "height": 1000
    },
    "colab_type": "code",
    "executionInfo": {
     "elapsed": 22768273,
     "status": "ok",
     "timestamp": 1576371032829,
     "user": {
      "displayName": "Luca Zarow",
      "photoUrl": "",
      "userId": "14073072145030216948"
     },
     "user_tz": 300
    },
    "id": "4LCwfV-L8SXO",
    "outputId": "47681906-fa3e-4904-9a9e-a99dca24580b",
    "scrolled": true
   },
   "outputs": [
    {
     "name": "stdout",
     "output_type": "stream",
     "text": [
      "[Fold 1] Epoch:1 Training Acc:0.7992291666666667\n",
      "[Fold 1] Epoch:1 Validation Acc:0.8815\n",
      "[Fold 1] Epoch:2 Training Acc:0.900125\n",
      "[Fold 1] Epoch:2 Validation Acc:0.902\n",
      "[Fold 1] Epoch:3 Training Acc:0.9107916666666667\n",
      "[Fold 1] Epoch:3 Validation Acc:0.905\n",
      "[Fold 1] Epoch:4 Training Acc:0.9157916666666667\n",
      "[Fold 1] Epoch:4 Validation Acc:0.915\n",
      "[Fold 1] Epoch:5 Training Acc:0.9200625\n",
      "[Fold 1] Epoch:5 Validation Acc:0.9168333333333333\n",
      "[Fold 1] Epoch:6 Training Acc:0.921625\n",
      "[Fold 1] Epoch:6 Validation Acc:0.9126666666666666\n",
      "[Fold 1] Epoch:7 Training Acc:0.92275\n",
      "[Fold 1] Epoch:7 Validation Acc:0.922\n",
      "[Fold 1] Epoch:8 Training Acc:0.9268958333333334\n",
      "[Fold 1] Epoch:8 Validation Acc:0.921\n",
      "[Fold 1] Epoch:9 Training Acc:0.9263333333333333\n",
      "[Fold 1] Epoch:9 Validation Acc:0.9218333333333333\n",
      "[Fold 1] Epoch:10 Training Acc:0.927625\n",
      "[Fold 1] Epoch:10 Validation Acc:0.9183333333333333\n",
      "[Fold 1] Epoch:11 Training Acc:0.9324166666666667\n",
      "[Fold 1] Epoch:11 Validation Acc:0.9236666666666666\n",
      "[Fold 1] Epoch:12 Training Acc:0.9354166666666667\n",
      "[Fold 1] Epoch:12 Validation Acc:0.9293333333333333\n",
      "[Fold 1] Epoch:13 Training Acc:0.9388958333333334\n",
      "[Fold 1] Epoch:13 Validation Acc:0.9393333333333334\n",
      "[Fold 1] Epoch:14 Training Acc:0.942625\n",
      "[Fold 1] Epoch:14 Validation Acc:0.937\n",
      "[Fold 1] Epoch:15 Training Acc:0.943125\n",
      "[Fold 1] Epoch:15 Validation Acc:0.9411666666666667\n",
      "[Fold 1] Epoch:16 Training Acc:0.9456041666666667\n",
      "[Fold 1] Epoch:16 Validation Acc:0.9358333333333333\n",
      "[Fold 1] Epoch:17 Training Acc:0.9465\n",
      "[Fold 1] Epoch:17 Validation Acc:0.94\n",
      "[Fold 1] Epoch:18 Training Acc:0.950375\n",
      "[Fold 1] Epoch:18 Validation Acc:0.9446666666666667\n",
      "[Fold 1] Epoch:19 Training Acc:0.9502916666666666\n",
      "[Fold 1] Epoch:19 Validation Acc:0.943\n",
      "[Fold 1] Epoch:20 Training Acc:0.9461875\n",
      "[Fold 1] Epoch:20 Validation Acc:0.9463333333333334\n",
      "[Fold 1] Epoch:21 Training Acc:0.9521458333333334\n",
      "[Fold 1] Epoch:21 Validation Acc:0.9501666666666667\n",
      "[Fold 1] Epoch:22 Training Acc:0.9557083333333334\n",
      "[Fold 1] Epoch:22 Validation Acc:0.9456666666666667\n",
      "[Fold 1] Epoch:23 Training Acc:0.9560208333333333\n",
      "[Fold 1] Epoch:23 Validation Acc:0.9491666666666667\n",
      "[Fold 1] Epoch:24 Training Acc:0.9579166666666666\n",
      "[Fold 1] Epoch:24 Validation Acc:0.9451666666666667\n",
      "[Fold 1] Epoch:25 Training Acc:0.9563541666666666\n",
      "[Fold 1] Epoch:25 Validation Acc:0.9478333333333333\n",
      "[Fold 1] Epoch:26 Training Acc:0.9517291666666666\n",
      "[Fold 1] Epoch:26 Validation Acc:0.9491666666666667\n",
      "[Fold 1] Epoch:27 Training Acc:0.9591875\n",
      "[Fold 1] Epoch:27 Validation Acc:0.951\n",
      "[Fold 1] Epoch:28 Training Acc:0.94625\n",
      "[Fold 1] Epoch:28 Validation Acc:0.9476666666666667\n",
      "[Fold 1] Epoch:29 Training Acc:0.9530208333333333\n",
      "[Fold 1] Epoch:29 Validation Acc:0.9478333333333333\n",
      "[Fold 1] Epoch:30 Training Acc:0.9591875\n",
      "[Fold 1] Epoch:30 Validation Acc:0.9511666666666667\n",
      "[Fold 2] Epoch:1 Training Acc:0.7777083333333333\n",
      "[Fold 2] Epoch:1 Validation Acc:0.8741666666666666\n",
      "[Fold 2] Epoch:2 Training Acc:0.893625\n",
      "[Fold 2] Epoch:2 Validation Acc:0.8958333333333334\n",
      "[Fold 2] Epoch:3 Training Acc:0.9044375\n",
      "[Fold 2] Epoch:3 Validation Acc:0.9055\n",
      "[Fold 2] Epoch:4 Training Acc:0.9135208333333333\n",
      "[Fold 2] Epoch:4 Validation Acc:0.912\n",
      "[Fold 2] Epoch:5 Training Acc:0.916375\n",
      "[Fold 2] Epoch:5 Validation Acc:0.9165\n",
      "[Fold 2] Epoch:6 Training Acc:0.9185208333333333\n",
      "[Fold 2] Epoch:6 Validation Acc:0.9145\n",
      "[Fold 2] Epoch:7 Training Acc:0.9224583333333334\n",
      "[Fold 2] Epoch:7 Validation Acc:0.9188333333333333\n",
      "[Fold 2] Epoch:8 Training Acc:0.9245\n",
      "[Fold 2] Epoch:8 Validation Acc:0.9176666666666666\n",
      "[Fold 2] Epoch:9 Training Acc:0.9265416666666667\n",
      "[Fold 2] Epoch:9 Validation Acc:0.9216666666666666\n",
      "[Fold 2] Epoch:10 Training Acc:0.927125\n",
      "[Fold 2] Epoch:10 Validation Acc:0.9238333333333333\n",
      "[Fold 2] Epoch:11 Training Acc:0.9325208333333334\n",
      "[Fold 2] Epoch:11 Validation Acc:0.9295\n",
      "[Fold 2] Epoch:12 Training Acc:0.93275\n",
      "[Fold 2] Epoch:12 Validation Acc:0.9311666666666667\n",
      "[Fold 2] Epoch:13 Training Acc:0.9389375\n",
      "[Fold 2] Epoch:13 Validation Acc:0.9383333333333334\n",
      "[Fold 2] Epoch:14 Training Acc:0.9414375\n",
      "[Fold 2] Epoch:14 Validation Acc:0.9343333333333333\n",
      "[Fold 2] Epoch:15 Training Acc:0.9438958333333334\n",
      "[Fold 2] Epoch:15 Validation Acc:0.9371666666666667\n",
      "[Fold 2] Epoch:16 Training Acc:0.947\n",
      "[Fold 2] Epoch:16 Validation Acc:0.9388333333333333\n",
      "[Fold 2] Epoch:17 Training Acc:0.9481458333333334\n",
      "[Fold 2] Epoch:17 Validation Acc:0.9368333333333333\n",
      "[Fold 2] Epoch:18 Training Acc:0.9499791666666667\n",
      "[Fold 2] Epoch:18 Validation Acc:0.9381666666666667\n",
      "[Fold 2] Epoch:19 Training Acc:0.9512083333333333\n",
      "[Fold 2] Epoch:19 Validation Acc:0.9416666666666667\n",
      "[Fold 2] Epoch:20 Training Acc:0.9534375\n",
      "[Fold 2] Epoch:20 Validation Acc:0.941\n",
      "[Fold 2] Epoch:21 Training Acc:0.9568958333333333\n",
      "[Fold 2] Epoch:21 Validation Acc:0.9431666666666667\n",
      "[Fold 2] Epoch:22 Training Acc:0.9557708333333333\n",
      "[Fold 2] Epoch:22 Validation Acc:0.9456666666666667\n",
      "[Fold 2] Epoch:23 Training Acc:0.9570625\n",
      "[Fold 2] Epoch:23 Validation Acc:0.9445\n",
      "[Fold 2] Epoch:24 Training Acc:0.9577083333333334\n",
      "[Fold 2] Epoch:24 Validation Acc:0.9413333333333334\n",
      "[Fold 2] Epoch:25 Training Acc:0.959\n",
      "[Fold 2] Epoch:25 Validation Acc:0.9416666666666667\n",
      "[Fold 2] Epoch:26 Training Acc:0.9602708333333333\n",
      "[Fold 2] Epoch:26 Validation Acc:0.9381666666666667\n",
      "[Fold 2] Epoch:27 Training Acc:0.9618125\n",
      "[Fold 2] Epoch:27 Validation Acc:0.9445\n",
      "[Fold 2] Epoch:28 Training Acc:0.9625625\n",
      "[Fold 2] Epoch:28 Validation Acc:0.9483333333333334\n",
      "[Fold 2] Epoch:29 Training Acc:0.9641041666666667\n",
      "[Fold 2] Epoch:29 Validation Acc:0.9448333333333333\n",
      "[Fold 2] Epoch:30 Training Acc:0.963875\n",
      "[Fold 2] Epoch:30 Validation Acc:0.9496666666666667\n",
      "[Fold 3] Epoch:1 Training Acc:0.7630833333333333\n",
      "[Fold 3] Epoch:1 Validation Acc:0.8815\n",
      "[Fold 3] Epoch:2 Training Acc:0.8942291666666666\n",
      "[Fold 3] Epoch:2 Validation Acc:0.896\n",
      "[Fold 3] Epoch:3 Training Acc:0.9082291666666666\n",
      "[Fold 3] Epoch:3 Validation Acc:0.9051666666666667\n",
      "[Fold 3] Epoch:4 Training Acc:0.9131041666666667\n",
      "[Fold 3] Epoch:4 Validation Acc:0.9098333333333334\n",
      "[Fold 3] Epoch:5 Training Acc:0.9176875\n",
      "[Fold 3] Epoch:5 Validation Acc:0.9186666666666666\n",
      "[Fold 3] Epoch:6 Training Acc:0.9201875\n",
      "[Fold 3] Epoch:6 Validation Acc:0.9201666666666667\n",
      "[Fold 3] Epoch:7 Training Acc:0.9221666666666667\n",
      "[Fold 3] Epoch:7 Validation Acc:0.9213333333333333\n",
      "[Fold 3] Epoch:8 Training Acc:0.9255\n",
      "[Fold 3] Epoch:8 Validation Acc:0.9168333333333333\n",
      "[Fold 3] Epoch:9 Training Acc:0.9279791666666667\n",
      "[Fold 3] Epoch:9 Validation Acc:0.9238333333333333\n",
      "[Fold 3] Epoch:10 Training Acc:0.9295833333333333\n",
      "[Fold 3] Epoch:10 Validation Acc:0.9285\n",
      "[Fold 3] Epoch:11 Training Acc:0.9323333333333333\n",
      "[Fold 3] Epoch:11 Validation Acc:0.9296666666666666\n",
      "[Fold 3] Epoch:12 Training Acc:0.9367083333333334\n",
      "[Fold 3] Epoch:12 Validation Acc:0.9371666666666667\n",
      "[Fold 3] Epoch:13 Training Acc:0.9385208333333334\n",
      "[Fold 3] Epoch:13 Validation Acc:0.9363333333333334\n",
      "[Fold 3] Epoch:14 Training Acc:0.9410208333333333\n",
      "[Fold 3] Epoch:14 Validation Acc:0.9406666666666667\n",
      "[Fold 3] Epoch:15 Training Acc:0.9435833333333333\n",
      "[Fold 3] Epoch:15 Validation Acc:0.941\n",
      "[Fold 3] Epoch:16 Training Acc:0.947125\n",
      "[Fold 3] Epoch:16 Validation Acc:0.9421666666666667\n",
      "[Fold 3] Epoch:17 Training Acc:0.94875\n",
      "[Fold 3] Epoch:17 Validation Acc:0.9388333333333333\n",
      "[Fold 3] Epoch:18 Training Acc:0.9488958333333334\n",
      "[Fold 3] Epoch:18 Validation Acc:0.9435\n",
      "[Fold 3] Epoch:19 Training Acc:0.950625\n",
      "[Fold 3] Epoch:19 Validation Acc:0.9461666666666667\n",
      "[Fold 3] Epoch:20 Training Acc:0.9543333333333334\n",
      "[Fold 3] Epoch:20 Validation Acc:0.9381666666666667\n",
      "[Fold 3] Epoch:21 Training Acc:0.9541875\n",
      "[Fold 3] Epoch:21 Validation Acc:0.9441666666666667\n",
      "[Fold 3] Epoch:22 Training Acc:0.9558333333333333\n",
      "[Fold 3] Epoch:22 Validation Acc:0.9523333333333334\n",
      "[Fold 3] Epoch:23 Training Acc:0.9583125\n",
      "[Fold 3] Epoch:23 Validation Acc:0.9511666666666667\n",
      "[Fold 3] Epoch:24 Training Acc:0.9597083333333334\n",
      "[Fold 3] Epoch:24 Validation Acc:0.9371666666666667\n",
      "[Fold 3] Epoch:25 Training Acc:0.9589791666666667\n",
      "[Fold 3] Epoch:25 Validation Acc:0.9516666666666667\n",
      "[Fold 3] Epoch:26 Training Acc:0.9616875\n",
      "[Fold 3] Epoch:26 Validation Acc:0.9495\n",
      "[Fold 3] Epoch:27 Training Acc:0.9624166666666667\n",
      "[Fold 3] Epoch:27 Validation Acc:0.9473333333333334\n",
      "[Fold 3] Epoch:28 Training Acc:0.9633125\n",
      "[Fold 3] Epoch:28 Validation Acc:0.9535\n"
     ]
    },
    {
     "name": "stdout",
     "output_type": "stream",
     "text": [
      "[Fold 3] Epoch:29 Training Acc:0.963625\n",
      "[Fold 3] Epoch:29 Validation Acc:0.9566666666666667\n",
      "[Fold 3] Epoch:30 Training Acc:0.9646458333333333\n",
      "[Fold 3] Epoch:30 Validation Acc:0.9515\n",
      "[Fold 4] Epoch:1 Training Acc:0.7413125\n",
      "[Fold 4] Epoch:1 Validation Acc:0.8775\n",
      "[Fold 4] Epoch:2 Training Acc:0.8924791666666667\n",
      "[Fold 4] Epoch:2 Validation Acc:0.9038333333333334\n",
      "[Fold 4] Epoch:3 Training Acc:0.9091666666666667\n",
      "[Fold 4] Epoch:3 Validation Acc:0.9155\n",
      "[Fold 4] Epoch:4 Training Acc:0.9249583333333333\n",
      "[Fold 4] Epoch:4 Validation Acc:0.9261666666666667\n",
      "[Fold 4] Epoch:5 Training Acc:0.9345833333333333\n",
      "[Fold 4] Epoch:5 Validation Acc:0.9395\n",
      "[Fold 4] Epoch:6 Training Acc:0.942875\n",
      "[Fold 4] Epoch:6 Validation Acc:0.9443333333333334\n",
      "[Fold 4] Epoch:7 Training Acc:0.9486875\n",
      "[Fold 4] Epoch:7 Validation Acc:0.9456666666666667\n",
      "[Fold 4] Epoch:8 Training Acc:0.9486041666666667\n",
      "[Fold 4] Epoch:8 Validation Acc:0.9485\n",
      "[Fold 4] Epoch:9 Training Acc:0.9527916666666667\n",
      "[Fold 4] Epoch:9 Validation Acc:0.9496666666666667\n",
      "[Fold 4] Epoch:10 Training Acc:0.9542083333333333\n",
      "[Fold 4] Epoch:10 Validation Acc:0.9513333333333334\n",
      "[Fold 4] Epoch:11 Training Acc:0.9566041666666667\n",
      "[Fold 4] Epoch:11 Validation Acc:0.9548333333333333\n",
      "[Fold 4] Epoch:12 Training Acc:0.9571041666666666\n",
      "[Fold 4] Epoch:12 Validation Acc:0.953\n",
      "[Fold 4] Epoch:13 Training Acc:0.9595416666666666\n",
      "[Fold 4] Epoch:13 Validation Acc:0.9561666666666667\n",
      "[Fold 4] Epoch:14 Training Acc:0.9595833333333333\n",
      "[Fold 4] Epoch:14 Validation Acc:0.954\n",
      "[Fold 4] Epoch:15 Training Acc:0.9613125\n",
      "[Fold 4] Epoch:15 Validation Acc:0.9596666666666667\n",
      "[Fold 4] Epoch:16 Training Acc:0.9633958333333333\n",
      "[Fold 4] Epoch:16 Validation Acc:0.9575\n",
      "[Fold 4] Epoch:17 Training Acc:0.9640833333333333\n",
      "[Fold 4] Epoch:17 Validation Acc:0.9608333333333333\n",
      "[Fold 4] Epoch:18 Training Acc:0.96525\n",
      "[Fold 4] Epoch:18 Validation Acc:0.9621666666666666\n",
      "[Fold 4] Epoch:19 Training Acc:0.9672291666666667\n",
      "[Fold 4] Epoch:19 Validation Acc:0.9556666666666667\n",
      "[Fold 4] Epoch:20 Training Acc:0.9669375\n",
      "[Fold 4] Epoch:20 Validation Acc:0.959\n",
      "[Fold 4] Epoch:21 Training Acc:0.968375\n",
      "[Fold 4] Epoch:21 Validation Acc:0.9558333333333333\n",
      "[Fold 4] Epoch:22 Training Acc:0.9689375\n",
      "[Fold 4] Epoch:22 Validation Acc:0.9595\n",
      "[Fold 4] Epoch:23 Training Acc:0.9700833333333333\n",
      "[Fold 4] Epoch:23 Validation Acc:0.9615\n",
      "[Fold 4] Epoch:24 Training Acc:0.9717916666666667\n",
      "[Fold 4] Epoch:24 Validation Acc:0.9648333333333333\n",
      "[Fold 4] Epoch:25 Training Acc:0.9731458333333334\n",
      "[Fold 4] Epoch:25 Validation Acc:0.9626666666666667\n",
      "[Fold 4] Epoch:26 Training Acc:0.971\n",
      "[Fold 4] Epoch:26 Validation Acc:0.9643333333333334\n",
      "[Fold 4] Epoch:27 Training Acc:0.9720416666666667\n",
      "[Fold 4] Epoch:27 Validation Acc:0.9621666666666666\n",
      "[Fold 4] Epoch:28 Training Acc:0.973625\n",
      "[Fold 4] Epoch:28 Validation Acc:0.9625\n",
      "[Fold 4] Epoch:29 Training Acc:0.9746666666666667\n",
      "[Fold 4] Epoch:29 Validation Acc:0.963\n",
      "[Fold 4] Epoch:30 Training Acc:0.9754166666666667\n",
      "[Fold 4] Epoch:30 Validation Acc:0.9563333333333334\n",
      "[Fold 5] Epoch:1 Training Acc:0.7935416666666667\n",
      "[Fold 5] Epoch:1 Validation Acc:0.8856666666666667\n",
      "[Fold 5] Epoch:2 Training Acc:0.8982291666666666\n",
      "[Fold 5] Epoch:2 Validation Acc:0.9013333333333333\n",
      "[Fold 5] Epoch:3 Training Acc:0.9103333333333333\n",
      "[Fold 5] Epoch:3 Validation Acc:0.911\n",
      "[Fold 5] Epoch:4 Training Acc:0.9149375\n",
      "[Fold 5] Epoch:4 Validation Acc:0.9151666666666667\n",
      "[Fold 5] Epoch:5 Training Acc:0.9167916666666667\n",
      "[Fold 5] Epoch:5 Validation Acc:0.9178333333333333\n",
      "[Fold 5] Epoch:6 Training Acc:0.9216666666666666\n",
      "[Fold 5] Epoch:6 Validation Acc:0.9243333333333333\n",
      "[Fold 5] Epoch:7 Training Acc:0.92425\n",
      "[Fold 5] Epoch:7 Validation Acc:0.925\n",
      "[Fold 5] Epoch:8 Training Acc:0.924125\n",
      "[Fold 5] Epoch:8 Validation Acc:0.9258333333333333\n",
      "[Fold 5] Epoch:9 Training Acc:0.9285833333333333\n",
      "[Fold 5] Epoch:9 Validation Acc:0.9301666666666667\n",
      "[Fold 5] Epoch:10 Training Acc:0.9326458333333333\n",
      "[Fold 5] Epoch:10 Validation Acc:0.9311666666666667\n",
      "[Fold 5] Epoch:11 Training Acc:0.938\n",
      "[Fold 5] Epoch:11 Validation Acc:0.937\n",
      "[Fold 5] Epoch:12 Training Acc:0.9426041666666667\n",
      "[Fold 5] Epoch:12 Validation Acc:0.9438333333333333\n",
      "[Fold 5] Epoch:13 Training Acc:0.9454166666666667\n",
      "[Fold 5] Epoch:13 Validation Acc:0.945\n",
      "[Fold 5] Epoch:14 Training Acc:0.9472291666666667\n",
      "[Fold 5] Epoch:14 Validation Acc:0.9473333333333334\n",
      "[Fold 5] Epoch:15 Training Acc:0.9528958333333334\n",
      "[Fold 5] Epoch:15 Validation Acc:0.951\n",
      "[Fold 5] Epoch:16 Training Acc:0.9513333333333334\n",
      "[Fold 5] Epoch:16 Validation Acc:0.9483333333333334\n",
      "[Fold 5] Epoch:17 Training Acc:0.955125\n",
      "[Fold 5] Epoch:17 Validation Acc:0.9525\n",
      "[Fold 5] Epoch:18 Training Acc:0.9576875\n",
      "[Fold 5] Epoch:18 Validation Acc:0.9588333333333333\n",
      "[Fold 5] Epoch:19 Training Acc:0.9598541666666667\n",
      "[Fold 5] Epoch:19 Validation Acc:0.9536666666666667\n",
      "[Fold 5] Epoch:20 Training Acc:0.9615416666666666\n",
      "[Fold 5] Epoch:20 Validation Acc:0.9565\n",
      "[Fold 5] Epoch:21 Training Acc:0.962875\n",
      "[Fold 5] Epoch:21 Validation Acc:0.9558333333333333\n",
      "[Fold 5] Epoch:22 Training Acc:0.9627916666666667\n",
      "[Fold 5] Epoch:22 Validation Acc:0.962\n",
      "[Fold 5] Epoch:23 Training Acc:0.9659375\n",
      "[Fold 5] Epoch:23 Validation Acc:0.9628333333333333\n",
      "[Fold 5] Epoch:24 Training Acc:0.9677916666666667\n",
      "[Fold 5] Epoch:24 Validation Acc:0.9603333333333334\n",
      "[Fold 5] Epoch:25 Training Acc:0.9666666666666667\n",
      "[Fold 5] Epoch:25 Validation Acc:0.9615\n",
      "[Fold 5] Epoch:26 Training Acc:0.9691666666666666\n",
      "[Fold 5] Epoch:26 Validation Acc:0.9573333333333334\n",
      "[Fold 5] Epoch:27 Training Acc:0.9696041666666667\n",
      "[Fold 5] Epoch:27 Validation Acc:0.9628333333333333\n",
      "[Fold 5] Epoch:28 Training Acc:0.9703541666666666\n",
      "[Fold 5] Epoch:28 Validation Acc:0.9611666666666666\n",
      "[Fold 5] Epoch:29 Training Acc:0.9708541666666667\n",
      "[Fold 5] Epoch:29 Validation Acc:0.9605\n",
      "[Fold 5] Epoch:30 Training Acc:0.9731458333333334\n",
      "[Fold 5] Epoch:30 Validation Acc:0.9618333333333333\n",
      "Best Fold Validation Results: [0.95117 0.94967 0.9515  0.95633 0.96183]\n",
      "Finished Cross Validation Training\n"
     ]
    }
   ],
   "source": [
    "node_mnist_trainer.train(model_params, lr, epochs, batch, workers, verbose=False)"
   ]
  },
  {
   "cell_type": "code",
   "execution_count": 10,
   "metadata": {
    "colab": {},
    "colab_type": "code",
    "id": "30yZuCu38SXS"
   },
   "outputs": [
    {
     "name": "stdout",
     "output_type": "stream",
     "text": [
      "[Fold: 1] Testing Acc: 0.9558333333333333\n",
      "[Fold: 2] Testing Acc: 0.952\n",
      "[Fold: 3] Testing Acc: 0.9531666666666667\n",
      "[Fold: 4] Testing Acc: 0.9561666666666667\n",
      "[Fold: 5] Testing Acc: 0.9613333333333334\n"
     ]
    }
   ],
   "source": [
    "node_mnist_trainer.test(model_params, batch, workers)"
   ]
  },
  {
   "cell_type": "markdown",
   "metadata": {
    "colab_type": "text",
    "id": "CrnjYLqC8SXY"
   },
   "source": [
    "### ANODE"
   ]
  },
  {
   "cell_type": "code",
   "execution_count": 11,
   "metadata": {
    "colab": {},
    "colab_type": "code",
    "id": "b0h2sVCv8SXa"
   },
   "outputs": [],
   "source": [
    "model_params = config.baseline_config_mnist_anode['model']\n",
    "lr, epochs, batch, workers = config.baseline_config_mnist_anode['train']"
   ]
  },
  {
   "cell_type": "code",
   "execution_count": 12,
   "metadata": {
    "colab": {},
    "colab_type": "code",
    "id": "xHr3yje_8SXd"
   },
   "outputs": [],
   "source": [
    "anode_mnist_trainer = training.Trainer(model, optimizer, mnist_data, device)"
   ]
  },
  {
   "cell_type": "code",
   "execution_count": 13,
   "metadata": {
    "colab": {},
    "colab_type": "code",
    "id": "2n8oFbLt8SXg",
    "scrolled": true
   },
   "outputs": [
    {
     "name": "stdout",
     "output_type": "stream",
     "text": [
      "[Fold 1] Epoch:1 Training Acc:0.8815416666666667\n",
      "[Fold 1] Epoch:1 Validation Acc:0.947\n",
      "[Fold 1] Epoch:2 Training Acc:0.9654166666666667\n",
      "[Fold 1] Epoch:2 Validation Acc:0.9661666666666666\n",
      "[Fold 1] Epoch:3 Training Acc:0.9783541666666666\n",
      "[Fold 1] Epoch:3 Validation Acc:0.9696666666666667\n",
      "[Fold 1] Epoch:4 Training Acc:0.9835\n",
      "[Fold 1] Epoch:4 Validation Acc:0.9695\n",
      "[Fold 1] Epoch:5 Training Acc:0.9868958333333333\n",
      "[Fold 1] Epoch:5 Validation Acc:0.9688333333333333\n",
      "[Fold 1] Epoch:6 Training Acc:0.9841458333333334\n",
      "[Fold 1] Epoch:6 Validation Acc:0.9715\n",
      "[Fold 1] Epoch:7 Training Acc:0.9885625\n",
      "[Fold 1] Epoch:7 Validation Acc:0.9723333333333334\n",
      "[Fold 1] Epoch:8 Training Acc:0.991875\n",
      "[Fold 1] Epoch:8 Validation Acc:0.9711666666666666\n",
      "[Fold 1] Epoch:9 Training Acc:0.9909375\n",
      "[Fold 1] Epoch:9 Validation Acc:0.9706666666666667\n",
      "[Fold 1] Epoch:10 Training Acc:0.9921875\n",
      "[Fold 1] Epoch:10 Validation Acc:0.9726666666666667\n",
      "[Fold 1] Epoch:11 Training Acc:0.99325\n",
      "[Fold 1] Epoch:11 Validation Acc:0.9701666666666666\n",
      "[Fold 1] Epoch:12 Training Acc:0.9922083333333334\n",
      "[Fold 1] Epoch:12 Validation Acc:0.9746666666666667\n",
      "[Fold 1] Epoch:13 Training Acc:0.9929375\n",
      "[Fold 1] Epoch:13 Validation Acc:0.9696666666666667\n",
      "[Fold 1] Epoch:14 Training Acc:0.9938541666666667\n",
      "[Fold 1] Epoch:14 Validation Acc:0.9641666666666666\n",
      "[Fold 1] Epoch:15 Training Acc:0.991125\n",
      "[Fold 1] Epoch:15 Validation Acc:0.9746666666666667\n",
      "[Fold 1] Epoch:16 Training Acc:0.9935416666666667\n",
      "[Fold 1] Epoch:16 Validation Acc:0.9685\n",
      "[Fold 1] Epoch:17 Training Acc:0.9952916666666667\n",
      "[Fold 1] Epoch:17 Validation Acc:0.9738333333333333\n",
      "[Fold 1] Epoch:18 Training Acc:0.9976666666666667\n",
      "[Fold 1] Epoch:18 Validation Acc:0.9746666666666667\n",
      "[Fold 1] Epoch:19 Training Acc:0.9974375\n",
      "[Fold 1] Epoch:19 Validation Acc:0.975\n",
      "[Fold 1] Epoch:20 Training Acc:0.9979166666666667\n",
      "[Fold 1] Epoch:20 Validation Acc:0.9741666666666666\n",
      "[Fold 1] Epoch:21 Training Acc:0.9979583333333333\n",
      "[Fold 1] Epoch:21 Validation Acc:0.9763333333333334\n",
      "[Fold 1] Epoch:22 Training Acc:0.9946041666666666\n",
      "[Fold 1] Epoch:22 Validation Acc:0.9701666666666666\n",
      "[Fold 1] Epoch:23 Training Acc:0.9937083333333333\n",
      "[Fold 1] Epoch:23 Validation Acc:0.971\n",
      "[Fold 1] Epoch:24 Training Acc:0.9950416666666667\n",
      "[Fold 1] Epoch:24 Validation Acc:0.969\n",
      "[Fold 1] Epoch:25 Training Acc:0.9968125\n",
      "[Fold 1] Epoch:25 Validation Acc:0.975\n",
      "[Fold 1] Epoch:26 Training Acc:0.997625\n",
      "[Fold 1] Epoch:26 Validation Acc:0.9746666666666667\n",
      "[Fold 1] Epoch:27 Training Acc:0.9976666666666667\n",
      "[Fold 1] Epoch:27 Validation Acc:0.9735\n",
      "[Fold 1] Epoch:28 Training Acc:0.9977708333333334\n",
      "[Fold 1] Epoch:28 Validation Acc:0.9701666666666666\n",
      "[Fold 1] Epoch:29 Training Acc:0.9973541666666667\n",
      "[Fold 1] Epoch:29 Validation Acc:0.9746666666666667\n",
      "[Fold 1] Epoch:30 Training Acc:0.9973125\n",
      "[Fold 1] Epoch:30 Validation Acc:0.9711666666666666\n",
      "[Fold 2] Epoch:1 Training Acc:0.8711875\n",
      "[Fold 2] Epoch:1 Validation Acc:0.9486666666666667\n",
      "[Fold 2] Epoch:2 Training Acc:0.9635833333333333\n",
      "[Fold 2] Epoch:2 Validation Acc:0.9623333333333334\n",
      "[Fold 2] Epoch:3 Training Acc:0.9768958333333333\n",
      "[Fold 2] Epoch:3 Validation Acc:0.9681666666666666\n",
      "[Fold 2] Epoch:4 Training Acc:0.9813958333333334\n",
      "[Fold 2] Epoch:4 Validation Acc:0.9651666666666666\n",
      "[Fold 2] Epoch:5 Training Acc:0.9857708333333334\n",
      "[Fold 2] Epoch:5 Validation Acc:0.9678333333333333\n",
      "[Fold 2] Epoch:6 Training Acc:0.9858125\n",
      "[Fold 2] Epoch:6 Validation Acc:0.9706666666666667\n",
      "[Fold 2] Epoch:7 Training Acc:0.9870625\n",
      "[Fold 2] Epoch:7 Validation Acc:0.9675\n",
      "[Fold 2] Epoch:8 Training Acc:0.9883333333333333\n",
      "[Fold 2] Epoch:8 Validation Acc:0.966\n",
      "[Fold 2] Epoch:9 Training Acc:0.989375\n",
      "[Fold 2] Epoch:9 Validation Acc:0.967\n",
      "[Fold 2] Epoch:10 Training Acc:0.9923333333333333\n",
      "[Fold 2] Epoch:10 Validation Acc:0.9696666666666667\n",
      "[Fold 2] Epoch:11 Training Acc:0.9908333333333333\n",
      "[Fold 2] Epoch:11 Validation Acc:0.9653333333333334\n",
      "[Fold 2] Epoch:12 Training Acc:0.9913541666666666\n",
      "[Fold 2] Epoch:12 Validation Acc:0.9686666666666667\n",
      "[Fold 2] Epoch:13 Training Acc:0.9944583333333333\n",
      "[Fold 2] Epoch:13 Validation Acc:0.9728333333333333\n",
      "[Fold 2] Epoch:14 Training Acc:0.9942083333333334\n",
      "[Fold 2] Epoch:14 Validation Acc:0.9706666666666667\n",
      "[Fold 2] Epoch:15 Training Acc:0.9947083333333333\n",
      "[Fold 2] Epoch:15 Validation Acc:0.9711666666666666\n",
      "[Fold 2] Epoch:16 Training Acc:0.995375\n",
      "[Fold 2] Epoch:16 Validation Acc:0.9686666666666667\n",
      "[Fold 2] Epoch:17 Training Acc:0.9951875\n",
      "[Fold 2] Epoch:17 Validation Acc:0.9645\n",
      "[Fold 2] Epoch:18 Training Acc:0.99375\n",
      "[Fold 2] Epoch:18 Validation Acc:0.968\n",
      "[Fold 2] Epoch:19 Training Acc:0.9946666666666667\n",
      "[Fold 2] Epoch:19 Validation Acc:0.9716666666666667\n",
      "[Fold 2] Epoch:20 Training Acc:0.9951041666666667\n",
      "[Fold 2] Epoch:20 Validation Acc:0.9683333333333334\n",
      "[Fold 2] Epoch:21 Training Acc:0.9952916666666667\n",
      "[Fold 2] Epoch:21 Validation Acc:0.9725\n",
      "[Fold 2] Epoch:22 Training Acc:0.996625\n",
      "[Fold 2] Epoch:22 Validation Acc:0.969\n",
      "[Fold 2] Epoch:23 Training Acc:0.9968125\n",
      "[Fold 2] Epoch:23 Validation Acc:0.9728333333333333\n",
      "[Fold 2] Epoch:24 Training Acc:0.997625\n",
      "[Fold 2] Epoch:24 Validation Acc:0.9751666666666666\n",
      "[Fold 2] Epoch:25 Training Acc:0.9970833333333333\n",
      "[Fold 2] Epoch:25 Validation Acc:0.9713333333333334\n",
      "[Fold 2] Epoch:26 Training Acc:0.996375\n",
      "[Fold 2] Epoch:26 Validation Acc:0.9683333333333334\n",
      "[Fold 2] Epoch:27 Training Acc:0.9946875\n",
      "[Fold 2] Epoch:27 Validation Acc:0.9745\n",
      "[Fold 2] Epoch:28 Training Acc:0.9966666666666667\n",
      "[Fold 2] Epoch:28 Validation Acc:0.9765\n",
      "[Fold 2] Epoch:29 Training Acc:0.9985416666666667\n",
      "[Fold 2] Epoch:29 Validation Acc:0.9718333333333333\n",
      "[Fold 2] Epoch:30 Training Acc:0.9982083333333334\n",
      "[Fold 2] Epoch:30 Validation Acc:0.9735\n",
      "[Fold 3] Epoch:1 Training Acc:0.869875\n",
      "[Fold 3] Epoch:1 Validation Acc:0.948\n",
      "[Fold 3] Epoch:2 Training Acc:0.9636875\n",
      "[Fold 3] Epoch:2 Validation Acc:0.9635\n",
      "[Fold 3] Epoch:3 Training Acc:0.9758958333333333\n",
      "[Fold 3] Epoch:3 Validation Acc:0.9621666666666666\n",
      "[Fold 3] Epoch:4 Training Acc:0.9795208333333333\n",
      "[Fold 3] Epoch:4 Validation Acc:0.9728333333333333\n",
      "[Fold 3] Epoch:5 Training Acc:0.9840833333333333\n",
      "[Fold 3] Epoch:5 Validation Acc:0.9695\n",
      "[Fold 3] Epoch:6 Training Acc:0.9863958333333334\n",
      "[Fold 3] Epoch:6 Validation Acc:0.969\n",
      "[Fold 3] Epoch:7 Training Acc:0.9890416666666667\n",
      "[Fold 3] Epoch:7 Validation Acc:0.9715\n",
      "[Fold 3] Epoch:8 Training Acc:0.989125\n",
      "[Fold 3] Epoch:8 Validation Acc:0.9726666666666667\n",
      "[Fold 3] Epoch:9 Training Acc:0.992375\n",
      "[Fold 3] Epoch:9 Validation Acc:0.9701666666666666\n",
      "[Fold 3] Epoch:10 Training Acc:0.991625\n",
      "[Fold 3] Epoch:10 Validation Acc:0.9655\n",
      "[Fold 3] Epoch:11 Training Acc:0.991875\n",
      "[Fold 3] Epoch:11 Validation Acc:0.9681666666666666\n",
      "[Fold 3] Epoch:12 Training Acc:0.9898125\n",
      "[Fold 3] Epoch:12 Validation Acc:0.9683333333333334\n",
      "[Fold 3] Epoch:13 Training Acc:0.9928541666666667\n",
      "[Fold 3] Epoch:13 Validation Acc:0.9693333333333334\n",
      "[Fold 3] Epoch:14 Training Acc:0.9950208333333334\n",
      "[Fold 3] Epoch:14 Validation Acc:0.9698333333333333\n",
      "[Fold 3] Epoch:15 Training Acc:0.9968333333333333\n",
      "[Fold 3] Epoch:15 Validation Acc:0.9685\n",
      "[Fold 3] Epoch:16 Training Acc:0.9960208333333334\n",
      "[Fold 3] Epoch:16 Validation Acc:0.97\n",
      "[Fold 3] Epoch:17 Training Acc:0.9957916666666666\n",
      "[Fold 3] Epoch:17 Validation Acc:0.9685\n",
      "[Fold 3] Epoch:18 Training Acc:0.992875\n",
      "[Fold 3] Epoch:18 Validation Acc:0.9678333333333333\n",
      "[Fold 3] Epoch:19 Training Acc:0.9950208333333334\n",
      "[Fold 3] Epoch:19 Validation Acc:0.969\n",
      "[Fold 3] Epoch:20 Training Acc:0.99525\n",
      "[Fold 3] Epoch:20 Validation Acc:0.9703333333333334\n",
      "[Fold 3] Epoch:21 Training Acc:0.9969791666666666\n",
      "[Fold 3] Epoch:21 Validation Acc:0.9718333333333333\n",
      "[Fold 3] Epoch:22 Training Acc:0.9972916666666667\n",
      "[Fold 3] Epoch:22 Validation Acc:0.9703333333333334\n",
      "[Fold 3] Epoch:23 Training Acc:0.9960416666666667\n",
      "[Fold 3] Epoch:23 Validation Acc:0.9728333333333333\n",
      "[Fold 3] Epoch:24 Training Acc:0.99525\n",
      "[Fold 3] Epoch:24 Validation Acc:0.97\n",
      "[Fold 3] Epoch:25 Training Acc:0.9960833333333333\n",
      "[Fold 3] Epoch:25 Validation Acc:0.969\n",
      "[Fold 3] Epoch:26 Training Acc:0.9972916666666667\n",
      "[Fold 3] Epoch:26 Validation Acc:0.9713333333333334\n",
      "[Fold 3] Epoch:27 Training Acc:0.9970625\n",
      "[Fold 3] Epoch:27 Validation Acc:0.9636666666666667\n",
      "[Fold 3] Epoch:28 Training Acc:0.9978541666666667\n",
      "[Fold 3] Epoch:28 Validation Acc:0.9721666666666666\n"
     ]
    },
    {
     "name": "stdout",
     "output_type": "stream",
     "text": [
      "[Fold 3] Epoch:29 Training Acc:0.997875\n",
      "[Fold 3] Epoch:29 Validation Acc:0.9706666666666667\n",
      "[Fold 3] Epoch:30 Training Acc:0.9971458333333333\n",
      "[Fold 3] Epoch:30 Validation Acc:0.968\n",
      "[Fold 4] Epoch:1 Training Acc:0.8725833333333334\n",
      "[Fold 4] Epoch:1 Validation Acc:0.9491666666666667\n",
      "[Fold 4] Epoch:2 Training Acc:0.9675\n",
      "[Fold 4] Epoch:2 Validation Acc:0.9656666666666667\n",
      "[Fold 4] Epoch:3 Training Acc:0.9794166666666667\n",
      "[Fold 4] Epoch:3 Validation Acc:0.9683333333333334\n",
      "[Fold 4] Epoch:4 Training Acc:0.9812916666666667\n",
      "[Fold 4] Epoch:4 Validation Acc:0.9695\n",
      "[Fold 4] Epoch:5 Training Acc:0.9859583333333334\n",
      "[Fold 4] Epoch:5 Validation Acc:0.9706666666666667\n",
      "[Fold 4] Epoch:6 Training Acc:0.9884375\n",
      "[Fold 4] Epoch:6 Validation Acc:0.966\n",
      "[Fold 4] Epoch:7 Training Acc:0.9906458333333333\n",
      "[Fold 4] Epoch:7 Validation Acc:0.969\n",
      "[Fold 4] Epoch:8 Training Acc:0.9897708333333334\n",
      "[Fold 4] Epoch:8 Validation Acc:0.968\n",
      "[Fold 4] Epoch:9 Training Acc:0.9904583333333333\n",
      "[Fold 4] Epoch:9 Validation Acc:0.9628333333333333\n",
      "[Fold 4] Epoch:10 Training Acc:0.992125\n",
      "[Fold 4] Epoch:10 Validation Acc:0.9711666666666666\n",
      "[Fold 4] Epoch:11 Training Acc:0.9927916666666666\n",
      "[Fold 4] Epoch:11 Validation Acc:0.9706666666666667\n",
      "[Fold 4] Epoch:12 Training Acc:0.9946666666666667\n",
      "[Fold 4] Epoch:12 Validation Acc:0.9648333333333333\n",
      "[Fold 4] Epoch:13 Training Acc:0.9945208333333333\n",
      "[Fold 4] Epoch:13 Validation Acc:0.9696666666666667\n",
      "[Fold 4] Epoch:14 Training Acc:0.9949583333333333\n",
      "[Fold 4] Epoch:14 Validation Acc:0.9718333333333333\n",
      "[Fold 4] Epoch:15 Training Acc:0.9939166666666667\n",
      "[Fold 4] Epoch:15 Validation Acc:0.9705\n",
      "[Fold 4] Epoch:16 Training Acc:0.9926458333333333\n",
      "[Fold 4] Epoch:16 Validation Acc:0.9706666666666667\n",
      "[Fold 4] Epoch:17 Training Acc:0.9953541666666667\n",
      "[Fold 4] Epoch:17 Validation Acc:0.9711666666666666\n",
      "[Fold 4] Epoch:18 Training Acc:0.9970833333333333\n",
      "[Fold 4] Epoch:18 Validation Acc:0.9713333333333334\n",
      "[Fold 4] Epoch:19 Training Acc:0.998875\n",
      "[Fold 4] Epoch:19 Validation Acc:0.9736666666666667\n",
      "[Fold 4] Epoch:20 Training Acc:0.9990416666666667\n",
      "[Fold 4] Epoch:20 Validation Acc:0.976\n",
      "[Fold 4] Epoch:21 Training Acc:0.9989583333333333\n",
      "[Fold 4] Epoch:21 Validation Acc:0.9743333333333334\n",
      "[Fold 4] Epoch:22 Training Acc:0.9963333333333333\n",
      "[Fold 4] Epoch:22 Validation Acc:0.968\n",
      "[Fold 4] Epoch:23 Training Acc:0.9927291666666667\n",
      "[Fold 4] Epoch:23 Validation Acc:0.9685\n",
      "[Fold 4] Epoch:24 Training Acc:0.9936041666666666\n",
      "[Fold 4] Epoch:24 Validation Acc:0.9698333333333333\n",
      "[Fold 4] Epoch:25 Training Acc:0.99575\n",
      "[Fold 4] Epoch:25 Validation Acc:0.9748333333333333\n",
      "[Fold 4] Epoch:26 Training Acc:0.998625\n",
      "[Fold 4] Epoch:26 Validation Acc:0.9778333333333333\n",
      "[Fold 4] Epoch:27 Training Acc:0.9995208333333333\n",
      "[Fold 4] Epoch:27 Validation Acc:0.9766666666666667\n",
      "[Fold 4] Epoch:28 Training Acc:0.9995625\n",
      "[Fold 4] Epoch:28 Validation Acc:0.9781666666666666\n",
      "[Fold 4] Epoch:29 Training Acc:0.9998958333333333\n",
      "[Fold 4] Epoch:29 Validation Acc:0.9766666666666667\n",
      "[Fold 4] Epoch:30 Training Acc:0.9994791666666667\n",
      "[Fold 4] Epoch:30 Validation Acc:0.975\n",
      "[Fold 5] Epoch:1 Training Acc:0.8781875\n",
      "[Fold 5] Epoch:1 Validation Acc:0.9471666666666667\n",
      "[Fold 5] Epoch:2 Training Acc:0.9670208333333333\n",
      "[Fold 5] Epoch:2 Validation Acc:0.9631666666666666\n",
      "[Fold 5] Epoch:3 Training Acc:0.9762708333333333\n",
      "[Fold 5] Epoch:3 Validation Acc:0.9606666666666667\n",
      "[Fold 5] Epoch:4 Training Acc:0.9831666666666666\n",
      "[Fold 5] Epoch:4 Validation Acc:0.972\n",
      "[Fold 5] Epoch:5 Training Acc:0.9853541666666666\n",
      "[Fold 5] Epoch:5 Validation Acc:0.97\n",
      "[Fold 5] Epoch:6 Training Acc:0.9876458333333333\n",
      "[Fold 5] Epoch:6 Validation Acc:0.9726666666666667\n",
      "[Fold 5] Epoch:7 Training Acc:0.9881041666666667\n",
      "[Fold 5] Epoch:7 Validation Acc:0.9696666666666667\n",
      "[Fold 5] Epoch:8 Training Acc:0.9893541666666666\n",
      "[Fold 5] Epoch:8 Validation Acc:0.9688333333333333\n",
      "[Fold 5] Epoch:9 Training Acc:0.9907916666666666\n",
      "[Fold 5] Epoch:9 Validation Acc:0.9723333333333334\n",
      "[Fold 5] Epoch:10 Training Acc:0.9899166666666667\n",
      "[Fold 5] Epoch:10 Validation Acc:0.9626666666666667\n",
      "[Fold 5] Epoch:11 Training Acc:0.9920208333333334\n",
      "[Fold 5] Epoch:11 Validation Acc:0.9753333333333334\n",
      "[Fold 5] Epoch:12 Training Acc:0.9911875\n",
      "[Fold 5] Epoch:12 Validation Acc:0.9696666666666667\n",
      "[Fold 5] Epoch:13 Training Acc:0.9903125\n",
      "[Fold 5] Epoch:13 Validation Acc:0.973\n",
      "[Fold 5] Epoch:14 Training Acc:0.996625\n",
      "[Fold 5] Epoch:14 Validation Acc:0.9738333333333333\n",
      "[Fold 5] Epoch:15 Training Acc:0.9973541666666667\n",
      "[Fold 5] Epoch:15 Validation Acc:0.9731666666666666\n",
      "[Fold 5] Epoch:16 Training Acc:0.9947916666666666\n",
      "[Fold 5] Epoch:16 Validation Acc:0.9736666666666667\n",
      "[Fold 5] Epoch:17 Training Acc:0.9956666666666667\n",
      "[Fold 5] Epoch:17 Validation Acc:0.9736666666666667\n",
      "[Fold 5] Epoch:18 Training Acc:0.9929166666666667\n",
      "[Fold 5] Epoch:18 Validation Acc:0.9656666666666667\n",
      "[Fold 5] Epoch:19 Training Acc:0.993\n",
      "[Fold 5] Epoch:19 Validation Acc:0.9758333333333333\n",
      "[Fold 5] Epoch:20 Training Acc:0.99525\n",
      "[Fold 5] Epoch:20 Validation Acc:0.9785\n",
      "[Fold 5] Epoch:21 Training Acc:0.9979791666666666\n",
      "[Fold 5] Epoch:21 Validation Acc:0.9775\n",
      "[Fold 5] Epoch:22 Training Acc:0.9980208333333334\n",
      "[Fold 5] Epoch:22 Validation Acc:0.9731666666666666\n",
      "[Fold 5] Epoch:23 Training Acc:0.996875\n",
      "[Fold 5] Epoch:23 Validation Acc:0.974\n",
      "[Fold 5] Epoch:24 Training Acc:0.9967708333333334\n",
      "[Fold 5] Epoch:24 Validation Acc:0.9703333333333334\n",
      "[Fold 5] Epoch:25 Training Acc:0.9961041666666667\n",
      "[Fold 5] Epoch:25 Validation Acc:0.9743333333333334\n",
      "[Fold 5] Epoch:26 Training Acc:0.995\n",
      "[Fold 5] Epoch:26 Validation Acc:0.9761666666666666\n",
      "[Fold 5] Epoch:27 Training Acc:0.9960208333333334\n",
      "[Fold 5] Epoch:27 Validation Acc:0.9751666666666666\n",
      "[Fold 5] Epoch:28 Training Acc:0.9969791666666666\n",
      "[Fold 5] Epoch:28 Validation Acc:0.9761666666666666\n",
      "[Fold 5] Epoch:29 Training Acc:0.9974791666666667\n",
      "[Fold 5] Epoch:29 Validation Acc:0.9778333333333333\n",
      "[Fold 5] Epoch:30 Training Acc:0.9981666666666666\n",
      "[Fold 5] Epoch:30 Validation Acc:0.976\n",
      "Best Fold Validation Results: [0.97117 0.9735  0.968   0.975   0.976  ]\n",
      "Finished Cross Validation Training\n"
     ]
    }
   ],
   "source": [
    "anode_mnist_trainer.train(model_params, lr, epochs, batch, workers, verbose=False)"
   ]
  },
  {
   "cell_type": "code",
   "execution_count": 14,
   "metadata": {
    "colab": {},
    "colab_type": "code",
    "id": "jiuHNdvB8SXk"
   },
   "outputs": [
    {
     "name": "stdout",
     "output_type": "stream",
     "text": [
      "[Fold: 1] Testing Acc: 0.9733333333333334\n",
      "[Fold: 2] Testing Acc: 0.9781666666666666\n",
      "[Fold: 3] Testing Acc: 0.9621666666666666\n",
      "[Fold: 4] Testing Acc: 0.975\n",
      "[Fold: 5] Testing Acc: 0.9736666666666667\n"
     ]
    }
   ],
   "source": [
    "anode_mnist_trainer.test(model_params, batch, workers)"
   ]
  },
  {
   "cell_type": "markdown",
   "metadata": {
    "colab_type": "text",
    "id": "wGgHkOi_8SXn"
   },
   "source": [
    "# Plots"
   ]
  },
  {
   "cell_type": "code",
   "execution_count": 15,
   "metadata": {
    "colab": {},
    "colab_type": "code",
    "id": "-FNGPKcY8SXp"
   },
   "outputs": [],
   "source": [
    "node_mnist_trainer.val_metrics['legend'] = 'NODE'\n",
    "anode_mnist_trainer.val_metrics['legend'] = 'ANODE'\n",
    "out_metrics = [node_mnist_trainer.val_metrics, anode_mnist_trainer.val_metrics]"
   ]
  },
  {
   "cell_type": "code",
   "execution_count": 16,
   "metadata": {
    "colab": {},
    "colab_type": "code",
    "id": "r383tJc08SXs"
   },
   "outputs": [],
   "source": [
    "plt = metrics.Plotter(out_metrics)"
   ]
  },
  {
   "cell_type": "code",
   "execution_count": 17,
   "metadata": {
    "colab": {
     "base_uri": "https://localhost:8080/",
     "height": 350
    },
    "colab_type": "code",
    "executionInfo": {
     "elapsed": 560,
     "status": "ok",
     "timestamp": 1576371616822,
     "user": {
      "displayName": "Luca Zarow",
      "photoUrl": "",
      "userId": "14073072145030216948"
     },
     "user_tz": 300
    },
    "id": "yqplRgKL8SXw",
    "outputId": "313f035d-c55e-4f0d-eb65-50d1e3f4b6a3"
   },
   "outputs": [
    {
     "data": {
      "image/png": "[encoded data removed]",
      "text/plain": [
       "<Figure size 360x360 with 1 Axes>"
      ]
     },
     "metadata": {
      "needs_background": "light"
     },
     "output_type": "display_data"
    }
   ],
   "source": [
    "plt.plotLoss(\"Optimized Model Validation Loss Comparisons\")"
   ]
  },
  {
   "cell_type": "code",
   "execution_count": 18,
   "metadata": {
    "colab": {
     "base_uri": "https://localhost:8080/",
     "height": 350
    },
    "colab_type": "code",
    "executionInfo": {
     "elapsed": 508,
     "status": "ok",
     "timestamp": 1576371620239,
     "user": {
      "displayName": "Luca Zarow",
      "photoUrl": "",
      "userId": "14073072145030216948"
     },
     "user_tz": 300
    },
    "id": "CtQCM5BB8SX2",
    "outputId": "fe550a3c-2898-4e4e-af98-54566dcac557"
   },
   "outputs": [
    {
     "data": {
      "image/png": "[encoded data removed]",
      "text/plain": [
       "<Figure size 360x360 with 1 Axes>"
      ]
     },
     "metadata": {
      "needs_background": "light"
     },
     "output_type": "display_data"
    }
   ],
   "source": [
    "plt.plotAccuracy(\"Optimized Model Validation Accuracy Comparisons\")"
   ]
  },
  {
   "cell_type": "code",
   "execution_count": 21,
   "metadata": {
    "colab": {
     "base_uri": "https://localhost:8080/",
     "height": 350
    },
    "colab_type": "code",
    "executionInfo": {
     "elapsed": 462,
     "status": "ok",
     "timestamp": 1576371623537,
     "user": {
      "displayName": "Luca Zarow",
      "photoUrl": "",
      "userId": "14073072145030216948"
     },
     "user_tz": 300
    },
    "id": "wI6HtUu-KsM4",
    "outputId": "9a875495-2121-4b60-d706-d4f0928d3ffc"
   },
   "outputs": [
    {
     "data": {
      "image/png": "[encoded data removed]",
      "text/plain": [
       "<Figure size 360x360 with 1 Axes>"
      ]
     },
     "metadata": {
      "needs_background": "light"
     },
     "output_type": "display_data"
    }
   ],
   "source": [
    "plt.plotNFE(\"Loss vs NFE\", style='loss')"
   ]
  },
  {
   "cell_type": "code",
   "execution_count": 20,
   "metadata": {
    "colab": {
     "base_uri": "https://localhost:8080/",
     "height": 350
    },
    "colab_type": "code",
    "executionInfo": {
     "elapsed": 418,
     "status": "ok",
     "timestamp": 1576371626311,
     "user": {
      "displayName": "Luca Zarow",
      "photoUrl": "",
      "userId": "14073072145030216948"
     },
     "user_tz": 300
    },
    "id": "70LBnOA-Ks2T",
    "outputId": "b84b893d-fab2-4430-80ea-474ea96b4c20"
   },
   "outputs": [
    {
     "data": {
      "image/png": "[encoded data removed]",
      "text/plain": [
       "<Figure size 360x360 with 1 Axes>"
      ]
     },
     "metadata": {
      "needs_background": "light"
     },
     "output_type": "display_data"
    }
   ],
   "source": [
    "plt.plotNFE(\"Accuracy vs NFE\", style='accuracy')"
   ]
  }
 ],
 "metadata": {
  "accelerator": "GPU",
  "colab": {
   "collapsed_sections": [],
   "name": "MNIST_baseline_analysis.ipynb",
   "provenance": []
  },
  "kernelspec": {
   "display_name": "Python 3",
   "language": "python",
   "name": "python3"
  },
  "language_info": {
   "codemirror_mode": {
    "name": "ipython",
    "version": 3
   },
   "file_extension": ".py",
   "mimetype": "text/x-python",
   "name": "python",
   "nbconvert_exporter": "python",
   "pygments_lexer": "ipython3",
   "version": "3.5.2"
  }
 },
 "nbformat": 4,
 "nbformat_minor": 1
}
