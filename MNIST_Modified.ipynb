{
 "cells": [
  {
   "cell_type": "markdown",
   "metadata": {
    "colab_type": "text",
    "id": "ZgSzsOKH8SWm"
   },
   "source": [
    "# Imports"
   ]
  },
  {
   "cell_type": "code",
   "execution_count": 1,
   "metadata": {
    "colab": {},
    "colab_type": "code",
    "id": "DzxO-GAh8SWo"
   },
   "outputs": [],
   "source": [
    "import torch\n",
    "import torch.optim as optim\n",
    "from torch import nn\n",
    "from torchdiffeq import odeint_adjoint\n",
    "import numpy as np\n",
    "import loader\n",
    "import training\n",
    "import metrics\n",
    "import autotune\n",
    "import config"
   ]
  },
  {
   "cell_type": "markdown",
   "metadata": {
    "colab_type": "text",
    "id": "IgXtJxU28SWt"
   },
   "source": [
    "# GPU"
   ]
  },
  {
   "cell_type": "code",
   "execution_count": 2,
   "metadata": {
    "colab": {},
    "colab_type": "code",
    "id": "gpkO6iWr8SWu"
   },
   "outputs": [],
   "source": [
    "device = torch.device(\"cuda\")"
   ]
  },
  {
   "cell_type": "markdown",
   "metadata": {
    "colab_type": "text",
    "id": "Z626Y47A8SWy"
   },
   "source": [
    "# Data Loading"
   ]
  },
  {
   "cell_type": "code",
   "execution_count": 3,
   "metadata": {
    "colab": {},
    "colab_type": "code",
    "id": "Uhn_bZjv8SWz"
   },
   "outputs": [],
   "source": [
    "mnist_data_path = './train-images-idx3-ubyte'\n",
    "mnist_label_path = './train-labels-idx1-ubyte'"
   ]
  },
  {
   "cell_type": "code",
   "execution_count": 4,
   "metadata": {
    "colab": {},
    "colab_type": "code",
    "id": "dSYZKcCm8SW3"
   },
   "outputs": [],
   "source": [
    "#5-fold generation\n",
    "mnist_data = loader.MNIST(mnist_data_path, mnist_label_path, 5)\n",
    "mnist_splits = mnist_data.splits"
   ]
  },
  {
   "cell_type": "code",
   "execution_count": 5,
   "metadata": {
    "colab": {
     "base_uri": "https://localhost:8080/",
     "height": 101
    },
    "colab_type": "code",
    "executionInfo": {
     "elapsed": 6237,
     "status": "ok",
     "timestamp": 1576346432954,
     "user": {
      "displayName": "Luca Zarow",
      "photoUrl": "",
      "userId": "14073072145030216948"
     },
     "user_tz": 300
    },
    "id": "b-ecW2568SW6",
    "outputId": "5c5ca1f7-f327-4f90-a3e5-bfa311290931"
   },
   "outputs": [
    {
     "name": "stdout",
     "output_type": "stream",
     "text": [
      "MNIST STATS\n",
      "Number of splits: 5\n",
      "Number of segments per split (train, val, test): 3\n",
      "Info per segment (data, labels): 2\n",
      "Size of segement (num examples): 48000\n"
     ]
    }
   ],
   "source": [
    "print(\"MNIST STATS\")\n",
    "print(\"Number of splits:\", len(mnist_splits))\n",
    "print(\"Number of segments per split (train, val, test):\", len(mnist_splits[0]))\n",
    "print(\"Info per segment (data, labels):\", len(mnist_splits[0][0]))\n",
    "print(\"Size of segement (num examples):\", len(mnist_splits[0][0][0]))"
   ]
  },
  {
   "cell_type": "markdown",
   "metadata": {
    "colab_type": "text",
    "id": "Gtkhbw0K8SW-"
   },
   "source": [
    "# Model & Optimizer"
   ]
  },
  {
   "cell_type": "code",
   "execution_count": 6,
   "metadata": {},
   "outputs": [],
   "source": [
    "MAX_NUM_STEPS = 1000\n",
    "\n",
    "class NeuralODE(nn.Module):\n",
    "    # Note certain parameters are constant throughout paper experiments and so are used directly, namely:\n",
    "    # time_dependent = True\n",
    "    # non_linearity = 'relu'\n",
    "    # adjoint = True\n",
    "    def __init__(self, in_channels, height, width, num_filters, \n",
    "                 out_dim=10, augmented_dim=0, tolerance=1e-3):\n",
    "        super(NeuralODE, self).__init__()\n",
    "\n",
    "        flattened_dim = (in_channels + augmented_dim) * height * width\n",
    "\n",
    "        function = ODEConv(in_channels, num_filters, augmented_dim)\n",
    "\n",
    "        self.block_ODE = ODEBlock(function, tolerance)\n",
    "        self.block_linear = nn.Linear(augmented_dim + 1, out_dim)\n",
    "        self.gap = nn.AdaptiveAvgPool2d(1)\n",
    "        \n",
    "    def forward(self, x):\n",
    "        x = self.block_ODE(x)\n",
    "        x = self.gap(x)\n",
    "        x = x.view(x.size(0), -1)\n",
    "        x = self.block_linear(x)\n",
    "\n",
    "        return x\n",
    "\n",
    "\n",
    "class ODEBlock(nn.Module):\n",
    "    # is_conv = true\n",
    "    # adjoint = False\n",
    "    def __init__(self, function, tolerance):\n",
    "        super(ODEBlock, self).__init__()\n",
    "        self.function = function\n",
    "        self.tolerance = tolerance\n",
    "\n",
    "    # eval_times=None (since not plotting convolution trajectory)\n",
    "    def forward(self, x):\n",
    "        self.function.nfe = 0\n",
    "\n",
    "        #Only need final result of convolution for plots\n",
    "        integration_time = torch.tensor([0, 1]).float().type_as(x)\n",
    "\n",
    "        #if ANODE\n",
    "        if self.function.augmented_dim > 0:\n",
    "            batch_size, channels, height, width = x.shape\n",
    "            aug = torch.zeros(batch_size, self.function.augmented_dim,\n",
    "                              height, width).to(\"cuda\")\n",
    "            x_aug = torch.cat([x, aug], 1)\n",
    "        else:\n",
    "            x_aug = x\n",
    "\n",
    "        x = odeint_adjoint(self.function, x_aug, integration_time,\n",
    "                           rtol=self.tolerance, atol=self.tolerance, method='dopri5',\n",
    "                           options={'max_num_steps': MAX_NUM_STEPS})\n",
    "        return x[1]\n",
    "\n",
    "class ODEConv(nn.Module):  \n",
    "    # time_dependent = True\n",
    "    # non_linearity = 'relu'\n",
    "    def __init__(self, in_channels, num_filters, augmented_dim): \n",
    "        super(ODEConv, self).__init__()\n",
    "        self.nfe = 0  # Number of function evaluations\n",
    "        self.augmented_dim = augmented_dim\n",
    "        \n",
    "        channels = in_channels + augmented_dim\n",
    "       \n",
    "        self.block_conv1 = Conv2dTime(channels, num_filters,\n",
    "                                kernel_size=3, stride=1, padding=1)\n",
    "        self.block_conv2 = Conv2dTime(num_filters, num_filters,\n",
    "                                kernel_size=3, stride=1, padding=1)\n",
    "        self.block_conv3 = Conv2dTime(num_filters, channels,\n",
    "                                kernel_size=3, stride=1, padding=1)\n",
    "\n",
    "        self.block_non_linear = nn.ReLU(inplace=True)\n",
    "\n",
    "    def forward(self, t, x):\n",
    "        self.nfe += 1\n",
    "\n",
    "        x = self.block_conv1(t, x)\n",
    "        x = self.block_non_linear(x)\n",
    "        x = self.block_conv2(t, x)\n",
    "        x = self.block_non_linear(x)\n",
    "        x = self.block_conv3(t, x)\n",
    "        return x\n",
    "\n",
    "# (Dupont et al. [2019])\n",
    "class Conv2dTime(nn.Conv2d):\n",
    "    \"\"\"\n",
    "    Implements time dependent 2d convolutions, by appending the time variable as\n",
    "    an extra channel.\n",
    "    \"\"\"\n",
    "    def __init__(self, in_channels, *args, **kwargs):\n",
    "        super(Conv2dTime, self).__init__(in_channels + 1, *args, **kwargs)\n",
    "\n",
    "    def forward(self, t, x):\n",
    "        # Shape (batch_size, 1, height, width)\n",
    "        t_img = torch.ones_like(x[:, :1, :, :]) * t\n",
    "        # Shape (batch_size, channels + 1, height, width)\n",
    "        t_and_x = torch.cat([t_img, x], 1)\n",
    "        return super(Conv2dTime, self).forward(t_and_x)\n"
   ]
  },
  {
   "cell_type": "code",
   "execution_count": 7,
   "metadata": {
    "colab": {},
    "colab_type": "code",
    "id": "4FsoNMPl8SXA",
    "scrolled": false
   },
   "outputs": [],
   "source": [
    "model = NeuralODE\n",
    "optimizer = optim.Adam"
   ]
  },
  {
   "cell_type": "markdown",
   "metadata": {
    "colab_type": "text",
    "id": "KtCPdvTB8SXD"
   },
   "source": [
    "# Training and Evaluation"
   ]
  },
  {
   "cell_type": "markdown",
   "metadata": {
    "colab_type": "text",
    "id": "sXG9YMIE8SXE"
   },
   "source": [
    "## MNIST"
   ]
  },
  {
   "cell_type": "markdown",
   "metadata": {
    "colab_type": "text",
    "id": "gf6nacMI8SXF"
   },
   "source": [
    "### ANODE"
   ]
  },
  {
   "cell_type": "code",
   "execution_count": 8,
   "metadata": {
    "colab": {},
    "colab_type": "code",
    "id": "b0h2sVCv8SXa"
   },
   "outputs": [],
   "source": [
    "model_params = config.config_mnist_modified['model']\n",
    "lr, epochs, batch, workers = config.config_mnist_modified['train']"
   ]
  },
  {
   "cell_type": "code",
   "execution_count": 9,
   "metadata": {
    "colab": {},
    "colab_type": "code",
    "id": "xHr3yje_8SXd"
   },
   "outputs": [],
   "source": [
    "anode_mnist_trainer = training.Trainer(model, optimizer, mnist_data, device)"
   ]
  },
  {
   "cell_type": "code",
   "execution_count": null,
   "metadata": {
    "colab": {},
    "colab_type": "code",
    "id": "2n8oFbLt8SXg",
    "scrolled": true
   },
   "outputs": [
    {
     "name": "stdout",
     "output_type": "stream",
     "text": [
      "[Fold 1] Epoch:1 Training Acc:0.2839583333333333\n",
      "[Fold 1] Epoch:1 Validation Acc:0.45366666666666666\n",
      "[Fold 1] Epoch:2 Training Acc:0.5578541666666667\n",
      "[Fold 1] Epoch:2 Validation Acc:0.6576666666666666\n",
      "[Fold 1] Epoch:3 Training Acc:0.7570208333333334\n",
      "[Fold 1] Epoch:3 Validation Acc:0.8405\n",
      "[Fold 1] Epoch:4 Training Acc:0.878625\n",
      "[Fold 1] Epoch:4 Validation Acc:0.9275\n",
      "[Fold 1] Epoch:5 Training Acc:0.9203125\n",
      "[Fold 1] Epoch:5 Validation Acc:0.9268333333333333\n",
      "[Fold 1] Epoch:6 Training Acc:0.9345625\n",
      "[Fold 1] Epoch:6 Validation Acc:0.9376666666666666\n"
     ]
    }
   ],
   "source": [
    "anode_mnist_trainer.train(model_params, lr, epochs, batch, workers, verbose=False)"
   ]
  },
  {
   "cell_type": "code",
   "execution_count": null,
   "metadata": {
    "colab": {},
    "colab_type": "code",
    "id": "jiuHNdvB8SXk"
   },
   "outputs": [],
   "source": [
    "anode_mnist_trainer.test(model_params, batch, workers)"
   ]
  },
  {
   "cell_type": "markdown",
   "metadata": {
    "colab_type": "text",
    "id": "wGgHkOi_8SXn"
   },
   "source": [
    "# Plots"
   ]
  },
  {
   "cell_type": "code",
   "execution_count": null,
   "metadata": {
    "colab": {},
    "colab_type": "code",
    "id": "-FNGPKcY8SXp"
   },
   "outputs": [],
   "source": [
    "anode_mnist_trainer.val_metrics['legend'] = 'ANODE'\n",
    "out_metrics = [anode_mnist_trainer.val_metrics]"
   ]
  },
  {
   "cell_type": "code",
   "execution_count": null,
   "metadata": {
    "colab": {},
    "colab_type": "code",
    "id": "r383tJc08SXs"
   },
   "outputs": [],
   "source": [
    "plt = metrics.Plotter(out_metrics)"
   ]
  },
  {
   "cell_type": "code",
   "execution_count": null,
   "metadata": {
    "colab": {
     "base_uri": "https://localhost:8080/",
     "height": 350
    },
    "colab_type": "code",
    "executionInfo": {
     "elapsed": 560,
     "status": "ok",
     "timestamp": 1576371616822,
     "user": {
      "displayName": "Luca Zarow",
      "photoUrl": "",
      "userId": "14073072145030216948"
     },
     "user_tz": 300
    },
    "id": "yqplRgKL8SXw",
    "outputId": "313f035d-c55e-4f0d-eb65-50d1e3f4b6a3"
   },
   "outputs": [],
   "source": [
    "plt.plotLoss(\"Optimized Model Validation Loss Comparisons\")"
   ]
  },
  {
   "cell_type": "code",
   "execution_count": null,
   "metadata": {
    "colab": {
     "base_uri": "https://localhost:8080/",
     "height": 350
    },
    "colab_type": "code",
    "executionInfo": {
     "elapsed": 508,
     "status": "ok",
     "timestamp": 1576371620239,
     "user": {
      "displayName": "Luca Zarow",
      "photoUrl": "",
      "userId": "14073072145030216948"
     },
     "user_tz": 300
    },
    "id": "CtQCM5BB8SX2",
    "outputId": "fe550a3c-2898-4e4e-af98-54566dcac557"
   },
   "outputs": [],
   "source": [
    "plt.plotAccuracy(\"Optimized Model Validation Accuracy Comparisons\")"
   ]
  },
  {
   "cell_type": "code",
   "execution_count": null,
   "metadata": {
    "colab": {
     "base_uri": "https://localhost:8080/",
     "height": 350
    },
    "colab_type": "code",
    "executionInfo": {
     "elapsed": 462,
     "status": "ok",
     "timestamp": 1576371623537,
     "user": {
      "displayName": "Luca Zarow",
      "photoUrl": "",
      "userId": "14073072145030216948"
     },
     "user_tz": 300
    },
    "id": "wI6HtUu-KsM4",
    "outputId": "9a875495-2121-4b60-d706-d4f0928d3ffc"
   },
   "outputs": [],
   "source": [
    "plt.plotNFE(\"Loss vs NFE\", style='loss')"
   ]
  },
  {
   "cell_type": "code",
   "execution_count": null,
   "metadata": {
    "colab": {
     "base_uri": "https://localhost:8080/",
     "height": 350
    },
    "colab_type": "code",
    "executionInfo": {
     "elapsed": 418,
     "status": "ok",
     "timestamp": 1576371626311,
     "user": {
      "displayName": "Luca Zarow",
      "photoUrl": "",
      "userId": "14073072145030216948"
     },
     "user_tz": 300
    },
    "id": "70LBnOA-Ks2T",
    "outputId": "b84b893d-fab2-4430-80ea-474ea96b4c20"
   },
   "outputs": [],
   "source": [
    "plt.plotNFE(\"Accuracy vs NFE\", style='accuracy')"
   ]
  }
 ],
 "metadata": {
  "accelerator": "GPU",
  "colab": {
   "collapsed_sections": [],
   "name": "MNIST_baseline_analysis.ipynb",
   "provenance": []
  },
  "kernelspec": {
   "display_name": "Python 3",
   "language": "python",
   "name": "python3"
  },
  "language_info": {
   "codemirror_mode": {
    "name": "ipython",
    "version": 3
   },
   "file_extension": ".py",
   "mimetype": "text/x-python",
   "name": "python",
   "nbconvert_exporter": "python",
   "pygments_lexer": "ipython3",
   "version": "3.5.2"
  }
 },
 "nbformat": 4,
 "nbformat_minor": 1
}
